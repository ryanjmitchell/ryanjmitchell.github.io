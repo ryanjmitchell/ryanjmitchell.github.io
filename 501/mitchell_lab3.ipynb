{
 "cells": [
  {
   "cell_type": "code",
   "execution_count": 3,
   "metadata": {},
   "outputs": [
    {
     "name": "stdout",
     "output_type": "stream",
     "text": [
      "T GIS 501 students are extremely happy!\n"
     ]
    }
   ],
   "source": [
    "class Students(object):\n",
    "    def __init__(self, happiness):\n",
    "        self.happiness = happiness\n",
    "        self.name = 'T GIS 501'\n",
    "    def getHappy(self):\n",
    "        print(self.name + ' students are ' + self.happiness + ' happy!')\n",
    "        \n",
    "you = Students('extremely')\n",
    "you.getHappy()\n",
    "\n",
    "\n",
    "        "
   ]
  },
  {
   "cell_type": "markdown",
   "metadata": {},
   "source": [
    "# Lab 3\n",
    "## Classes, ArcGIS API for Python, and a touch of GeoPandas\n",
    "\n",
    "This lab is going to put you through some paces creating [functions](https://www.tutorialspoint.com/python/python_functions.htm) and [classes](https://docs.python.org/3/tutorial/classes.html) and then introduce you to the [ArcGIS API for Python](https://developers.arcgis.com/python/) and [GeoPandas](http://geopandas.org/). We're slowly building towards the relatively automted acquisition, manipulation, and visualization of spatial data from heterogeneous sources and that's something to be excited about!\n",
    "\n",
    "As always, this lab scales the difficulty up a bit. If you're still working on lab 2, that's ok. You have two weeks here, take advantage of them - use the suggested texts, check the emails I've sent each Monday, come to office hours (or email me to set up a time). You can do this.\n",
    "\n",
    "### Note: If you are wondering how to install GeoPandas and the ArcGIS API, take a look at lab 2. If you're having trouble creating environments and launching jupyter notebooks, look at lab 1."
   ]
  },
  {
   "cell_type": "markdown",
   "metadata": {},
   "source": [
    "### Problem 1: Constructing a person\n",
    "\n",
    "Create a script that creates the class Person with the following properties:\n",
    "\n",
    "1. The class should initialize with a name and a birthday, but the birthday should be set as None by default.\n",
    "2. The class should have three methods: .getName(), .setBirthday(), and .getAge()\n",
    "3. .getName() returns the name of the person, .setBirthday sets the birthday to a date, and .getAge() returns how many days old the Person is.\n",
    "4. .getAge() (and therefore .setBirthday()) will require you to work with the datetime module. You can learn more about it [here](http://effbot.org/librarybook/datetime.htm)\n",
    "\n"
   ]
  },
  {
   "cell_type": "code",
   "execution_count": null,
   "metadata": {},
   "outputs": [],
   "source": []
  },
  {
   "cell_type": "markdown",
   "metadata": {},
   "source": [
    "### Problem 2: Happy birthday!\n",
    "\n",
    "Now, you have to create a new class called song.\n",
    "\n",
    "\n",
    "1. The class should take a variable (a string - make sure to check for this) and store it as lyrics\n",
    "2. It should have a method, .sing(), which prints out the stored lyrics.\n",
    "\n",
    "Additionally:\n",
    "\n",
    "1. Every instance of the class person should now also include a methode .checkBirthday()\n",
    "2. .checkBirthday() should see if today is someone's birthday and if so it should print out \"Happy birthday to you. Happy birthday to you. Happy birthday dear Person_Name, happy birthday to you.\"\n",
    "3. It must do this by using an instance of the Song class. In other words, the .checkBirthday() method is going to call up a specific instance of the Song class - how will you do that?\n",
    "\n",
    "**Please note:** You do not need to take input in these scripts. Although, if you wish to set up something that does so, that is fine as well.\n",
    "\n",
    "**Additional note:** In a notebook, if you run cells sequentially, classes/functions/etc. created in a previous cell will be callable in subsequent ones; however, if you're running into trouble, copy/paste your Person class down into this cell as well (You're going to be modifying it anyways...)"
   ]
  },
  {
   "cell_type": "code",
   "execution_count": null,
   "metadata": {},
   "outputs": [],
   "source": []
  },
  {
   "cell_type": "markdown",
   "metadata": {},
   "source": [
    "### Problem 3: FizzBuzz\n",
    "\n",
    "There's an age-old programming 'challenge' called FizzBuzz. You'll often see it pop up as a very rudimentary screening against those who claim they can write code. You're going to solve a variant of it.\n",
    "\n",
    "Create a **function** (call it fizzbuzz) which takes a single number as its parameter. The function then prints out every number from 1 to the input, **except** for numbers divisible by 3 it prints out \"fizz\", for numbers divisible by 5 it prints out \"buzz\", and for numbers divisible by 3 **and** 5 it prints out \"fizzbuzz.\"\n",
    "\n",
    "For example, the output for an input of 15 would look like: 1, 2, fizz, 4, buzz, fizz, 7, 8, fizz, buzz, 11, fizz, 13, 14, fizzbuzz **Output format doesn't matter (single line, multiple lines, etc.)**\n",
    "\n",
    "A few notes:\n",
    "\n",
    "1. You must take your input from **outside** of your function.\n",
    "2. You must use a function\n",
    "3. +1 bonus point if your script doesn't fail if I put in something other than a number (in other words, if you ask me for a number and I enter 'dog' your script asks me again... *aha! error catching!*)\n"
   ]
  },
  {
   "cell_type": "code",
   "execution_count": null,
   "metadata": {},
   "outputs": [],
   "source": []
  },
  {
   "cell_type": "markdown",
   "metadata": {},
   "source": [
    "## ArcGIS API for Python\n",
    "\n",
    "From this point onwards in the lab, you need to be in an environment with the arcgis library installed.\n",
    "\n",
    "You can (and *should*) read more about the API [here](https://developers.arcgis.com/python/). \n",
    "\n",
    "Let's begin, run the following cell:"
   ]
  },
  {
   "cell_type": "code",
   "execution_count": 1,
   "metadata": {},
   "outputs": [
    {
     "ename": "ModuleNotFoundError",
     "evalue": "No module named 'arcgis'",
     "output_type": "error",
     "traceback": [
      "\u001b[1;31m---------------------------------------------------------------------------\u001b[0m",
      "\u001b[1;31mModuleNotFoundError\u001b[0m                       Traceback (most recent call last)",
      "\u001b[1;32m<ipython-input-1-1c3df415b70a>\u001b[0m in \u001b[0;36m<module>\u001b[1;34m\u001b[0m\n\u001b[1;32m----> 1\u001b[1;33m \u001b[1;32mimport\u001b[0m \u001b[0marcgis\u001b[0m\u001b[1;33m\u001b[0m\u001b[1;33m\u001b[0m\u001b[0m\n\u001b[0m\u001b[0;32m      2\u001b[0m \u001b[1;33m\u001b[0m\u001b[0m\n\u001b[0;32m      3\u001b[0m \u001b[0mmyGIS\u001b[0m \u001b[1;33m=\u001b[0m \u001b[0marcgis\u001b[0m\u001b[1;33m.\u001b[0m\u001b[0mGIS\u001b[0m\u001b[1;33m(\u001b[0m\u001b[1;33m)\u001b[0m\u001b[1;33m\u001b[0m\u001b[1;33m\u001b[0m\u001b[0m\n\u001b[0;32m      4\u001b[0m \u001b[0mmyGIS\u001b[0m\u001b[1;33m.\u001b[0m\u001b[0mmap\u001b[0m\u001b[1;33m(\u001b[0m\u001b[1;33m)\u001b[0m\u001b[1;33m\u001b[0m\u001b[1;33m\u001b[0m\u001b[0m\n",
      "\u001b[1;31mModuleNotFoundError\u001b[0m: No module named 'arcgis'"
     ]
    }
   ],
   "source": [
    "import arcgis\n",
    "\n",
    "myGIS = arcgis.GIS()\n",
    "myGIS.map()"
   ]
  },
  {
   "cell_type": "markdown",
   "metadata": {},
   "source": [
    "You should get an interactive world map. Scroll around it a bit if you want. Bear in mind, this is **not** a map that you can easily embed into a web document, it has to be called using the python API, but... still, pretty cool.\n",
    "\n",
    "Now, these next steps might throw up an error, because ESRI. Just run them again if they do."
   ]
  },
  {
   "cell_type": "code",
   "execution_count": 6,
   "metadata": {},
   "outputs": [
    {
     "name": "stdout",
     "output_type": "stream",
     "text": [
      "[{'address': 'Tacoma, Washington', 'location': {'x': -122.44163999999995, 'y': 47.255130000000065}, 'score': 100, 'attributes': {'Loc_name': 'World', 'Status': 'T', 'Score': 100, 'Match_addr': 'Tacoma, Washington', 'LongLabel': 'Tacoma, WA, USA', 'ShortLabel': 'Tacoma', 'Addr_type': 'Locality', 'Type': 'City', 'PlaceName': 'Tacoma', 'Place_addr': 'Tacoma, Washington', 'Phone': '', 'URL': '', 'Rank': 5.5, 'AddBldg': '', 'AddNum': '', 'AddNumFrom': '', 'AddNumTo': '', 'AddRange': '', 'Side': '', 'StPreDir': '', 'StPreType': '', 'StName': '', 'StType': '', 'StDir': '', 'BldgType': '', 'BldgName': '', 'LevelType': '', 'LevelName': '', 'UnitType': '', 'UnitName': '', 'SubAddr': '', 'StAddr': '', 'Block': '', 'Sector': '', 'Nbrhd': '', 'District': '', 'City': 'Tacoma', 'MetroArea': 'Seattle Metro Area', 'Subregion': 'Pierce County', 'Region': 'Washington', 'RegionAbbr': 'WA', 'Territory': '', 'Zone': '', 'Postal': '', 'PostalExt': '', 'Country': 'USA', 'LangCode': 'ENG', 'Distance': 0, 'X': -122.44163999999995, 'Y': 47.255130000000065, 'DisplayX': -122.44163999999995, 'DisplayY': 47.255130000000065, 'Xmin': -122.53363999999995, 'Xmax': -122.34963999999995, 'Ymin': 47.163130000000066, 'Ymax': 47.347130000000064, 'ExInfo': ''}, 'extent': {'xmin': -122.53363999999995, 'ymin': 47.163130000000066, 'xmax': -122.34963999999995, 'ymax': 47.347130000000064}}, {'address': 'Tacoma', 'location': {'x': -67.44999999999999, 'y': -16.299999999999955}, 'score': 100, 'attributes': {'Loc_name': 'World', 'Status': 'T', 'Score': 100, 'Match_addr': 'Tacoma', 'LongLabel': 'Tacoma, BOL', 'ShortLabel': 'Tacoma', 'Addr_type': 'Locality', 'Type': 'City', 'PlaceName': 'Tacoma', 'Place_addr': '', 'Phone': '', 'URL': '', 'Rank': 12.5, 'AddBldg': '', 'AddNum': '', 'AddNumFrom': '', 'AddNumTo': '', 'AddRange': '', 'Side': '', 'StPreDir': '', 'StPreType': '', 'StName': '', 'StType': '', 'StDir': '', 'BldgType': '', 'BldgName': '', 'LevelType': '', 'LevelName': '', 'UnitType': '', 'UnitName': '', 'SubAddr': '', 'StAddr': '', 'Block': '', 'Sector': '', 'Nbrhd': '', 'District': '', 'City': 'Tacoma', 'MetroArea': '', 'Subregion': '', 'Region': 'La Paz', 'RegionAbbr': 'La Paz', 'Territory': '', 'Zone': '', 'Postal': '', 'PostalExt': '', 'Country': 'BOL', 'LangCode': 'SPA', 'Distance': 0, 'X': -67.44999999999999, 'Y': -16.299999999999955, 'DisplayX': -67.44999999999999, 'DisplayY': -16.299999999999955, 'Xmin': -67.46, 'Xmax': -67.43999999999998, 'Ymin': -16.309999999999956, 'Ymax': -16.289999999999953, 'ExInfo': ''}, 'extent': {'xmin': -67.46, 'ymin': -16.309999999999956, 'xmax': -67.43999999999998, 'ymax': -16.289999999999953}}, {'address': 'Tacoma', 'location': {'x': -68.01666999999998, 'y': -17.016669999999976}, 'score': 100, 'attributes': {'Loc_name': 'World', 'Status': 'T', 'Score': 100, 'Match_addr': 'Tacoma', 'LongLabel': 'Tacoma, BOL', 'ShortLabel': 'Tacoma', 'Addr_type': 'Locality', 'Type': 'City', 'PlaceName': 'Tacoma', 'Place_addr': '', 'Phone': '', 'URL': '', 'Rank': 12.5, 'AddBldg': '', 'AddNum': '', 'AddNumFrom': '', 'AddNumTo': '', 'AddRange': '', 'Side': '', 'StPreDir': '', 'StPreType': '', 'StName': '', 'StType': '', 'StDir': '', 'BldgType': '', 'BldgName': '', 'LevelType': '', 'LevelName': '', 'UnitType': '', 'UnitName': '', 'SubAddr': '', 'StAddr': '', 'Block': '', 'Sector': '', 'Nbrhd': '', 'District': '', 'City': 'Tacoma', 'MetroArea': '', 'Subregion': '', 'Region': 'La Paz', 'RegionAbbr': 'La Paz', 'Territory': '', 'Zone': '', 'Postal': '', 'PostalExt': '', 'Country': 'BOL', 'LangCode': 'SPA', 'Distance': 0, 'X': -68.01666999999998, 'Y': -17.016669999999976, 'DisplayX': -68.01666999999998, 'DisplayY': -17.016669999999976, 'Xmin': -68.02666999999998, 'Xmax': -68.00666999999997, 'Ymin': -17.026669999999978, 'Ymax': -17.006669999999975, 'ExInfo': ''}, 'extent': {'xmin': -68.02666999999998, 'ymin': -17.026669999999978, 'xmax': -68.00666999999997, 'ymax': -17.006669999999975}}, {'address': 'Tacoma, New South Wales', 'location': {'x': 151.45810000000006, 'y': -33.283139999999946}, 'score': 100, 'attributes': {'Loc_name': 'World', 'Status': 'T', 'Score': 100, 'Match_addr': 'Tacoma, New South Wales', 'LongLabel': 'Tacoma, New South Wales, AUS', 'ShortLabel': 'Tacoma', 'Addr_type': 'Locality', 'Type': 'City', 'PlaceName': 'Tacoma', 'Place_addr': 'New South Wales', 'Phone': '', 'URL': '', 'Rank': 14.280000000000001, 'AddBldg': '', 'AddNum': '', 'AddNumFrom': '', 'AddNumTo': '', 'AddRange': '', 'Side': '', 'StPreDir': '', 'StPreType': '', 'StName': '', 'StType': '', 'StDir': '', 'BldgType': '', 'BldgName': '', 'LevelType': '', 'LevelName': '', 'UnitType': '', 'UnitName': '', 'SubAddr': '', 'StAddr': '', 'Block': '', 'Sector': '', 'Nbrhd': 'Tacoma', 'District': '', 'City': 'Central Coast', 'MetroArea': '', 'Subregion': 'Central Coast', 'Region': 'New South Wales', 'RegionAbbr': 'NSW', 'Territory': '', 'Zone': '', 'Postal': '', 'PostalExt': '', 'Country': 'AUS', 'LangCode': 'ENG', 'Distance': 0, 'X': 151.45810000000006, 'Y': -33.283139999999946, 'DisplayX': 151.45810000000006, 'DisplayY': -33.283139999999946, 'Xmin': 151.44810000000007, 'Xmax': 151.46810000000005, 'Ymin': -33.293139999999944, 'Ymax': -33.27313999999995, 'ExInfo': ''}, 'extent': {'xmin': 151.44810000000007, 'ymin': -33.293139999999944, 'xmax': 151.46810000000005, 'ymax': -33.27313999999995}}, {'address': 'Tacoma, Ohio', 'location': {'x': -81.14624999999995, 'y': 39.99684000000008}, 'score': 100, 'attributes': {'Loc_name': 'World', 'Status': 'T', 'Score': 100, 'Match_addr': 'Tacoma, Ohio', 'LongLabel': 'Tacoma, OH, USA', 'ShortLabel': 'Tacoma', 'Addr_type': 'Locality', 'Type': 'Village', 'PlaceName': 'Tacoma', 'Place_addr': 'Tacoma, Ohio', 'Phone': '', 'URL': '', 'Rank': 15, 'AddBldg': '', 'AddNum': '', 'AddNumFrom': '', 'AddNumTo': '', 'AddRange': '', 'Side': '', 'StPreDir': '', 'StPreType': '', 'StName': '', 'StType': '', 'StDir': '', 'BldgType': '', 'BldgName': '', 'LevelType': '', 'LevelName': '', 'UnitType': '', 'UnitName': '', 'SubAddr': '', 'StAddr': '', 'Block': '', 'Sector': '', 'Nbrhd': '', 'District': '', 'City': 'Tacoma', 'MetroArea': '', 'Subregion': 'Belmont County', 'Region': 'Ohio', 'RegionAbbr': 'OH', 'Territory': '', 'Zone': '', 'Postal': '', 'PostalExt': '', 'Country': 'USA', 'LangCode': 'ENG', 'Distance': 0, 'X': -81.14624999999995, 'Y': 39.99684000000008, 'DisplayX': -81.14624999999995, 'DisplayY': 39.99684000000008, 'Xmin': -81.15624999999996, 'Xmax': -81.13624999999995, 'Ymin': 39.98684000000008, 'Ymax': 40.006840000000075, 'ExInfo': ''}, 'extent': {'xmin': -81.15624999999996, 'ymin': 39.98684000000008, 'xmax': -81.13624999999995, 'ymax': 40.006840000000075}}, {'address': 'Tacoma, Florida', 'location': {'x': -82.31669999999997, 'y': 29.525720000000035}, 'score': 100, 'attributes': {'Loc_name': 'World', 'Status': 'T', 'Score': 100, 'Match_addr': 'Tacoma, Florida', 'LongLabel': 'Tacoma, FL, USA', 'ShortLabel': 'Tacoma', 'Addr_type': 'Locality', 'Type': 'Village', 'PlaceName': 'Tacoma', 'Place_addr': 'Tacoma, Florida', 'Phone': '', 'URL': '', 'Rank': 15, 'AddBldg': '', 'AddNum': '', 'AddNumFrom': '', 'AddNumTo': '', 'AddRange': '', 'Side': '', 'StPreDir': '', 'StPreType': '', 'StName': '', 'StType': '', 'StDir': '', 'BldgType': '', 'BldgName': '', 'LevelType': '', 'LevelName': '', 'UnitType': '', 'UnitName': '', 'SubAddr': '', 'StAddr': '', 'Block': '', 'Sector': '', 'Nbrhd': '', 'District': '', 'City': 'Tacoma', 'MetroArea': '', 'Subregion': 'Alachua County', 'Region': 'Florida', 'RegionAbbr': 'FL', 'Territory': '', 'Zone': '', 'Postal': '', 'PostalExt': '', 'Country': 'USA', 'LangCode': 'ENG', 'Distance': 0, 'X': -82.31669999999997, 'Y': 29.525720000000035, 'DisplayX': -82.31669999999997, 'DisplayY': 29.525720000000035, 'Xmin': -82.32669999999997, 'Xmax': -82.30669999999996, 'Ymin': 29.515720000000034, 'Ymax': 29.535720000000037, 'ExInfo': ''}, 'extent': {'xmin': -82.32669999999997, 'ymin': 29.515720000000034, 'xmax': -82.30669999999996, 'ymax': 29.535720000000037}}, {'address': 'Tacoma, Colorado', 'location': {'x': -107.80472999999995, 'y': 37.519570000000044}, 'score': 100, 'attributes': {'Loc_name': 'World', 'Status': 'T', 'Score': 100, 'Match_addr': 'Tacoma, Colorado', 'LongLabel': 'Tacoma, CO, USA', 'ShortLabel': 'Tacoma', 'Addr_type': 'Locality', 'Type': 'Village', 'PlaceName': 'Tacoma', 'Place_addr': 'Tacoma, Colorado', 'Phone': '', 'URL': '', 'Rank': 15, 'AddBldg': '', 'AddNum': '', 'AddNumFrom': '', 'AddNumTo': '', 'AddRange': '', 'Side': '', 'StPreDir': '', 'StPreType': '', 'StName': '', 'StType': '', 'StDir': '', 'BldgType': '', 'BldgName': '', 'LevelType': '', 'LevelName': '', 'UnitType': '', 'UnitName': '', 'SubAddr': '', 'StAddr': '', 'Block': '', 'Sector': '', 'Nbrhd': '', 'District': '', 'City': 'Tacoma', 'MetroArea': '', 'Subregion': 'La Plata County', 'Region': 'Colorado', 'RegionAbbr': 'CO', 'Territory': '', 'Zone': '', 'Postal': '', 'PostalExt': '', 'Country': 'USA', 'LangCode': 'ENG', 'Distance': 0, 'X': -107.80472999999995, 'Y': 37.519570000000044, 'DisplayX': -107.80472999999995, 'DisplayY': 37.519570000000044, 'Xmin': -107.81472999999995, 'Xmax': -107.79472999999994, 'Ymin': 37.509570000000046, 'Ymax': 37.52957000000004, 'ExInfo': ''}, 'extent': {'xmin': -107.81472999999995, 'ymin': 37.509570000000046, 'xmax': -107.79472999999994, 'ymax': 37.52957000000004}}, {'address': 'Tacoma, Town of Masonville, New York', 'location': {'x': -75.27731999999997, 'y': 42.23585000000003}, 'score': 100, 'attributes': {'Loc_name': 'World', 'Status': 'T', 'Score': 100, 'Match_addr': 'Tacoma, Town of Masonville, New York', 'LongLabel': 'Tacoma, Town of Masonville, NY, USA', 'ShortLabel': 'Tacoma', 'Addr_type': 'Locality', 'Type': 'Village', 'PlaceName': 'Tacoma', 'Place_addr': 'Town of Masonville, New York', 'Phone': '', 'URL': '', 'Rank': 15, 'AddBldg': '', 'AddNum': '', 'AddNumFrom': '', 'AddNumTo': '', 'AddRange': '', 'Side': '', 'StPreDir': '', 'StPreType': '', 'StName': '', 'StType': '', 'StDir': '', 'BldgType': '', 'BldgName': '', 'LevelType': '', 'LevelName': '', 'UnitType': '', 'UnitName': '', 'SubAddr': '', 'StAddr': '', 'Block': '', 'Sector': '', 'Nbrhd': 'Tacoma', 'District': '', 'City': 'Town of Masonville', 'MetroArea': '', 'Subregion': 'Delaware County', 'Region': 'New York', 'RegionAbbr': 'NY', 'Territory': '', 'Zone': '', 'Postal': '', 'PostalExt': '', 'Country': 'USA', 'LangCode': 'ENG', 'Distance': 0, 'X': -75.27731999999997, 'Y': 42.23585000000003, 'DisplayX': -75.27731999999997, 'DisplayY': 42.23585000000003, 'Xmin': -75.28731999999998, 'Xmax': -75.26731999999997, 'Ymin': 42.22585000000003, 'Ymax': 42.245850000000026, 'ExInfo': ''}, 'extent': {'xmin': -75.28731999999998, 'ymin': 42.22585000000003, 'xmax': -75.26731999999997, 'ymax': 42.245850000000026}}, {'address': 'Tacoma, Town of Monmouth, Maine', 'location': {'x': -69.97141999999997, 'y': 44.19346000000007}, 'score': 100, 'attributes': {'Loc_name': 'World', 'Status': 'T', 'Score': 100, 'Match_addr': 'Tacoma, Town of Monmouth, Maine', 'LongLabel': 'Tacoma, Town of Monmouth, ME, USA', 'ShortLabel': 'Tacoma', 'Addr_type': 'Locality', 'Type': 'Village', 'PlaceName': 'Tacoma', 'Place_addr': 'Town of Monmouth, Maine', 'Phone': '', 'URL': '', 'Rank': 15, 'AddBldg': '', 'AddNum': '', 'AddNumFrom': '', 'AddNumTo': '', 'AddRange': '', 'Side': '', 'StPreDir': '', 'StPreType': '', 'StName': '', 'StType': '', 'StDir': '', 'BldgType': '', 'BldgName': '', 'LevelType': '', 'LevelName': '', 'UnitType': '', 'UnitName': '', 'SubAddr': '', 'StAddr': '', 'Block': '', 'Sector': '', 'Nbrhd': 'Tacoma', 'District': '', 'City': 'Town of Monmouth', 'MetroArea': '', 'Subregion': 'Kennebec County', 'Region': 'Maine', 'RegionAbbr': 'ME', 'Territory': '', 'Zone': '', 'Postal': '', 'PostalExt': '', 'Country': 'USA', 'LangCode': 'ENG', 'Distance': 0, 'X': -69.97141999999997, 'Y': 44.19346000000007, 'DisplayX': -69.97141999999997, 'DisplayY': 44.19346000000007, 'Xmin': -69.98141999999997, 'Xmax': -69.96141999999996, 'Ymin': 44.183460000000075, 'Ymax': 44.20346000000007, 'ExInfo': ''}, 'extent': {'xmin': -69.98141999999997, 'ymin': 44.183460000000075, 'xmax': -69.96141999999996, 'ymax': 44.20346000000007}}, {'address': 'Tacoma, Virginia', 'location': {'x': -82.53691999999995, 'y': 36.93534000000005}, 'score': 100, 'attributes': {'Loc_name': 'World', 'Status': 'T', 'Score': 100, 'Match_addr': 'Tacoma, Virginia', 'LongLabel': 'Tacoma, VA, USA', 'ShortLabel': 'Tacoma', 'Addr_type': 'Locality', 'Type': 'Village', 'PlaceName': 'Tacoma', 'Place_addr': 'Tacoma, Virginia', 'Phone': '', 'URL': '', 'Rank': 15, 'AddBldg': '', 'AddNum': '', 'AddNumFrom': '', 'AddNumTo': '', 'AddRange': '', 'Side': '', 'StPreDir': '', 'StPreType': '', 'StName': '', 'StType': '', 'StDir': '', 'BldgType': '', 'BldgName': '', 'LevelType': '', 'LevelName': '', 'UnitType': '', 'UnitName': '', 'SubAddr': '', 'StAddr': '', 'Block': '', 'Sector': '', 'Nbrhd': '', 'District': '', 'City': 'Tacoma', 'MetroArea': '', 'Subregion': 'Wise County', 'Region': 'Virginia', 'RegionAbbr': 'VA', 'Territory': '', 'Zone': '', 'Postal': '', 'PostalExt': '', 'Country': 'USA', 'LangCode': 'ENG', 'Distance': 0, 'X': -82.53691999999995, 'Y': 36.93534000000005, 'DisplayX': -82.53691999999995, 'DisplayY': 36.93534000000005, 'Xmin': -82.54691999999996, 'Xmax': -82.52691999999995, 'Ymin': 36.925340000000055, 'Ymax': 36.94534000000005, 'ExInfo': ''}, 'extent': {'xmin': -82.54691999999996, 'ymin': 36.925340000000055, 'xmax': -82.52691999999995, 'ymax': 36.94534000000005}}, {'address': 'Tacoma', 'location': {'x': -145.24999999999997, 'y': 61.41667000000007}, 'score': 100, 'attributes': {'Loc_name': 'World', 'Status': 'T', 'Score': 100, 'Match_addr': 'Tacoma', 'LongLabel': 'Tacoma, AK, USA', 'ShortLabel': 'Tacoma', 'Addr_type': 'POI', 'Type': 'Ruin', 'PlaceName': 'Tacoma', 'Place_addr': 'Alaska', 'Phone': '', 'URL': '', 'Rank': 19, 'AddBldg': '', 'AddNum': '', 'AddNumFrom': '', 'AddNumTo': '', 'AddRange': '', 'Side': '', 'StPreDir': '', 'StPreType': '', 'StName': '', 'StType': '', 'StDir': '', 'BldgType': '', 'BldgName': '', 'LevelType': '', 'LevelName': '', 'UnitType': '', 'UnitName': '', 'SubAddr': '', 'StAddr': '', 'Block': '', 'Sector': '', 'Nbrhd': '', 'District': '', 'City': '', 'MetroArea': '', 'Subregion': 'Valdez-Cordova', 'Region': 'Alaska', 'RegionAbbr': 'AK', 'Territory': '', 'Zone': '', 'Postal': '', 'PostalExt': '', 'Country': 'USA', 'LangCode': 'ENG', 'Distance': 0, 'X': -145.24999999999997, 'Y': 61.41667000000007, 'DisplayX': -145.24999999999997, 'DisplayY': 61.41667000000007, 'Xmin': -145.25999999999996, 'Xmax': -145.23999999999998, 'Ymin': 61.40667000000007, 'Ymax': 61.426670000000065, 'ExInfo': ''}, 'extent': {'xmin': -145.25999999999996, 'ymin': 61.40667000000007, 'xmax': -145.23999999999998, 'ymax': 61.426670000000065}}, {'address': 'Tacoma', 'location': {'x': 6.210309937821101, 'y': 50.73189003664377}, 'score': 100, 'attributes': {'Loc_name': 'World', 'Status': 'T', 'Score': 100, 'Match_addr': 'Tacoma', 'LongLabel': 'Tacoma, Stefanstraße 1, 52223, Stolberg (Rheinland), Breinig, Nordrhein-Westfalen, DEU', 'ShortLabel': 'Tacoma', 'Addr_type': 'POI', 'Type': 'American Food', 'PlaceName': 'Tacoma', 'Place_addr': 'Stefanstraße 1, 52223, Stolberg (Rheinland), Breinig, Nordrhein-Westfalen', 'Phone': '+49 2402-30545', 'URL': '', 'Rank': 19, 'AddBldg': '', 'AddNum': '1', 'AddNumFrom': '', 'AddNumTo': '', 'AddRange': '', 'Side': 'L', 'StPreDir': '', 'StPreType': '', 'StName': 'Stefan', 'StType': 'straße', 'StDir': '', 'BldgType': '', 'BldgName': '', 'LevelType': '', 'LevelName': '', 'UnitType': '', 'UnitName': '', 'SubAddr': '', 'StAddr': 'Stefanstraße 1', 'Block': '', 'Sector': '', 'Nbrhd': '', 'District': 'Breinig', 'City': 'Stolberg (Rheinland)', 'MetroArea': '', 'Subregion': 'Aachen', 'Region': 'Nordrhein-Westfalen', 'RegionAbbr': 'Nordrhein-Westfalen', 'Territory': '', 'Zone': '', 'Postal': '52223', 'PostalExt': '', 'Country': 'DEU', 'LangCode': 'GER', 'Distance': 0, 'X': 6.210309937821101, 'Y': 50.73189003664377, 'DisplayX': 6.210220000000049, 'DisplayY': 50.73197000000005, 'Xmin': 6.2052200000000495, 'Xmax': 6.215220000000049, 'Ymin': 50.726970000000044, 'Ymax': 50.73697000000005, 'ExInfo': ''}, 'extent': {'xmin': 6.2052200000000495, 'ymin': 50.726970000000044, 'xmax': 6.215220000000049, 'ymax': 50.73697000000005}}, {'address': 'Tacoma, New South Wales', 'location': {'x': 151.4582334380001, 'y': -33.28575177199997}, 'score': 100, 'attributes': {'Loc_name': 'World', 'Status': 'T', 'Score': 100, 'Match_addr': 'Tacoma, New South Wales', 'LongLabel': 'Tacoma, New South Wales, AUS', 'ShortLabel': 'Tacoma', 'Addr_type': 'Locality', 'Type': 'Neighborhood', 'PlaceName': 'Tacoma', 'Place_addr': 'New South Wales', 'Phone': '', 'URL': '', 'Rank': 20, 'AddBldg': '', 'AddNum': '', 'AddNumFrom': '', 'AddNumTo': '', 'AddRange': '', 'Side': '', 'StPreDir': '', 'StPreType': '', 'StName': '', 'StType': '', 'StDir': '', 'BldgType': '', 'BldgName': '', 'LevelType': '', 'LevelName': '', 'UnitType': '', 'UnitName': '', 'SubAddr': '', 'StAddr': '', 'Block': '', 'Sector': '', 'Nbrhd': 'Tacoma', 'District': '', 'City': 'Central Coast', 'MetroArea': '', 'Subregion': '', 'Region': 'New South Wales', 'RegionAbbr': 'NSW', 'Territory': '', 'Zone': '', 'Postal': '', 'PostalExt': '', 'Country': 'AUS', 'LangCode': 'ENG', 'Distance': 0, 'X': 151.4582334380001, 'Y': -33.28575177199997, 'DisplayX': 151.4582334380001, 'DisplayY': -33.28575177199997, 'Xmin': 151.4482334380001, 'Xmax': 151.46823343800008, 'Ymin': -33.29575177199997, 'Ymax': -33.27575177199997, 'ExInfo': ''}, 'extent': {'xmin': 151.4482334380001, 'ymin': -33.29575177199997, 'xmax': 151.46823343800008, 'ymax': -33.27575177199997}}, {'address': 'Takoma', 'location': {'x': 107.61415000000005, 'y': 51.827150000000074}, 'score': 100, 'attributes': {'Loc_name': 'World', 'Status': 'T', 'Score': 100, 'Match_addr': 'Takoma', 'LongLabel': 'Takoma, Ulan-Ude, Respublika Buryatiya, RUS', 'ShortLabel': 'Takoma', 'Addr_type': 'POI', 'Type': 'Auto Maintenance', 'PlaceName': 'Takoma', 'Place_addr': 'Ulan-Ude, Respublika Buryatiya', 'Phone': '+7 (301) 262-29-95', 'URL': '', 'Rank': 21, 'AddBldg': '', 'AddNum': '', 'AddNumFrom': '', 'AddNumTo': '', 'AddRange': '', 'Side': '', 'StPreDir': '', 'StPreType': '', 'StName': '', 'StType': '', 'StDir': '', 'BldgType': '', 'BldgName': '', 'LevelType': '', 'LevelName': '', 'UnitType': '', 'UnitName': '', 'SubAddr': '', 'StAddr': '', 'Block': '', 'Sector': '', 'Nbrhd': '', 'District': 'Zheleznodorozhniy rayon', 'City': 'Ulan-Ude', 'MetroArea': '', 'Subregion': 'Ulan-Ude', 'Region': 'Respublika Buryatiya', 'RegionAbbr': 'Respublika Buryatiya', 'Territory': \"Sibirskiy federal'niy okrug\", 'Zone': '', 'Postal': '', 'PostalExt': '', 'Country': 'RUS', 'LangCode': 'RUX', 'Distance': 0, 'X': 107.61415000000005, 'Y': 51.827150000000074, 'DisplayX': 107.61415000000005, 'DisplayY': 51.827150000000074, 'Xmin': 107.60915000000006, 'Xmax': 107.61915000000005, 'Ymin': 51.82215000000007, 'Ymax': 51.83215000000008, 'ExInfo': ''}, 'extent': {'xmin': 107.60915000000006, 'ymin': 51.82215000000007, 'xmax': 107.61915000000005, 'ymax': 51.83215000000008}}, {'address': 'Taco del Ma', 'location': {'x': -122.02146006679425, 'y': 47.36334999610491}, 'score': 95.62, 'attributes': {'Loc_name': 'World', 'Status': 'M', 'Score': 95.62, 'Match_addr': 'Taco del Ma', 'LongLabel': 'Taco del Ma, 26565 Maple Valley Black Diamond Rd SE, Maple Valley, WA, 98038, USA', 'ShortLabel': 'Taco del Ma', 'Addr_type': 'POI', 'Type': 'Fast Food', 'PlaceName': 'Taco del Ma', 'Place_addr': '26565 Maple Valley Black Diamond Rd SE, Maple Valley, Washington, 98038', 'Phone': '(425) 584-7189', 'URL': '', 'Rank': 19, 'AddBldg': '', 'AddNum': '26565', 'AddNumFrom': '', 'AddNumTo': '', 'AddRange': '', 'Side': 'L', 'StPreDir': '', 'StPreType': '', 'StName': 'Maple Valley Black Diamond', 'StType': 'Rd', 'StDir': 'SE', 'BldgType': '', 'BldgName': '', 'LevelType': '', 'LevelName': '', 'UnitType': '', 'UnitName': '', 'SubAddr': '', 'StAddr': '26565 Maple Valley Black Diamond Rd SE', 'Block': '', 'Sector': '', 'Nbrhd': '', 'District': '', 'City': 'Maple Valley', 'MetroArea': 'Seattle Metro Area', 'Subregion': 'King County', 'Region': 'Washington', 'RegionAbbr': 'WA', 'Territory': '', 'Zone': '', 'Postal': '98038', 'PostalExt': '', 'Country': 'USA', 'LangCode': 'ENG', 'Distance': 0, 'X': -122.02146006679425, 'Y': 47.36334999610491, 'DisplayX': -122.02338999999995, 'DisplayY': 47.36325000000005, 'Xmin': -122.02838999999994, 'Xmax': -122.01838999999995, 'Ymin': 47.35825000000005, 'Ymax': 47.36825000000005, 'ExInfo': ''}, 'extent': {'xmin': -122.02838999999994, 'ymin': 47.35825000000005, 'xmax': -122.01838999999995, 'ymax': 47.36825000000005}}]\n"
     ]
    }
   ],
   "source": [
    "#Technically, I don't need to keep importing the library, \n",
    "#but this is in case the cells end up being run out of order.\n",
    "import arcgis\n",
    "\n",
    "ttown = arcgis.geocode('Tacoma')\n",
    "print(ttown)"
   ]
  },
  {
   "cell_type": "markdown",
   "metadata": {},
   "source": [
    "**Whoah, that's a lot of information**. \n",
    "\n",
    "Notice the data formats there. The top level is a list, then there are sub-items that are dictionaries, lists, etc. A list is ordered, so that means I can call the part I want like this:"
   ]
  },
  {
   "cell_type": "code",
   "execution_count": 7,
   "metadata": {},
   "outputs": [
    {
     "name": "stdout",
     "output_type": "stream",
     "text": [
      "{'address': 'Tacoma, Washington', 'location': {'x': -122.44163999999995, 'y': 47.255130000000065}, 'score': 100, 'attributes': {'Loc_name': 'World', 'Status': 'T', 'Score': 100, 'Match_addr': 'Tacoma, Washington', 'LongLabel': 'Tacoma, WA, USA', 'ShortLabel': 'Tacoma', 'Addr_type': 'Locality', 'Type': 'City', 'PlaceName': 'Tacoma', 'Place_addr': 'Tacoma, Washington', 'Phone': '', 'URL': '', 'Rank': 5.5, 'AddBldg': '', 'AddNum': '', 'AddNumFrom': '', 'AddNumTo': '', 'AddRange': '', 'Side': '', 'StPreDir': '', 'StPreType': '', 'StName': '', 'StType': '', 'StDir': '', 'BldgType': '', 'BldgName': '', 'LevelType': '', 'LevelName': '', 'UnitType': '', 'UnitName': '', 'SubAddr': '', 'StAddr': '', 'Block': '', 'Sector': '', 'Nbrhd': '', 'District': '', 'City': 'Tacoma', 'MetroArea': 'Seattle Metro Area', 'Subregion': 'Pierce County', 'Region': 'Washington', 'RegionAbbr': 'WA', 'Territory': '', 'Zone': '', 'Postal': '', 'PostalExt': '', 'Country': 'USA', 'LangCode': 'ENG', 'Distance': 0, 'X': -122.44163999999995, 'Y': 47.255130000000065, 'DisplayX': -122.44163999999995, 'DisplayY': 47.255130000000065, 'Xmin': -122.53363999999995, 'Xmax': -122.34963999999995, 'Ymin': 47.163130000000066, 'Ymax': 47.347130000000064, 'ExInfo': ''}, 'extent': {'xmin': -122.53363999999995, 'ymin': 47.163130000000066, 'xmax': -122.34963999999995, 'ymax': 47.347130000000064}}\n"
     ]
    }
   ],
   "source": [
    "import arcgis\n",
    "\n",
    "ttown = arcgis.geocode('Tacoma')[0]\n",
    "\n",
    "print(ttown)"
   ]
  },
  {
   "cell_type": "markdown",
   "metadata": {},
   "source": [
    "See that last entry? 'extent' - we're going to use that to set the extent of the map we create to our favorite dusty old jewel (again, sometimes you'll get a 'nonetype' error here, try running it again and if that *still* doesn't work, we'll troubleshoot)."
   ]
  },
  {
   "cell_type": "code",
   "execution_count": 8,
   "metadata": {},
   "outputs": [
    {
     "data": {
      "application/vnd.jupyter.widget-view+json": {
       "model_id": "824d0b5880aa49f39e8d85d2907e5dc4",
       "version_major": 2,
       "version_minor": 0
      },
      "text/plain": [
       "MapView(layout=Layout(height='400px', width='100%'))"
      ]
     },
     "metadata": {},
     "output_type": "display_data"
    },
    {
     "data": {
      "text/html": [
       "<div class=\"map-static-img-preview-384c1077-13ef-4ee4-8951-6aabb0cb93c4\"><img src=\"\"></img></div>"
      ],
      "text/plain": [
       "<IPython.core.display.HTML object>"
      ]
     },
     "metadata": {},
     "output_type": "display_data"
    }
   ],
   "source": [
    "import arcgis\n",
    "\n",
    "ttown = arcgis.geocode('Tacoma')[0]\n",
    "\n",
    "tgis = arcgis.GIS()\n",
    "\n",
    "tmap = tgis.map()\n",
    "tmap.extent = ttown['extent']\n",
    "\n",
    "tmap"
   ]
  },
  {
   "cell_type": "markdown",
   "metadata": {},
   "source": [
    "### Nice!\n",
    "\n",
    "There's a lot more that you can do with the ArcGIS API, but right now I want to show you how to interface with our own ArcGIS Online Environment right here in your notebook."
   ]
  },
  {
   "cell_type": "code",
   "execution_count": 9,
   "metadata": {},
   "outputs": [
    {
     "name": "stdout",
     "output_type": "stream",
     "text": [
      "Test Time!\n",
      "Logged in as jethatch\n"
     ]
    },
    {
     "data": {
      "text/html": [
       "<div class=\"item_container\" style=\"height: auto; overflow: hidden; border: 1px solid #cfcfcf; border-radius: 2px; background: #f6fafa; line-height: 1.21429em; padding: 10px;\">\n",
       "                    <div class=\"item_left\" style=\"width: 210px; float: left;\">\n",
       "                       <a href='https://UWT-GIS-GeoTech.maps.arcgis.com/home/item.html?id=9056606ee6074db78d16d42210005fe8' target='_blank'>\n",
       "                        <img src='http://static.arcgis.com/images/desktopapp.png' class=\"itemThumbnail\">\n",
       "                       </a>\n",
       "                    </div>\n",
       "\n",
       "                    <div class=\"item_right\"     style=\"float: none; width: auto; overflow: hidden;\">\n",
       "                        <a href='https://UWT-GIS-GeoTech.maps.arcgis.com/home/item.html?id=9056606ee6074db78d16d42210005fe8' target='_blank'><b>GIS 311 Kuiz 5 Survey  - Beta 2_fieldworker</b>\n",
       "                        </a>\n",
       "                        <br/><img src='https://UWT-GIS-GeoTech.maps.arcgis.com/home/js/jsapi/esri/css/images/item_type_icons/featureshosted16.png' style=\"vertical-align:middle;\">Feature Layer Collection by GregoryLund\n",
       "                        <br/>Last Modified: November 05, 2018\n",
       "                        <br/>0 comments, 0 views\n",
       "                    </div>\n",
       "                </div>\n",
       "                "
      ],
      "text/plain": [
       "<Item title:\"GIS 311 Kuiz 5 Survey  - Beta 2_fieldworker\" type:Feature Layer Collection owner:GregoryLund>"
      ]
     },
     "metadata": {},
     "output_type": "display_data"
    },
    {
     "data": {
      "text/html": [
       "<div class=\"item_container\" style=\"height: auto; overflow: hidden; border: 1px solid #cfcfcf; border-radius: 2px; background: #f6fafa; line-height: 1.21429em; padding: 10px;\">\n",
       "                    <div class=\"item_left\" style=\"width: 210px; float: left;\">\n",
       "                       <a href='https://UWT-GIS-GeoTech.maps.arcgis.com/home/item.html?id=db92d83030a14d878af12676f98362fe' target='_blank'>\n",
       "                        <img src='http://static.arcgis.com/images/desktopapp.png' class=\"itemThumbnail\">\n",
       "                       </a>\n",
       "                    </div>\n",
       "\n",
       "                    <div class=\"item_right\"     style=\"float: none; width: auto; overflow: hidden;\">\n",
       "                        <a href='https://UWT-GIS-GeoTech.maps.arcgis.com/home/item.html?id=db92d83030a14d878af12676f98362fe' target='_blank'><b>GIS 311 Kuiz 5 Survey_fieldworker</b>\n",
       "                        </a>\n",
       "                        <br/><img src='https://UWT-GIS-GeoTech.maps.arcgis.com/home/js/jsapi/esri/css/images/item_type_icons/featureshosted16.png' style=\"vertical-align:middle;\">Feature Layer Collection by GregoryLund\n",
       "                        <br/>Last Modified: November 05, 2018\n",
       "                        <br/>0 comments, 0 views\n",
       "                    </div>\n",
       "                </div>\n",
       "                "
      ],
      "text/plain": [
       "<Item title:\"GIS 311 Kuiz 5 Survey_fieldworker\" type:Feature Layer Collection owner:GregoryLund>"
      ]
     },
     "metadata": {},
     "output_type": "display_data"
    },
    {
     "data": {
      "text/html": [
       "<div class=\"item_container\" style=\"height: auto; overflow: hidden; border: 1px solid #cfcfcf; border-radius: 2px; background: #f6fafa; line-height: 1.21429em; padding: 10px;\">\n",
       "                    <div class=\"item_left\" style=\"width: 210px; float: left;\">\n",
       "                       <a href='https://UWT-GIS-GeoTech.maps.arcgis.com/home/item.html?id=471590ded53846f88ce2f09c8673371a' target='_blank'>\n",
       "                        <img src='data:image/png;base64,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' width='200' height='133' class=\"itemThumbnail\">\n",
       "                       </a>\n",
       "                    </div>\n",
       "\n",
       "                    <div class=\"item_right\"     style=\"float: none; width: auto; overflow: hidden;\">\n",
       "                        <a href='https://UWT-GIS-GeoTech.maps.arcgis.com/home/item.html?id=471590ded53846f88ce2f09c8673371a' target='_blank'><b>Seed Survey</b>\n",
       "                        </a>\n",
       "                        <br/><img src='https://UWT-GIS-GeoTech.maps.arcgis.com/home/js/jsapi/esri/css/images/item_type_icons/featureshosted16.png' style=\"vertical-align:middle;\">Feature Layer Collection by GregoryLund\n",
       "                        <br/>Last Modified: September 09, 2018\n",
       "                        <br/>0 comments, 2 views\n",
       "                    </div>\n",
       "                </div>\n",
       "                "
      ],
      "text/plain": [
       "<Item title:\"Seed Survey\" type:Feature Layer Collection owner:GregoryLund>"
      ]
     },
     "metadata": {},
     "output_type": "display_data"
    },
    {
     "data": {
      "text/html": [
       "<div class=\"item_container\" style=\"height: auto; overflow: hidden; border: 1px solid #cfcfcf; border-radius: 2px; background: #f6fafa; line-height: 1.21429em; padding: 10px;\">\n",
       "                    <div class=\"item_left\" style=\"width: 210px; float: left;\">\n",
       "                       <a href='https://UWT-GIS-GeoTech.maps.arcgis.com/home/item.html?id=ac00adca23744749a3d174a7d02ac76f' target='_blank'>\n",
       "                        <img src='http://static.arcgis.com/images/desktopapp.png' class=\"itemThumbnail\">\n",
       "                       </a>\n",
       "                    </div>\n",
       "\n",
       "                    <div class=\"item_right\"     style=\"float: none; width: auto; overflow: hidden;\">\n",
       "                        <a href='https://UWT-GIS-GeoTech.maps.arcgis.com/home/item.html?id=ac00adca23744749a3d174a7d02ac76f' target='_blank'><b>survey123_066ef1fd6798421282b6eabedb5c8064</b>\n",
       "                        </a>\n",
       "                        <br/><img src='https://UWT-GIS-GeoTech.maps.arcgis.com/home/js/jsapi/esri/css/images/item_type_icons/featureshosted16.png' style=\"vertical-align:middle;\">Feature Layer Collection by GregoryLund\n",
       "                        <br/>Last Modified: November 05, 2018\n",
       "                        <br/>0 comments, 0 views\n",
       "                    </div>\n",
       "                </div>\n",
       "                "
      ],
      "text/plain": [
       "<Item title:\"survey123_066ef1fd6798421282b6eabedb5c8064\" type:Feature Layer Collection owner:GregoryLund>"
      ]
     },
     "metadata": {},
     "output_type": "display_data"
    },
    {
     "data": {
      "text/html": [
       "<div class=\"item_container\" style=\"height: auto; overflow: hidden; border: 1px solid #cfcfcf; border-radius: 2px; background: #f6fafa; line-height: 1.21429em; padding: 10px;\">\n",
       "                    <div class=\"item_left\" style=\"width: 210px; float: left;\">\n",
       "                       <a href='https://UWT-GIS-GeoTech.maps.arcgis.com/home/item.html?id=f3b77bd25cbc4f3ca596c9ac5b88ca82' target='_blank'>\n",
       "                        <img src='data:image/png;base64,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' width='200' height='133' class=\"itemThumbnail\">\n",
       "                       </a>\n",
       "                    </div>\n",
       "\n",
       "                    <div class=\"item_right\"     style=\"float: none; width: auto; overflow: hidden;\">\n",
       "                        <a href='https://UWT-GIS-GeoTech.maps.arcgis.com/home/item.html?id=f3b77bd25cbc4f3ca596c9ac5b88ca82' target='_blank'><b>Water Service Request Layer</b>\n",
       "                        </a>\n",
       "                        <br/>summary 10<img src='https://UWT-GIS-GeoTech.maps.arcgis.com/home/js/jsapi/esri/css/images/item_type_icons/featureshosted16.png' style=\"vertical-align:middle;\">Feature Layer Collection by GregoryLund\n",
       "                        <br/>Last Modified: July 07, 2018\n",
       "                        <br/>0 comments, 11 views\n",
       "                    </div>\n",
       "                </div>\n",
       "                "
      ],
      "text/plain": [
       "<Item title:\"Water Service Request Layer\" type:Feature Layer Collection owner:GregoryLund>"
      ]
     },
     "metadata": {},
     "output_type": "display_data"
    },
    {
     "data": {
      "text/html": [
       "<div class=\"item_container\" style=\"height: auto; overflow: hidden; border: 1px solid #cfcfcf; border-radius: 2px; background: #f6fafa; line-height: 1.21429em; padding: 10px;\">\n",
       "                    <div class=\"item_left\" style=\"width: 210px; float: left;\">\n",
       "                       <a href='https://UWT-GIS-GeoTech.maps.arcgis.com/home/item.html?id=ed8d3647bcc4438cb7e6e5bc2ba26c33' target='_blank'>\n",
       "                        <img src='http://static.arcgis.com/images/desktopapp.png' class=\"itemThumbnail\">\n",
       "                       </a>\n",
       "                    </div>\n",
       "\n",
       "                    <div class=\"item_right\"     style=\"float: none; width: auto; overflow: hidden;\">\n",
       "                        <a href='https://UWT-GIS-GeoTech.maps.arcgis.com/home/item.html?id=ed8d3647bcc4438cb7e6e5bc2ba26c33' target='_blank'><b>Damage Assessment</b>\n",
       "                        </a>\n",
       "                        <br/><img src='https://UWT-GIS-GeoTech.maps.arcgis.com/home/js/jsapi/esri/css/images/item_type_icons/featureshosted16.png' style=\"vertical-align:middle;\">Feature Layer Collection by GregoryLund\n",
       "                        <br/>Last Modified: August 16, 2018\n",
       "                        <br/>0 comments, 0 views\n",
       "                    </div>\n",
       "                </div>\n",
       "                "
      ],
      "text/plain": [
       "<Item title:\"Damage Assessment\" type:Feature Layer Collection owner:GregoryLund>"
      ]
     },
     "metadata": {},
     "output_type": "display_data"
    },
    {
     "data": {
      "text/html": [
       "<div class=\"item_container\" style=\"height: auto; overflow: hidden; border: 1px solid #cfcfcf; border-radius: 2px; background: #f6fafa; line-height: 1.21429em; padding: 10px;\">\n",
       "                    <div class=\"item_left\" style=\"width: 210px; float: left;\">\n",
       "                       <a href='https://UWT-GIS-GeoTech.maps.arcgis.com/home/item.html?id=7048b32801d14e3db29c12f9ae0ce0d9' target='_blank'>\n",
       "                        <img src='data:image/png;base64,iVBORw0KGgoAAAANSUhEUgAAAMgAAACFCAIAAACR/CB7AAAACXBIWXMAAA7EAAAOxAGVKw4bAAACUElEQVR4nO3a0W0aQRRAUTZKLWkrdbgC1+G23MzkAwkhICjW7DUDOefDYpE1Xjx332LhbYxxgL39ePQJ8JqERUJYJIRFQlgkhEVCWCSERUJYJIRFQlgkhEVCWCSERUJYJIRFQlgkhEVCWCSERUJYJIRFQlgkhEVCWCSERUJYJIRFQlgkhEVCWCSERUJYJIRFQlgkhEVCWCSERUJYJIRFQlgkhEVCWCSERUJYJIRFQlgkhEVCWCSERUJYJIRFQlgkhEVCWCSERUJYJIRF4uf8Etu2zS/yXxljnP/Sjoc3n/zS4enJmQXHGLu8xv0n1tvH51cPT09eHM4vuMIK1wtu23Z9eL7NNw/PF7y/wt8WvL/CYV9j2vlqUTddeQue0sNf1HwSY4xtTI8+t8IXM5/Ewa2wO6Vnn7KTTCxumK9i54m1wqW24NX/dFN2fliYWNyw3MQ6uPofNGWXM/+H5flqr7FJ//KudpGLYX77Im6FT2x+7zrf8VnhRcvf8BNXUE/Zxe0wsTi5/oQusv6u+e+GPR33+2I8Xzy+/v7T4/PDOzNs/aoOJtaCrgfe28fn++9fx6/Psl/CWtfNW+qz7JewSHiPRUJYJIRFQlgkhEVCWCSERUJYJIRFQlgkhEVCWCSERUJYJIRFQlgkhEVCWCSERUJYJIRFQlgkhEVCWCSERUJYJIRFQlgkhEVCWCSERUJYJIRFQlgkhEVCWCSERUJYJIRFQlgkhEVCWCSERUJYJIRFQlgkhEVCWCSERUJYJIRFQlgkhEVCWCSERUJYJIRF4g/8WrvcU0D+jwAAAABJRU5ErkJggg==' width='200' height='133' class=\"itemThumbnail\">\n",
       "                       </a>\n",
       "                    </div>\n",
       "\n",
       "                    <div class=\"item_right\"     style=\"float: none; width: auto; overflow: hidden;\">\n",
       "                        <a href='https://UWT-GIS-GeoTech.maps.arcgis.com/home/item.html?id=7048b32801d14e3db29c12f9ae0ce0d9' target='_blank'><b>HLTG_Hex_1_1000</b>\n",
       "                        </a>\n",
       "                        <br/><img src='https://UWT-GIS-GeoTech.maps.arcgis.com/home/js/jsapi/esri/css/images/item_type_icons/featureshosted16.png' style=\"vertical-align:middle;\">Feature Layer Collection by GregoryLund\n",
       "                        <br/>Last Modified: September 20, 2015\n",
       "                        <br/>0 comments, 7 views\n",
       "                    </div>\n",
       "                </div>\n",
       "                "
      ],
      "text/plain": [
       "<Item title:\"HLTG_Hex_1_1000\" type:Feature Layer Collection owner:GregoryLund>"
      ]
     },
     "metadata": {},
     "output_type": "display_data"
    },
    {
     "data": {
      "text/html": [
       "<div class=\"item_container\" style=\"height: auto; overflow: hidden; border: 1px solid #cfcfcf; border-radius: 2px; background: #f6fafa; line-height: 1.21429em; padding: 10px;\">\n",
       "                    <div class=\"item_left\" style=\"width: 210px; float: left;\">\n",
       "                       <a href='https://UWT-GIS-GeoTech.maps.arcgis.com/home/item.html?id=ab0df3ed2b6b4452ad2c781ab9900c06' target='_blank'>\n",
       "                        <img src='data:image/png;base64,iVBORw0KGgoAAAANSUhEUgAAAMgAAACFCAYAAAAenrcsAAABGUlEQVR42u3TAQ0AAAzCMPybBgU38LQSliwFTpEADAIGAYOAQcAgYBAwCBgEDAIYBAwCBgGDgEHAIGAQMAgYBAwCGAQMAgYBg4BBwCBgEDAIGAQwCBgEDAIGAYOAQcAgYBAwCBgEMAgYBAwCBgGDgEHAIGAQMAhgEDAIGAQMAgYBg4BBwCBgEDAIYBAwCBgEDAIGAYOAQcAgYBDAIGAQMAgYBAwCBgGDgEHAIGAQwCBgEDAIGAQMAgYBg4BBwCBgEAnAIGAQMAgYBAwCBgGDgEHAIIBBwCBgEDAIGAQMAgYBg4BBwCCAQcAgYBAwCBgEDAIGAYOAQQCDgEHAIGAQMAgYBAwCBgGDgEEAg4BBwCBgEDAIGAQMAu8MNFIYo2feTFIAAAAASUVORK5CYII=' width='200' height='133' class=\"itemThumbnail\">\n",
       "                       </a>\n",
       "                    </div>\n",
       "\n",
       "                    <div class=\"item_right\"     style=\"float: none; width: auto; overflow: hidden;\">\n",
       "                        <a href='https://UWT-GIS-GeoTech.maps.arcgis.com/home/item.html?id=ab0df3ed2b6b4452ad2c781ab9900c06' target='_blank'><b>GIS 312 Day 1 Survey Beta</b>\n",
       "                        </a>\n",
       "                        <br/><img src='https://UWT-GIS-GeoTech.maps.arcgis.com/home/js/jsapi/esri/css/images/item_type_icons/featureshosted16.png' style=\"vertical-align:middle;\">Feature Layer Collection by GregoryLund\n",
       "                        <br/>Last Modified: January 07, 2019\n",
       "                        <br/>0 comments, 12 views\n",
       "                    </div>\n",
       "                </div>\n",
       "                "
      ],
      "text/plain": [
       "<Item title:\"GIS 312 Day 1 Survey Beta\" type:Feature Layer Collection owner:GregoryLund>"
      ]
     },
     "metadata": {},
     "output_type": "display_data"
    },
    {
     "data": {
      "text/html": [
       "<div class=\"item_container\" style=\"height: auto; overflow: hidden; border: 1px solid #cfcfcf; border-radius: 2px; background: #f6fafa; line-height: 1.21429em; padding: 10px;\">\n",
       "                    <div class=\"item_left\" style=\"width: 210px; float: left;\">\n",
       "                       <a href='https://UWT-GIS-GeoTech.maps.arcgis.com/home/item.html?id=65da8508d9bf4574bf04ff6d9a2cd687' target='_blank'>\n",
       "                        <img src='http://static.arcgis.com/images/desktopapp.png' class=\"itemThumbnail\">\n",
       "                       </a>\n",
       "                    </div>\n",
       "\n",
       "                    <div class=\"item_right\"     style=\"float: none; width: auto; overflow: hidden;\">\n",
       "                        <a href='https://UWT-GIS-GeoTech.maps.arcgis.com/home/item.html?id=65da8508d9bf4574bf04ff6d9a2cd687' target='_blank'><b>Gregs first survey from Port Townsend Storymap_fieldworker</b>\n",
       "                        </a>\n",
       "                        <br/><img src='https://UWT-GIS-GeoTech.maps.arcgis.com/home/js/jsapi/esri/css/images/item_type_icons/featureshosted16.png' style=\"vertical-align:middle;\">Feature Layer Collection by GregoryLund\n",
       "                        <br/>Last Modified: August 14, 2018\n",
       "                        <br/>0 comments, 1 views\n",
       "                    </div>\n",
       "                </div>\n",
       "                "
      ],
      "text/plain": [
       "<Item title:\"Gregs first survey from Port Townsend Storymap_fieldworker\" type:Feature Layer Collection owner:GregoryLund>"
      ]
     },
     "metadata": {},
     "output_type": "display_data"
    },
    {
     "data": {
      "text/html": [
       "<div class=\"item_container\" style=\"height: auto; overflow: hidden; border: 1px solid #cfcfcf; border-radius: 2px; background: #f6fafa; line-height: 1.21429em; padding: 10px;\">\n",
       "                    <div class=\"item_left\" style=\"width: 210px; float: left;\">\n",
       "                       <a href='https://UWT-GIS-GeoTech.maps.arcgis.com/home/item.html?id=283e90fa3e2a4548ace4c1585eeee1d7' target='_blank'>\n",
       "                        <img src='http://static.arcgis.com/images/desktopapp.png' class=\"itemThumbnail\">\n",
       "                       </a>\n",
       "                    </div>\n",
       "\n",
       "                    <div class=\"item_right\"     style=\"float: none; width: auto; overflow: hidden;\">\n",
       "                        <a href='https://UWT-GIS-GeoTech.maps.arcgis.com/home/item.html?id=283e90fa3e2a4548ace4c1585eeee1d7' target='_blank'><b>Gregs first survey from Port Townsend Storymap</b>\n",
       "                        </a>\n",
       "                        <br/><img src='https://UWT-GIS-GeoTech.maps.arcgis.com/home/js/jsapi/esri/css/images/item_type_icons/featureshosted16.png' style=\"vertical-align:middle;\">Feature Layer Collection by GregoryLund\n",
       "                        <br/>Last Modified: August 14, 2018\n",
       "                        <br/>0 comments, 0 views\n",
       "                    </div>\n",
       "                </div>\n",
       "                "
      ],
      "text/plain": [
       "<Item title:\"Gregs first survey from Port Townsend Storymap\" type:Feature Layer Collection owner:GregoryLund>"
      ]
     },
     "metadata": {},
     "output_type": "display_data"
    }
   ],
   "source": [
    "import arcgis\n",
    "\n",
    "print('Test Time!')\n",
    "\n",
    "#You need to enter your username and password as strings in the command below.\n",
    "gis = arcgis.GIS('https://uwt-gis-geotech.maps.arcgis.com', 'YOUR_USERNAME', 'YOUR_PASSWORD')\n",
    "\n",
    "print('Logged in as ' + str(gis.properties.user.username))\n",
    "\n",
    "#Now, let's see what you have uploaded onto our AGOL!\n",
    "mysearch = gis.content.search(query='owner: YOUR_USERNAME', item_type='Feature Layer')\n",
    "#Again, you need to substitute your username in the above. For this example, I'm using Greg's.\n",
    "#DO NOT TURN IN A NOTEBOOK WITH YOUR USERNAME AND PASSWORD\n",
    "#YOU WILL LOSE POINTS\n",
    "\n",
    "\n",
    "#The following loops through every layer that belongs to the username \n",
    "#and displays a summary of it.\n",
    "for item in mysearch:\n",
    "    display(item)\n",
    "    \n"
   ]
  },
  {
   "cell_type": "markdown",
   "metadata": {},
   "source": [
    "Depending on what you've uploaded to our AGOL, you'll see different features listed above. You can add them to your map. In the cell below, I'm going to add a very simple layer that a student in the MS created at the beginning of his capstone project.\n",
    "\n",
    "For you to add your layers, you would change the name and login information accordingly.\n"
   ]
  },
  {
   "cell_type": "code",
   "execution_count": 10,
   "metadata": {},
   "outputs": [
    {
     "data": {
      "text/html": [
       "<div class=\"item_container\" style=\"height: auto; overflow: hidden; border: 1px solid #cfcfcf; border-radius: 2px; background: #f6fafa; line-height: 1.21429em; padding: 10px;\">\n",
       "                    <div class=\"item_left\" style=\"width: 210px; float: left;\">\n",
       "                       <a href='https://UWT-GIS-GeoTech.maps.arcgis.com/home/item.html?id=9caca034b0da428fb8a2be8b086c9aea' target='_blank'>\n",
       "                        <img src='data:image/png;base64,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' width='200' height='133' class=\"itemThumbnail\">\n",
       "                       </a>\n",
       "                    </div>\n",
       "\n",
       "                    <div class=\"item_right\"     style=\"float: none; width: auto; overflow: hidden;\">\n",
       "                        <a href='https://UWT-GIS-GeoTech.maps.arcgis.com/home/item.html?id=9caca034b0da428fb8a2be8b086c9aea' target='_blank'><b>Tacoma Final Report 2365 Prediction</b>\n",
       "                        </a>\n",
       "                        <br/>Feature layer generated from Interpolate Points<img src='https://UWT-GIS-GeoTech.maps.arcgis.com/home/js/jsapi/esri/css/images/item_type_icons/featureshosted16.png' style=\"vertical-align:middle;\">Feature Layer Collection by gjbcuw\n",
       "                        <br/>Last Modified: July 15, 2017\n",
       "                        <br/>0 comments, 1 views\n",
       "                    </div>\n",
       "                </div>\n",
       "                "
      ],
      "text/plain": [
       "<Item title:\"Tacoma Final Report 2365 Prediction\" type:Feature Layer Collection owner:gjbcuw>"
      ]
     },
     "metadata": {},
     "output_type": "display_data"
    },
    {
     "data": {
      "text/html": [
       "<div class=\"item_container\" style=\"height: auto; overflow: hidden; border: 1px solid #cfcfcf; border-radius: 2px; background: #f6fafa; line-height: 1.21429em; padding: 10px;\">\n",
       "                    <div class=\"item_left\" style=\"width: 210px; float: left;\">\n",
       "                       <a href='https://UWT-GIS-GeoTech.maps.arcgis.com/home/item.html?id=21e4c1e17e284fdc8e420ce9caf6b6d0' target='_blank'>\n",
       "                        <img src='data:image/png;base64,iVBORw0KGgoAAAANSUhEUgAAAMgAAACFCAIAAACR/CB7AAAACXBIWXMAAAAnAAAAJwEqCZFPAAADpElEQVR4nO3dP2sTYQDH8af+eRWXc9VJdLtoxVLBpRWXhoOKg1CxTsJzCEVxk24NdLGCXUppob06iIRCwE4huTcg6GryQAdxc45DsJTSpEnTX693+X6mNLnLPYQvz10uSW+s3W4b4KxdSnsAyCfCggRhQYKwIEFYkCAsSBAWJAgLEoQFCcKCBGFBgrAgQViQICxIEBYkCAsShAUJwoIEYUGCsCBBWJAgLEgQFiQICxKEBQnCggRhQYKwIEFYkCAsSBAWJAgLEoQFCcI6qhbHq77vnEt7INlGWJAY43+QQoEZy4RhePva+MvwddoDyZVRD2sjir5vJ17z3h/zK+2x5MqohzVh7fWit2dWfte7vhRJkhx7Gz10fTXDMLzl3839myPP8z7X69ZaW352cGclrlbiaqehJEmuFosbUXTkNk7Q7uJm4c6UWbDWdlsgx6YLL4pmdsosNBqNdru9YW2r1eo8dPg2euj6rtA512g0ZmZmhm83SZIgCIZ/nnPjnGu1Wt+2kzdLr9IeS1bJTzd0dh8/rH2ytCTdEC6UAQ7enXNv/dW9uHbwZ48jMOfcqu/X4jgIgp/WTlg77EiRKVf6WejYgFaCXWPM++bciavP/p+rKnHVGDNVejjAAJFNfe0KV33fGDPXbB6+szN1TZbG+9/YI3/eGPO1+XGwMSKD+gqrFsfGmPFSaciNdWY+z/OGfB5cfCeEtR6GxpinW1une3bn3Idg90H5xkATG3Jg1M+8Q0R7uiFzZ7BwVoQzFh+AjDLtjLUZRfet5Wh9BPFFP0hw8A4JwoIEYUGCsCBBWJAgLEgQFiQICxLphOWcW4yWU9k0zkc6Ya2Vd+rlfX6jl2OpfaTDFx/yjc8KIcHBOyQICxKEBQnCggRhQYKwIEFYkCAsSBAWJAgLEoQFCcKCBGFBgrAgQViQICxIEBYkshHWYrSc+4uv5EwGwkqSpF7eXyvvpD0QDCAb33nnlxeZk42wkDkZ2BUiiwgLEoQFCcKCBGFBgrBGnXPuuf+4GlcGXXE9DDuXWjoWYeE0KnF1c/tvjwX6uhAmcszzvE/NL6dY8XKhMFl+1+1RTpBCgl0hJAgLA3DOTfvznWt790ZYkOAYCxLMWJAgLEgQFiQICxKEBQnCggRhQYKwIEFYkCAsSBAWJAgLEoQFCcKCBGFBgrAgQViQICxIEBYkCAsShAUJwoIEYUGCsCBBWJAgLEgQFiQICxKEBQnCggRhQYKwIEFYkPgHv3wxi6BrZ3wAAAAASUVORK5CYII=' width='200' height='133' class=\"itemThumbnail\">\n",
       "                       </a>\n",
       "                    </div>\n",
       "\n",
       "                    <div class=\"item_right\"     style=\"float: none; width: auto; overflow: hidden;\">\n",
       "                        <a href='https://UWT-GIS-GeoTech.maps.arcgis.com/home/item.html?id=21e4c1e17e284fdc8e420ce9caf6b6d0' target='_blank'><b>Foreclosure_Pierce</b>\n",
       "                        </a>\n",
       "                        <br/>Foreclosure <img src='https://UWT-GIS-GeoTech.maps.arcgis.com/home/js/jsapi/esri/css/images/item_type_icons/featureshosted16.png' style=\"vertical-align:middle;\">Feature Layer Collection by gjbcuw\n",
       "                        <br/>Last Modified: May 27, 2017\n",
       "                        <br/>0 comments, 1 views\n",
       "                    </div>\n",
       "                </div>\n",
       "                "
      ],
      "text/plain": [
       "<Item title:\"Foreclosure_Pierce\" type:Feature Layer Collection owner:gjbcuw>"
      ]
     },
     "metadata": {},
     "output_type": "display_data"
    },
    {
     "data": {
      "text/html": [
       "<div class=\"item_container\" style=\"height: auto; overflow: hidden; border: 1px solid #cfcfcf; border-radius: 2px; background: #f6fafa; line-height: 1.21429em; padding: 10px;\">\n",
       "                    <div class=\"item_left\" style=\"width: 210px; float: left;\">\n",
       "                       <a href='https://UWT-GIS-GeoTech.maps.arcgis.com/home/item.html?id=52956f81567143e2affb157658ea9183' target='_blank'>\n",
       "                        <img src='http://static.arcgis.com/images/desktopapp.png' class=\"itemThumbnail\">\n",
       "                       </a>\n",
       "                    </div>\n",
       "\n",
       "                    <div class=\"item_right\"     style=\"float: none; width: auto; overflow: hidden;\">\n",
       "                        <a href='https://UWT-GIS-GeoTech.maps.arcgis.com/home/item.html?id=52956f81567143e2affb157658ea9183' target='_blank'><b>GSI in Tacoma_fieldworker</b>\n",
       "                        </a>\n",
       "                        <br/><img src='https://UWT-GIS-GeoTech.maps.arcgis.com/home/js/jsapi/esri/css/images/item_type_icons/featureshosted16.png' style=\"vertical-align:middle;\">Feature Layer Collection by kangds_MSGT\n",
       "                        <br/>Last Modified: January 30, 2018\n",
       "                        <br/>0 comments, 0 views\n",
       "                    </div>\n",
       "                </div>\n",
       "                "
      ],
      "text/plain": [
       "<Item title:\"GSI in Tacoma_fieldworker\" type:Feature Layer Collection owner:kangds_MSGT>"
      ]
     },
     "metadata": {},
     "output_type": "display_data"
    },
    {
     "data": {
      "text/html": [
       "<div class=\"item_container\" style=\"height: auto; overflow: hidden; border: 1px solid #cfcfcf; border-radius: 2px; background: #f6fafa; line-height: 1.21429em; padding: 10px;\">\n",
       "                    <div class=\"item_left\" style=\"width: 210px; float: left;\">\n",
       "                       <a href='https://UWT-GIS-GeoTech.maps.arcgis.com/home/item.html?id=bb392db63f904d269d1a2b0fb90248c9' target='_blank'>\n",
       "                        <img src='data:image/png;base64,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' width='200' height='133' class=\"itemThumbnail\">\n",
       "                       </a>\n",
       "                    </div>\n",
       "\n",
       "                    <div class=\"item_right\"     style=\"float: none; width: auto; overflow: hidden;\">\n",
       "                        <a href='https://UWT-GIS-GeoTech.maps.arcgis.com/home/item.html?id=bb392db63f904d269d1a2b0fb90248c9' target='_blank'><b>Lead Sample Locations within 7.5-Mile Buffer of Smelter</b>\n",
       "                        </a>\n",
       "                        <br/><img src='https://UWT-GIS-GeoTech.maps.arcgis.com/home/js/jsapi/esri/css/images/item_type_icons/featureshosted16.png' style=\"vertical-align:middle;\">Feature Layer Collection by apsmcd6\n",
       "                        <br/>Last Modified: May 31, 2018\n",
       "                        <br/>0 comments, 71 views\n",
       "                    </div>\n",
       "                </div>\n",
       "                "
      ],
      "text/plain": [
       "<Item title:\"Lead Sample Locations within 7.5-Mile Buffer of Smelter\" type:Feature Layer Collection owner:apsmcd6>"
      ]
     },
     "metadata": {},
     "output_type": "display_data"
    },
    {
     "data": {
      "text/html": [
       "<div class=\"item_container\" style=\"height: auto; overflow: hidden; border: 1px solid #cfcfcf; border-radius: 2px; background: #f6fafa; line-height: 1.21429em; padding: 10px;\">\n",
       "                    <div class=\"item_left\" style=\"width: 210px; float: left;\">\n",
       "                       <a href='https://UWT-GIS-GeoTech.maps.arcgis.com/home/item.html?id=430832410990493c9fee748f19b0e081' target='_blank'>\n",
       "                        <img src='http://static.arcgis.com/images/desktopapp.png' class=\"itemThumbnail\">\n",
       "                       </a>\n",
       "                    </div>\n",
       "\n",
       "                    <div class=\"item_right\"     style=\"float: none; width: auto; overflow: hidden;\">\n",
       "                        <a href='https://UWT-GIS-GeoTech.maps.arcgis.com/home/item.html?id=430832410990493c9fee748f19b0e081' target='_blank'><b>Tacoma</b>\n",
       "                        </a>\n",
       "                        <br/><img src='https://UWT-GIS-GeoTech.maps.arcgis.com/home/js/jsapi/esri/css/images/item_type_icons/featureshosted16.png' style=\"vertical-align:middle;\">Feature Layer Collection by ninak83_UWT_GIS_Cert\n",
       "                        <br/>Last Modified: May 18, 2017\n",
       "                        <br/>0 comments, 21 views\n",
       "                    </div>\n",
       "                </div>\n",
       "                "
      ],
      "text/plain": [
       "<Item title:\"Tacoma\" type:Feature Layer Collection owner:ninak83_UWT_GIS_Cert>"
      ]
     },
     "metadata": {},
     "output_type": "display_data"
    },
    {
     "data": {
      "text/html": [
       "<div class=\"item_container\" style=\"height: auto; overflow: hidden; border: 1px solid #cfcfcf; border-radius: 2px; background: #f6fafa; line-height: 1.21429em; padding: 10px;\">\n",
       "                    <div class=\"item_left\" style=\"width: 210px; float: left;\">\n",
       "                       <a href='https://UWT-GIS-GeoTech.maps.arcgis.com/home/item.html?id=4dd39426047a4d52adaec77f80baf00e' target='_blank'>\n",
       "                        <img src='data:image/png;base64,iVBORw0KGgoAAAANSUhEUgAAAMgAAACFCAIAAACR/CB7AAAACXBIWXMAAAAnAAAAJwEqCZFPAAABbElEQVR4nO3SwQ3AIBDAsNL9dz6WIEJC9gR5ZM3MB6f9twN4k7FIGIuEsUgYi4SxSBiLhLFIGIuEsUgYi4SxSBiLhLFIGIuEsUgYi4SxSBiLhLFIGIuEsUgYi4SxSBiLhLFIGIuEsUgYi4SxSBiLhLFIGIuEsUgYi4SxSBiLhLFIGIuEsUgYi4SxSBiLhLFIGIuEsUgYi4SxSBiLhLFIGIuEsUgYi4SxSBiLhLFIGIuEsUgYi4SxSBiLhLFIGIuEsUgYi4SxSBiLhLFIGIuEsUgYi4SxSBiLhLFIGIuEsUgYi4SxSBiLhLFIGIuEsUgYi4SxSBiLhLFIGIuEsUgYi4SxSBiLhLFIGIuEsUgYi4SxSBiLhLFIGIuEsUgYi4SxSBiLhLFIGIuEsUgYi4SxSBiLhLFIGIuEsUgYi4SxSBiLhLFIGIuEsUgYi4SxSBiLhLFIGIuEsUgYi4SxSBiLhLFIGIuEsUgYi4SxSGy4dQQHgizXSQAAAABJRU5ErkJggg==' width='200' height='133' class=\"itemThumbnail\">\n",
       "                       </a>\n",
       "                    </div>\n",
       "\n",
       "                    <div class=\"item_right\"     style=\"float: none; width: auto; overflow: hidden;\">\n",
       "                        <a href='https://UWT-GIS-GeoTech.maps.arcgis.com/home/item.html?id=4dd39426047a4d52adaec77f80baf00e' target='_blank'><b>TREES</b>\n",
       "                        </a>\n",
       "                        <br/>Basic tree inventory for neighborhood business districts in the City of Tacoma<img src='https://UWT-GIS-GeoTech.maps.arcgis.com/home/js/jsapi/esri/css/images/item_type_icons/featureshosted16.png' style=\"vertical-align:middle;\">Feature Layer Collection by MSGT_16_leafe\n",
       "                        <br/>Last Modified: May 16, 2016\n",
       "                        <br/>0 comments, 24 views\n",
       "                    </div>\n",
       "                </div>\n",
       "                "
      ],
      "text/plain": [
       "<Item title:\"TREES\" type:Feature Layer Collection owner:MSGT_16_leafe>"
      ]
     },
     "metadata": {},
     "output_type": "display_data"
    },
    {
     "data": {
      "text/html": [
       "<div class=\"item_container\" style=\"height: auto; overflow: hidden; border: 1px solid #cfcfcf; border-radius: 2px; background: #f6fafa; line-height: 1.21429em; padding: 10px;\">\n",
       "                    <div class=\"item_left\" style=\"width: 210px; float: left;\">\n",
       "                       <a href='https://UWT-GIS-GeoTech.maps.arcgis.com/home/item.html?id=5a96477cd8074d09a7c28d098f84cd36' target='_blank'>\n",
       "                        <img src='data:image/png;base64,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' width='200' height='133' class=\"itemThumbnail\">\n",
       "                       </a>\n",
       "                    </div>\n",
       "\n",
       "                    <div class=\"item_right\"     style=\"float: none; width: auto; overflow: hidden;\">\n",
       "                        <a href='https://UWT-GIS-GeoTech.maps.arcgis.com/home/item.html?id=5a96477cd8074d09a7c28d098f84cd36' target='_blank'><b>GSI_ELIGIBILITY</b>\n",
       "                        </a>\n",
       "                        <br/>Layer containing properties elgible for Green Stormwater installations & eligible areas <img src='https://UWT-GIS-GeoTech.maps.arcgis.com/home/js/jsapi/esri/css/images/item_type_icons/featureshosted16.png' style=\"vertical-align:middle;\">Feature Layer Collection by kangds_MSGT\n",
       "                        <br/>Last Modified: February 06, 2018\n",
       "                        <br/>0 comments, 40 views\n",
       "                    </div>\n",
       "                </div>\n",
       "                "
      ],
      "text/plain": [
       "<Item title:\"GSI_ELIGIBILITY\" type:Feature Layer Collection owner:kangds_MSGT>"
      ]
     },
     "metadata": {},
     "output_type": "display_data"
    },
    {
     "data": {
      "text/html": [
       "<div class=\"item_container\" style=\"height: auto; overflow: hidden; border: 1px solid #cfcfcf; border-radius: 2px; background: #f6fafa; line-height: 1.21429em; padding: 10px;\">\n",
       "                    <div class=\"item_left\" style=\"width: 210px; float: left;\">\n",
       "                       <a href='https://UWT-GIS-GeoTech.maps.arcgis.com/home/item.html?id=b1a3165303c747dfb7d873a6a7a27c8d' target='_blank'>\n",
       "                        <img src='data:image/png;base64,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' width='200' height='133' class=\"itemThumbnail\">\n",
       "                       </a>\n",
       "                    </div>\n",
       "\n",
       "                    <div class=\"item_right\"     style=\"float: none; width: auto; overflow: hidden;\">\n",
       "                        <a href='https://UWT-GIS-GeoTech.maps.arcgis.com/home/item.html?id=b1a3165303c747dfb7d873a6a7a27c8d' target='_blank'><b>UWT_Trees_AOI</b>\n",
       "                        </a>\n",
       "                        <br/>UWT Trees AOI<img src='https://UWT-GIS-GeoTech.maps.arcgis.com/home/js/jsapi/esri/css/images/item_type_icons/featureshosted16.png' style=\"vertical-align:middle;\">Feature Layer Collection by MSGT_16_reuben\n",
       "                        <br/>Last Modified: January 26, 2016\n",
       "                        <br/>0 comments, 1 views\n",
       "                    </div>\n",
       "                </div>\n",
       "                "
      ],
      "text/plain": [
       "<Item title:\"UWT_Trees_AOI\" type:Feature Layer Collection owner:MSGT_16_reuben>"
      ]
     },
     "metadata": {},
     "output_type": "display_data"
    },
    {
     "data": {
      "text/html": [
       "<div class=\"item_container\" style=\"height: auto; overflow: hidden; border: 1px solid #cfcfcf; border-radius: 2px; background: #f6fafa; line-height: 1.21429em; padding: 10px;\">\n",
       "                    <div class=\"item_left\" style=\"width: 210px; float: left;\">\n",
       "                       <a href='https://UWT-GIS-GeoTech.maps.arcgis.com/home/item.html?id=cce3f6ab2e214175939b8e5cee238a3e' target='_blank'>\n",
       "                        <img src='data:image/png;base64,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' width='200' height='133' class=\"itemThumbnail\">\n",
       "                       </a>\n",
       "                    </div>\n",
       "\n",
       "                    <div class=\"item_right\"     style=\"float: none; width: auto; overflow: hidden;\">\n",
       "                        <a href='https://UWT-GIS-GeoTech.maps.arcgis.com/home/item.html?id=cce3f6ab2e214175939b8e5cee238a3e' target='_blank'><b>Parcels in Tacoma floodplains and 500ft buffers</b>\n",
       "                        </a>\n",
       "                        <br/><img src='https://UWT-GIS-GeoTech.maps.arcgis.com/home/js/jsapi/esri/css/images/item_type_icons/featureshosted16.png' style=\"vertical-align:middle;\">Feature Layer Collection by zzli@uw.edu\n",
       "                        <br/>Last Modified: June 05, 2016\n",
       "                        <br/>0 comments, 53 views\n",
       "                    </div>\n",
       "                </div>\n",
       "                "
      ],
      "text/plain": [
       "<Item title:\"Parcels in Tacoma floodplains and 500ft buffers\" type:Feature Layer Collection owner:zzli@uw.edu>"
      ]
     },
     "metadata": {},
     "output_type": "display_data"
    },
    {
     "data": {
      "text/html": [
       "<div class=\"item_container\" style=\"height: auto; overflow: hidden; border: 1px solid #cfcfcf; border-radius: 2px; background: #f6fafa; line-height: 1.21429em; padding: 10px;\">\n",
       "                    <div class=\"item_left\" style=\"width: 210px; float: left;\">\n",
       "                       <a href='https://UWT-GIS-GeoTech.maps.arcgis.com/home/item.html?id=5eb92a8681bc4b2c9764e43c529e543e' target='_blank'>\n",
       "                        <img src='data:image/png;base64,iVBORw0KGgoAAAANSUhEUgAAAMgAAACFCAIAAACR/CB7AAAACXBIWXMAAAAnAAAAJwEqCZFPAAABbElEQVR4nO3SwQ3AIBDAsNL9dz6WIEJC9gR5ZM3MB6f9twN4k7FIGIuEsUgYi4SxSBiLhLFIGIuEsUgYi4SxSBiLhLFIGIuEsUgYi4SxSBiLhLFIGIuEsUgYi4SxSBiLhLFIGIuEsUgYi4SxSBiLhLFIGIuEsUgYi4SxSBiLhLFIGIuEsUgYi4SxSBiLhLFIGIuEsUgYi4SxSBiLhLFIGIuEsUgYi4SxSBiLhLFIGIuEsUgYi4SxSBiLhLFIGIuEsUgYi4SxSBiLhLFIGIuEsUgYi4SxSBiLhLFIGIuEsUgYi4SxSBiLhLFIGIuEsUgYi4SxSBiLhLFIGIuEsUgYi4SxSBiLhLFIGIuEsUgYi4SxSBiLhLFIGIuEsUgYi4SxSBiLhLFIGIuEsUgYi4SxSBiLhLFIGIuEsUgYi4SxSBiLhLFIGIuEsUgYi4SxSBiLhLFIGIuEsUgYi4SxSBiLhLFIGIuEsUgYi4SxSGy4dQQHgizXSQAAAABJRU5ErkJggg==' width='200' height='133' class=\"itemThumbnail\">\n",
       "                       </a>\n",
       "                    </div>\n",
       "\n",
       "                    <div class=\"item_right\"     style=\"float: none; width: auto; overflow: hidden;\">\n",
       "                        <a href='https://UWT-GIS-GeoTech.maps.arcgis.com/home/item.html?id=5eb92a8681bc4b2c9764e43c529e543e' target='_blank'><b>Hazards</b>\n",
       "                        </a>\n",
       "                        <br/>Report potholes and other road hazards in Tacoma<img src='https://UWT-GIS-GeoTech.maps.arcgis.com/home/js/jsapi/esri/css/images/item_type_icons/featureshosted16.png' style=\"vertical-align:middle;\">Feature Layer Collection by kbogue137\n",
       "                        <br/>Last Modified: February 05, 2018\n",
       "                        <br/>0 comments, 103 views\n",
       "                    </div>\n",
       "                </div>\n",
       "                "
      ],
      "text/plain": [
       "<Item title:\"Hazards\" type:Feature Layer Collection owner:kbogue137>"
      ]
     },
     "metadata": {},
     "output_type": "display_data"
    }
   ],
   "source": [
    "import arcgis\n",
    "\n",
    "def mapextent(location):\n",
    "    '''A very simple function that returns the map extent coordinates \n",
    "    for a string fed into it'''\n",
    "    \n",
    "    x = arcgis.geocode(location)[0]\n",
    "    return x['extent']\n",
    "\n",
    "#We're going to set our GIS as our online account\n",
    "#This means we WILL be using credits, so be careful!\n",
    "\n",
    "gis = arcgis.GIS('https://uwt-gis-geotech.maps.arcgis.com', 'YOUR_USERNAME', 'YOUR_PASSWORD')\n",
    "tmap = gis.map()\n",
    "tmap.extent = mapextent('Tacoma') #I call the function and pass it the string 'Tacoma'\n",
    "\n",
    "#Now I'm going to search for the layer I want and then add it to the map.\n",
    "\n",
    "tacomalayers = gis.content.search('Tacoma', 'feature_service', max_items=10)\n",
    "for item in tacomalayers:\n",
    "    display(item)"
   ]
  },
  {
   "cell_type": "markdown",
   "metadata": {},
   "source": [
    "**Note:** You will get different results than I did, I'm an admin, you aren't.\n",
    "\n",
    "Also, note, the results come as an ordered list. So, I can call them in various ways. Here, I'm going to call the fourth entry of that list and add it to my map. It's a lead sample maps."
   ]
  },
  {
   "cell_type": "code",
   "execution_count": 11,
   "metadata": {},
   "outputs": [
    {
     "data": {
      "application/vnd.jupyter.widget-view+json": {
       "model_id": "38f10f9d409443e5884c5d3e233117fb",
       "version_major": 2,
       "version_minor": 0
      },
      "text/plain": [
       "MapView(layout=Layout(height='400px', width='100%'))"
      ]
     },
     "metadata": {},
     "output_type": "display_data"
    },
    {
     "data": {
      "text/html": [
       "<div class=\"map-static-img-preview-f7f1aaee-cbe5-4449-b78b-d7ee439b9c48\"><img src=\"\"></img></div>"
      ],
      "text/plain": [
       "<IPython.core.display.HTML object>"
      ]
     },
     "metadata": {},
     "output_type": "display_data"
    }
   ],
   "source": [
    "tmap.add_layer(tacomalayers[3])\n",
    "\n",
    "#and now let's look at it\n",
    "tmap"
   ]
  },
  {
   "cell_type": "markdown",
   "metadata": {},
   "source": [
    "Try clicking around.\n",
    "\n",
    "Notice how you could, for example, add a whole host of layers using iteration. Now, we're going to learn a bit about processing. \n",
    "\n",
    "Now, it's time to jump into some data manipulation. We'll be taking a csv (comma separated value - a common form of flat-file data), manipulating it into something that can be displayed spatially, and then adding it to a map. We'll then also do some basic geoprocessing on it.\n",
    "\n",
    "That sounds like a lot, but you have all the tools to do this. Use pseudocode, break problems apart. Work together! Be creative - break things!\n",
    "\n",
    "In the files repository (where you found this notebook and not where you will upload it once completed), you'll find two .csv files that I grabbed from the [Results253](https://data.cityoftacoma.org/) website: Museums_in_Tacoma.csv and Tacoma_Parks.csv.\n",
    "\n",
    "We're going to use a library called [pandas](https://pandas.pydata.org/) to process this data and then add it to our map. I'll be doing the early steps, but you'll be asked to write the final scripts yourself.\n",
    "\n",
    "**Please note, I assume you have downloaded the csvs to the local directory where you also have this lab. You can review previous labs on how to handle file locations**\n",
    "\n",
    "Also note, if you installed the arcgis library and geopandas (as you need to have), pandas is already installed. If you get a `ModuleNotFoundError`, just go manually install it like any other library.\n"
   ]
  },
  {
   "cell_type": "code",
   "execution_count": 14,
   "metadata": {},
   "outputs": [
    {
     "data": {
      "text/html": [
       "<div>\n",
       "<style scoped>\n",
       "    .dataframe tbody tr th:only-of-type {\n",
       "        vertical-align: middle;\n",
       "    }\n",
       "\n",
       "    .dataframe tbody tr th {\n",
       "        vertical-align: top;\n",
       "    }\n",
       "\n",
       "    .dataframe thead th {\n",
       "        text-align: right;\n",
       "    }\n",
       "</style>\n",
       "<table border=\"1\" class=\"dataframe\">\n",
       "  <thead>\n",
       "    <tr style=\"text-align: right;\">\n",
       "      <th></th>\n",
       "      <th>Park Name</th>\n",
       "      <th>Park Description</th>\n",
       "      <th>Park Location</th>\n",
       "    </tr>\n",
       "  </thead>\n",
       "  <tbody>\n",
       "    <tr>\n",
       "      <th>0</th>\n",
       "      <td>Manitou Park</td>\n",
       "      <td>Established in 1915, what was once a tourist c...</td>\n",
       "      <td>4408 S. Manitou Park\\nTacoma, WA</td>\n",
       "    </tr>\n",
       "    <tr>\n",
       "      <th>1</th>\n",
       "      <td>McKinley Park</td>\n",
       "      <td>Pathways among the trees and new playground eq...</td>\n",
       "      <td>907 Upper Park St.\\nTacoma, WA</td>\n",
       "    </tr>\n",
       "    <tr>\n",
       "      <th>2</th>\n",
       "      <td>Oak Tree Park</td>\n",
       "      <td>Oak Tree Park is a 25 acre parcel that compris...</td>\n",
       "      <td>S 74th and Cedar St.\\nTacoma, WA</td>\n",
       "    </tr>\n",
       "    <tr>\n",
       "      <th>3</th>\n",
       "      <td>Puget Creek Natural Area</td>\n",
       "      <td>At 66-acres, this natural area has one of only...</td>\n",
       "      <td>N. Alder Way &amp;amp; N. Lawrence St.\\nTacoma, WA</td>\n",
       "    </tr>\n",
       "    <tr>\n",
       "      <th>4</th>\n",
       "      <td>Ruston Way</td>\n",
       "      <td>This two-mile long scenic waterfront with pano...</td>\n",
       "      <td>Ruston Way\\nTacoma, WA</td>\n",
       "    </tr>\n",
       "  </tbody>\n",
       "</table>\n",
       "</div>"
      ],
      "text/plain": [
       "                  Park Name  \\\n",
       "0              Manitou Park   \n",
       "1             McKinley Park   \n",
       "2             Oak Tree Park   \n",
       "3  Puget Creek Natural Area   \n",
       "4                Ruston Way   \n",
       "\n",
       "                                    Park Description  \\\n",
       "0  Established in 1915, what was once a tourist c...   \n",
       "1  Pathways among the trees and new playground eq...   \n",
       "2  Oak Tree Park is a 25 acre parcel that compris...   \n",
       "3  At 66-acres, this natural area has one of only...   \n",
       "4  This two-mile long scenic waterfront with pano...   \n",
       "\n",
       "                                    Park Location  \n",
       "0                4408 S. Manitou Park\\nTacoma, WA  \n",
       "1                  907 Upper Park St.\\nTacoma, WA  \n",
       "2                S 74th and Cedar St.\\nTacoma, WA  \n",
       "3  N. Alder Way &amp; N. Lawrence St.\\nTacoma, WA  \n",
       "4                          Ruston Way\\nTacoma, WA  "
      ]
     },
     "execution_count": 14,
     "metadata": {},
     "output_type": "execute_result"
    }
   ],
   "source": [
    "import pandas\n",
    "\n",
    "parks = pandas.read_csv('Tacoma_Parks.csv')\n",
    "parks.head()"
   ]
  },
  {
   "cell_type": "code",
   "execution_count": 15,
   "metadata": {},
   "outputs": [
    {
     "data": {
      "text/html": [
       "<div>\n",
       "<style scoped>\n",
       "    .dataframe tbody tr th:only-of-type {\n",
       "        vertical-align: middle;\n",
       "    }\n",
       "\n",
       "    .dataframe tbody tr th {\n",
       "        vertical-align: top;\n",
       "    }\n",
       "\n",
       "    .dataframe thead th {\n",
       "        text-align: right;\n",
       "    }\n",
       "</style>\n",
       "<table border=\"1\" class=\"dataframe\">\n",
       "  <thead>\n",
       "    <tr style=\"text-align: right;\">\n",
       "      <th></th>\n",
       "      <th>Name</th>\n",
       "      <th>Address</th>\n",
       "      <th>City, State and ZIP Code</th>\n",
       "      <th>Location</th>\n",
       "      <th>Website</th>\n",
       "    </tr>\n",
       "  </thead>\n",
       "  <tbody>\n",
       "    <tr>\n",
       "      <th>0</th>\n",
       "      <td>Children's Museum of Tacoma</td>\n",
       "      <td>1501 Pacific Ave</td>\n",
       "      <td>Tacoma, WA 98402</td>\n",
       "      <td>1501 Pacific Ave\\nTacoma, WA 98402\\n(47.249063...</td>\n",
       "      <td>Website (http://www.playtacoma.org/)</td>\n",
       "    </tr>\n",
       "    <tr>\n",
       "      <th>1</th>\n",
       "      <td>Museum of Glass</td>\n",
       "      <td>1801 Dock St</td>\n",
       "      <td>Tacoma, WA 98402</td>\n",
       "      <td>1801 Dock St\\nTacoma, WA 98402\\n(47.245401, -1...</td>\n",
       "      <td>Website (http://museumofglass.org/visit)</td>\n",
       "    </tr>\n",
       "    <tr>\n",
       "      <th>2</th>\n",
       "      <td>Washington State History Museum</td>\n",
       "      <td>1911 Pacific Ave</td>\n",
       "      <td>Tacoma, WA 98402</td>\n",
       "      <td>1911 Pacific Ave\\nTacoma, WA 98402\\n(47.244424...</td>\n",
       "      <td>Website (http://www.washingtonhistory.org/visi...</td>\n",
       "    </tr>\n",
       "    <tr>\n",
       "      <th>3</th>\n",
       "      <td>Foss Waterway Seaport</td>\n",
       "      <td>705 Dock St</td>\n",
       "      <td>Tacoma, WA 98402</td>\n",
       "      <td>705 Dock St\\nTacoma, WA 98402\\n(47.257877, -12...</td>\n",
       "      <td>Website (http://www.fosswaterwayseaport.org/)</td>\n",
       "    </tr>\n",
       "    <tr>\n",
       "      <th>4</th>\n",
       "      <td>Tacoma Art Museum</td>\n",
       "      <td>1701 Pacific Ave</td>\n",
       "      <td>Tacoma, WA 98402</td>\n",
       "      <td>1701 Pacific Ave\\nTacoma, WA 98402\\n(47.247358...</td>\n",
       "      <td>Website (http://www.tacomaartmuseum.org/)</td>\n",
       "    </tr>\n",
       "  </tbody>\n",
       "</table>\n",
       "</div>"
      ],
      "text/plain": [
       "                              Name           Address City, State and ZIP Code  \\\n",
       "0      Children's Museum of Tacoma  1501 Pacific Ave         Tacoma, WA 98402   \n",
       "1                  Museum of Glass      1801 Dock St         Tacoma, WA 98402   \n",
       "2  Washington State History Museum  1911 Pacific Ave         Tacoma, WA 98402   \n",
       "3            Foss Waterway Seaport       705 Dock St         Tacoma, WA 98402   \n",
       "4                Tacoma Art Museum  1701 Pacific Ave         Tacoma, WA 98402   \n",
       "\n",
       "                                            Location  \\\n",
       "0  1501 Pacific Ave\\nTacoma, WA 98402\\n(47.249063...   \n",
       "1  1801 Dock St\\nTacoma, WA 98402\\n(47.245401, -1...   \n",
       "2  1911 Pacific Ave\\nTacoma, WA 98402\\n(47.244424...   \n",
       "3  705 Dock St\\nTacoma, WA 98402\\n(47.257877, -12...   \n",
       "4  1701 Pacific Ave\\nTacoma, WA 98402\\n(47.247358...   \n",
       "\n",
       "                                             Website  \n",
       "0               Website (http://www.playtacoma.org/)  \n",
       "1           Website (http://museumofglass.org/visit)  \n",
       "2  Website (http://www.washingtonhistory.org/visi...  \n",
       "3      Website (http://www.fosswaterwayseaport.org/)  \n",
       "4          Website (http://www.tacomaartmuseum.org/)  "
      ]
     },
     "execution_count": 15,
     "metadata": {},
     "output_type": "execute_result"
    }
   ],
   "source": [
    "museums = pandas.read_csv('Museums_in_Tacoma.csv')\n",
    "museums.head()"
   ]
  },
  {
   "cell_type": "markdown",
   "metadata": {},
   "source": [
    "What you should see is a nicely formatted table of the first five entries (the 'head') of each data set. Pandas is extremely powerful and has done some of the formatting for us.\n",
    "\n",
    "Take a look at that the columns, does one seem to have location information in it? Wouldn't it be useful to be able to geocode said information and add it to a map?\n",
    "\n",
    "I'm going to show you how to do this for the museums dataset and then leave you to figure out how to do so for the parks one (there's a trick to the parks file... what do you think happens when there's a space in a column name?)\n"
   ]
  },
  {
   "cell_type": "code",
   "execution_count": 16,
   "metadata": {},
   "outputs": [
    {
     "data": {
      "application/vnd.jupyter.widget-view+json": {
       "model_id": "4bc997e467a241f78212bc426cdbad92",
       "version_major": 2,
       "version_minor": 0
      },
      "text/plain": [
       "MapView(layout=Layout(height='400px', width='100%'))"
      ]
     },
     "metadata": {},
     "output_type": "display_data"
    },
    {
     "data": {
      "text/html": [
       "<div class=\"map-static-img-preview-2e1c447b-eae7-445d-ae2c-bbf1a9d8b2e8\"><img src=\"\"></img></div>"
      ],
      "text/plain": [
       "<IPython.core.display.HTML object>"
      ]
     },
     "metadata": {},
     "output_type": "display_data"
    }
   ],
   "source": [
    "import pandas, arcgis\n",
    "\n",
    "def mapextent(location):\n",
    "    '''A very simple function that returns the map extent coordinates for a string fed into it'''\n",
    "    x = arcgis.geocode(location)[0]\n",
    "    return x['extent']\n",
    "\n",
    "#Setting up our base map.\n",
    "gis = arcgis.GIS('https://uwt-gis-geotech.maps.arcgis.com', 'YOUR_USERNAME', 'YOUR_PASSWORD')\n",
    "tmap = gis.map()\n",
    "tmap.extent = mapextent('Tacoma') #I call the function and pass it the string 'Tacoma'\n",
    "\n",
    "\n",
    "#We can import pandas data fields into the ArcGIS library so long as we set an 'address' field.\n",
    "museumsgis = gis.content.import_data(museums, {'Address' : 'Location'})\n",
    "tmap.add_layer(museumsgis)\n",
    "\n",
    "tmap"
   ]
  },
  {
   "cell_type": "markdown",
   "metadata": {},
   "source": [
    "### Problem 4: Display both layers on a single map.\n",
    "\n",
    "+1 bonus points if you display them in different colors."
   ]
  },
  {
   "cell_type": "code",
   "execution_count": null,
   "metadata": {},
   "outputs": [],
   "source": [
    "import arcgis, pandas"
   ]
  },
  {
   "cell_type": "markdown",
   "metadata": {},
   "source": [
    "**Good work!**\n",
    "\n",
    "Ok, now let's do some spatial analysis. You'll want to read up on the arcgis.features module, you can find that information [here](https://esri.github.io/arcgis-python-api/apidoc/html/arcgis.features.toc.html).\n",
    "\n",
    "There are a lot of ways to do this and the way we're going to do it is just one. We'll be using the arcgis.features.analysis.find_nearest() tool."
   ]
  },
  {
   "cell_type": "code",
   "execution_count": null,
   "metadata": {},
   "outputs": [],
   "source": [
    "import arcgis, pandas\n",
    "\n",
    "#First, as above, we'll set up our map and add in our feature.\n",
    "def mapextent(location):\n",
    "    '''A very simple function that returns the map extent coordinates for a string fed into it'''\n",
    "    x = arcgis.geocode(location)[0]\n",
    "    return x['extent']\n",
    "\n",
    "#Setting up our base map.\n",
    "gis = arcgis.GIS('https://uwt-gis-geotech.maps.arcgis.com', 'YOUR_USERNAME', 'YOUR_PASSWORD')\n",
    "tmap = gis.map()\n",
    "tmap.extent = mapextent('Tacoma') #I call the function and pass it the string 'Tacoma'\n",
    "\n",
    "#We can import pandas data fields into the ArcGIS library so long as we set an 'address' field.\n",
    "museumsgis = gis.content.import_data(museums, {'Address' : 'Location'})\n",
    "\n",
    "#LIKE BEFORE, YOU NEED TO ADD IN THE PARKS LAYER HERE!\n",
    "\n",
    "\n",
    "#Now, we're going to use the find_nearest sub-module of the arcgis.features.analysis module!\n",
    "nearestpark = arcgis.features.analysis.find_nearest(museumsgis, WHAT_YOU_CALLED_YOUR_PARK, max_count=1)\n",
    "\n",
    "print(nearestpark)"
   ]
  },
  {
   "cell_type": "markdown",
   "metadata": {},
   "source": [
    "Hmmm, what's going on there? It looks like the find_nearest() command returns a dictionary of two feature classes.\n",
    "\n",
    "(Note: I used max_count=1 to set it so that for each result, only the absolutely shortest pair was returned).\n",
    "\n",
    "Let's add our museums, our parks, and the lines that connect the shortest pairs together.\n",
    "\n",
    "### Problem 5: Museum and park pairs.\n",
    "\n",
    "Display a map that has each museum connected to the park to which it is closest.\n",
    "\n",
    "+1 bonus point if you use driving distance (this is a parameter you can pass to the find_nearest() function)."
   ]
  },
  {
   "cell_type": "code",
   "execution_count": null,
   "metadata": {},
   "outputs": [],
   "source": []
  },
  {
   "cell_type": "markdown",
   "metadata": {},
   "source": [
    "## That's it, you're done! \n",
    "### Next week, we'll work on GeoPandas *and* Folium\n",
    "\n",
    "But, let's try a bonus question. \n",
    "**Full disclosure:** While I know this can be done, I haven't actually done it. The find_nearest() function doesn't allow for queries on it, so you might have to do this with an entirely different function. **That's why it's a bonus question**. \n",
    "#### Don't try this until you've finished the rest of the lab.\n",
    "\n",
    "### Bonus Problem: Create a map that has on it **only** the shortest combined driving distance between the set of a school, a park, and a museum \n",
    "\n",
    "Put colloquially, you are going to drive from a school, to a park, and then to a museum and you need the **set** that has the lowest combined driving time between the three places (in that order school -> park -> museum).\n",
    "\n",
    "**+4 points, partial credit possible**"
   ]
  },
  {
   "cell_type": "code",
   "execution_count": null,
   "metadata": {},
   "outputs": [],
   "source": []
  }
 ],
 "metadata": {
  "kernelspec": {
   "display_name": "Python 3",
   "language": "python",
   "name": "python3"
  },
  "language_info": {
   "codemirror_mode": {
    "name": "ipython",
    "version": 3
   },
   "file_extension": ".py",
   "mimetype": "text/x-python",
   "name": "python",
   "nbconvert_exporter": "python",
   "pygments_lexer": "ipython3",
   "version": "3.6.8"
  }
 },
 "nbformat": 4,
 "nbformat_minor": 2
}
