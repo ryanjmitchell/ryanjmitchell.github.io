{
 "cells": [
  {
   "cell_type": "code",
   "execution_count": 1,
   "metadata": {},
   "outputs": [
    {
     "name": "stdout",
     "output_type": "stream",
     "text": [
      "Hello Class!\n"
     ]
    }
   ],
   "source": [
    "print('Hello Class!')"
   ]
  },
  {
   "cell_type": "markdown",
   "metadata": {},
   "source": [
    "# Lab 1\n",
    "## Our first python scripts\n",
    "\n",
    "This lab is meant as a first step into the wonderful world of scripting. We're going to be focusing on solving problems using a fundamental element of flow control: the if/then statement.\n",
    "\n",
    "We'll spend much of class next week going over iteration and flow control (loops, etc.), but for this lab, you just need to think about the statement like this: \"*If* something is true, *then* do something; *if not* do something else.\"\n",
    "\n",
    "The best way to understand that is with some hands on examples, so let's get started."
   ]
  },
  {
   "cell_type": "markdown",
   "metadata": {},
   "source": [
    "## But, first some housekeeping.\n",
    "\n",
    "This lab should appear to you as a series of markdown and code boxes with which you can interact. **If** it appears as a statically rendered page (try clicking on a box), then you are not loading it within jupyter. Let's talk about how you set up environments for a moment.\n",
    "\n",
    "I like to create a new environment for each lab. This keeps everything nice and tiday and makes sure that any conflicts between versions of libraries are handled 'automagically' (*usually*). But, I've also had students create a single environment for each class. Feel free to do either. For now, let's talk about how you create en environment.\n",
    "\n",
    "**I am assuming that you have anaconda installed and are able to get to the anaconda prompt**. If that is not the case, [go here and do so](https://www.anaconda.com/download/).\n",
    "\n",
    "With your prompt staring at you, you can create an environment like so:\n",
    "`conda create -n lab1 python=3.6`\n",
    "\n",
    "That tells conda to create an environment named (-n) lab1 and to install python version 3.6 with it. You could just as easily give it another name or a different version of python. Anaconda will go out and find all the packages necessary to do this and prompt you that you are sure you want to install them, you are.\n",
    "\n",
    "Ok, now once that's completed, it's time to activate your environment. You do so like so:\n",
    "\n",
    "**In windows:** `activate lab1`\n",
    "\n",
    "**In mac/linux:** `source activate lab1`\n",
    "\n",
    "You should now have `(lab1)` to the left of your prompt. This means that you are in the environment you created. \n",
    "\n",
    "Now it's time to install the packages we'll need for this lab. In this case, we only need jupyter notebooks, so go ahead and type:\n",
    "`conda install jupyter`\n",
    "\n",
    "This tells Anaconda to go out and find all the packages needed to run jupyter notebooks. You'll be prompted that you want to install them, you'll say yes again.\n",
    "\n",
    "Once ***all that*** is done, type in `jupyter` and a notebook application should launch in your web browser. At that point, simply navigate to this file and open it again. **Boom**, you're ready to go.\n",
    "\n",
    "\n",
    "### This may seem like a lot, but with time it will become like second nature. Take some time now to play with Anaconda and Jupyter; they are both extremely useful tools that, along with github, will help you organize and create amazing scripts.\n",
    "\n",
    "#### Finally, think about your workflow. How will you *pull* things down from our class repository and *push* them up when you are done. **Set up your workflow now!**\n",
    "\n",
    "# Still with me, great. Let's look at `if` statements\n"
   ]
  },
  {
   "cell_type": "code",
   "execution_count": 4,
   "metadata": {},
   "outputs": [
    {
     "name": "stdout",
     "output_type": "stream",
     "text": [
      "Checking your number...\n",
      "The number is large!\n"
     ]
    }
   ],
   "source": [
    "x = 5\n",
    "\n",
    "print(\"Checking your number...\")\n",
    "if x > 4:\n",
    "    print('The number is large!')\n"
   ]
  },
  {
   "cell_type": "markdown",
   "metadata": {},
   "source": [
    "### Ok, ok, ok.\n",
    "That's pretty simple. True, but throughout this course you're going to learn how to use *relatively* simple concepts to break apart *seemingly* difficult problems to save time and energy and to accomplish some really neat things.\n",
    "\n",
    "As you can see, the format for an if/then statement in python looks like:\n",
    "```python\n",
    "if [something]:\n",
    "    [do something]\n",
    "```\n",
    "This seems trivial, but it's actually fairly fundamental - `if` allows you to tell a script to evaluate `[something]` and to perform a task **conditional upon that evaluation**.\n",
    "\n",
    "Think about it for a moment: If a set of data isn't in one project, reproject it. If files aren't in a directory, go get them. Etc.\n",
    "\n",
    "### Of course, what if we want it to do something `else`\n"
   ]
  },
  {
   "cell_type": "code",
   "execution_count": 6,
   "metadata": {},
   "outputs": [
    {
     "name": "stdout",
     "output_type": "stream",
     "text": [
      "Checking your number...\n",
      "Not quite big enough, I\"m afraid\n"
     ]
    }
   ],
   "source": [
    "x = 10\n",
    "\n",
    "print('Checking your number...')\n",
    "if x > 20:\n",
    "    print('What a big number!')\n",
    "else:\n",
    "    print('Not quite big enough, I\"m afraid')"
   ]
  },
  {
   "cell_type": "markdown",
   "metadata": {},
   "source": [
    "### Simple enough.\n",
    "\n",
    "Now, let's introduce `elif` which stands for \"else if...\"\n",
    "\n",
    "Basically, this allows you to chain a bunch of `if` statements together. Bearing in mind, **ONLY THE FIRST STATEMENT THAT EVALUATES TO TRUE WILL BE PERFORMED**.\n",
    "\n",
    "Let's look at this:"
   ]
  },
  {
   "cell_type": "code",
   "execution_count": 7,
   "metadata": {},
   "outputs": [
    {
     "name": "stdout",
     "output_type": "stream",
     "text": [
      "Checking your number...\n",
      "Pretty big!\n"
     ]
    }
   ],
   "source": [
    "x = 16\n",
    "\n",
    "print('Checking your number...')\n",
    "if x > 20:\n",
    "    print('What a big number!')\n",
    "elif x > 15:\n",
    "    print('Pretty big!')\n",
    "elif x > 10:\n",
    "    print('This is a fine number')\n",
    "else:\n",
    "    print('This number is too small')"
   ]
  },
  {
   "cell_type": "markdown",
   "metadata": {},
   "source": [
    "#### Note how *only* the second elif was performed.\n",
    "\n",
    "In other words, even though x **is** greater than 10 as well, only the code after `x > 15` was performed.\n",
    "\n",
    "**This is important, so I'll say it again in big letters:**\n",
    "### Only the first statement that evaluates to true will be performed.\n",
    "\n",
    "And with that, we're ready to start our lab."
   ]
  },
  {
   "cell_type": "markdown",
   "metadata": {},
   "source": [
    "## Problem 1: Can I sleep?\n",
    "\n",
    "In this fairly classic problem (so, *yes*, if you feel like it you can easily look up the answer), I'm going to give you three lists. Each list contains two values. The first value is whether it is a weekday or not. The second value is if I am on vacation or not. Your goal is to output whether or not I can sleep in.\n",
    "\n",
    "An example will help.\n",
    "\n",
    "`[True, False]` would mean that it is a weekday and I am not on vacation. **Uh oh, better get up!**\n",
    "\n",
    "`[False, False]` would mean I am not on vacation, but it also isn't a weekday. **Sleep in!**\n",
    "\n",
    "Now, of course, all of this is a bit contrived as with kids there is never any sleeping in, but it's an exercise in evaluating boolean logic."
   ]
  },
  {
   "cell_type": "code",
   "execution_count": 25,
   "metadata": {
    "scrolled": true
   },
   "outputs": [
    {
     "name": "stdout",
     "output_type": "stream",
     "text": [
      "Sleep in! weekend\n",
      "Sleep In! vacation\n",
      "Get Up! work day\n"
     ]
    }
   ],
   "source": [
    "x = [False, True]\n",
    "y = [True, True]\n",
    "z = [True, False]\n",
    "\n",
    "#x\n",
    "if x[0] == False:\n",
    "    print ('Sleep in! weekend')\n",
    "elif x[1] == True:\n",
    "    print('Sleep in! vacation')\n",
    "else:\n",
    "    print('Get Up! work day')\n",
    "\n",
    "#y\n",
    "if y[0] == False:\n",
    "    print ('Sleep In! weekend')\n",
    "elif y[1] == True:\n",
    "    print('Sleep In! vacation')\n",
    "else:\n",
    "    print('Get Up! work day')\n",
    "\n",
    "#z\n",
    "if z[0] == False:\n",
    "    print ('Sleep In! weekend')\n",
    "elif z[1] == True:\n",
    "    print('Sleep In! vacation')\n",
    "else:\n",
    "    print('Get Up! work day')"
   ]
  },
  {
   "cell_type": "markdown",
   "metadata": {},
   "source": [
    "## Problem 2: Odd addition.\n",
    "\n",
    "Another classic with a twist. Here, I'm going to give you three lists of two numbers. What I want you to do is write a script that checks each pair of numbers and *if both numbers are odd* multiplies them and prints the result. Otherwise, it prints the result of adding both numbers.\n",
    "\n",
    "Example: `[3, 5]` would return `15`.\n",
    "\n",
    "While: `[3, 6]`would return `9`.\n",
    "\n",
    "Hint: Look up the modulo operator in python (it's in your lecture as well)."
   ]
  },
  {
   "cell_type": "code",
   "execution_count": 16,
   "metadata": {},
   "outputs": [
    {
     "name": "stdout",
     "output_type": "stream",
     "text": [
      "63\n",
      "13\n",
      "7\n"
     ]
    }
   ],
   "source": [
    "a = [7, 9]\n",
    "b = [10, 3]\n",
    "c = [2, 5]\n",
    "\n",
    "#a\n",
    "if a[0]%2 and a[1]%2: \n",
    "    print (a[0]*a[1])\n",
    "else: \n",
    "    print (a[0]+a[1])\n",
    "\n",
    "#b\n",
    "if b[0]%2 and b[1]%2: \n",
    "    print (b[0]*b[1])\n",
    "else: \n",
    "    print (b[0]+b[1])\n",
    "\n",
    "#c\n",
    "if c[0]%2 and c[1]%2: \n",
    "    print (c[0]*c[1])\n",
    "else: \n",
    "    print (c[0]+c[1])\n",
    "    \n",
    "# https://stackoverflow.com/questions/21837208/check-if-a-number-is-odd-or-even-in-python"
   ]
  },
  {
   "cell_type": "markdown",
   "metadata": {},
   "source": [
    "## Problem 3: Twenty One.\n",
    "\n",
    "Here's a nice relaxing final problem.\n",
    "I'll give you two numbers, return `True` if they add up to 21, return `False` if they don't; however, if the numbers are identical, return the string \"Split\"."
   ]
  },
  {
   "cell_type": "code",
   "execution_count": 24,
   "metadata": {
    "scrolled": true
   },
   "outputs": [
    {
     "name": "stdout",
     "output_type": "stream",
     "text": [
      "True\n",
      "Split\n",
      "False\n"
     ]
    }
   ],
   "source": [
    "p = [10, 11]\n",
    "q = [8, 8]\n",
    "r = [7, 6]\n",
    "\n",
    "#p\n",
    "if p[0]+p[1] == 21:\n",
    "    print('True')\n",
    "elif p[0] == p[1]:\n",
    "    print('Split')\n",
    "else:\n",
    "    print('False')\n",
    "\n",
    "#q\n",
    "if q[0]+q[1] == 21:\n",
    "    print('True')\n",
    "elif q[0] == q[1]:\n",
    "    print('Split')\n",
    "else:\n",
    "    print('False')\n",
    "\n",
    "#r    \n",
    "if r[0]+r[1] == 21:\n",
    "    print('True')\n",
    "elif r[0] == r[1]:\n",
    "    print('Split')\n",
    "else:\n",
    "    print('False')\n",
    "    \n",
    "# Learning Python and https://www.geeksforgeeks.org/difference-operator-python/"
   ]
  },
  {
   "cell_type": "code",
   "execution_count": null,
   "metadata": {},
   "outputs": [],
   "source": []
  }
 ],
 "metadata": {
  "kernelspec": {
   "display_name": "Python 3",
   "language": "python",
   "name": "python3"
  },
  "language_info": {
   "codemirror_mode": {
    "name": "ipython",
    "version": 3
   },
   "file_extension": ".py",
   "mimetype": "text/x-python",
   "name": "python",
   "nbconvert_exporter": "python",
   "pygments_lexer": "ipython3",
   "version": "3.6.8"
  }
 },
 "nbformat": 4,
 "nbformat_minor": 2
}
