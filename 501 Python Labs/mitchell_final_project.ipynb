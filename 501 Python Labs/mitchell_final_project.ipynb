{
 "cells": [
  {
   "cell_type": "code",
   "execution_count": 16,
   "metadata": {
    "scrolled": true
   },
   "outputs": [
    {
     "name": "stdout",
     "output_type": "stream",
     "text": [
      "Downloading shapefile...\n",
      "Done\n",
      "['cb_2015_53_county_within_ua_500k.dbf', 'cb_2015_53_county_within_ua_500k.prj', 'cb_2015_53_county_within_ua_500k.shp', 'cb_2015_53_county_within_ua_500k.shx']\n"
     ]
    },
    {
     "data": {
      "text/plain": [
       "'dbf, prj, shp, shx = [filename for filename in filenames]\\nusa = gpd.read_file(\\'tmp/\\' + str(shp))\\nprint(\"Shape of the dataframe: {}\".format(usa.shape))\\nprint(\"Projection of dataframe: {}\".format(usa.crs))\\nusa.tail() #last 5 records in dataframe\\n\\n# ax = usa.plot()\\n\\nwa = usa[usa.STATEFP==\\'53\\']\\n\\nax = wa.plot()\\nax.set_title(\"WA Counties\");'"
      ]
     },
     "execution_count": 16,
     "metadata": {},
     "output_type": "execute_result"
    }
   ],
   "source": [
    "import geopandas as gpd\n",
    "import requests\n",
    "import zipfile\n",
    "import io\n",
    "import matplotlib.pyplot as plt\n",
    "%matplotlib inline\n",
    "\n",
    "#url = 'http://www2.census.gov/geo/tiger/GENZ2015/shp/cb_2015_us_county_500k.zip'\n",
    "url = 'http://www2.census.gov/geo/tiger/GENZ2015/shp/cb_2015_53_county_within_ua_500k.zip'\n",
    "print('Downloading shapefile...')\n",
    "r = requests.get(url)\n",
    "z = zipfile.ZipFile(io.BytesIO(r.content))\n",
    "print(\"Done\")\n",
    "# extract to folder\n",
    "z.extractall(path='tmp/')\n",
    "\n",
    "filenames = [y for y in sorted(z.namelist()) for ending in ['dbf', 'prj', 'shp', 'shx'] if y.endswith(ending)] \n",
    "print(filenames)\n",
    "\n",
    "'''dbf, prj, shp, shx = [filename for filename in filenames]\n",
    "usa = gpd.read_file('tmp/' + str(shp))\n",
    "print(\"Shape of the dataframe: {}\".format(usa.shape))\n",
    "print(\"Projection of dataframe: {}\".format(usa.crs))\n",
    "usa.tail() #last 5 records in dataframe\n",
    "\n",
    "# ax = usa.plot()\n",
    "\n",
    "wa = usa[usa.STATEFP=='53']\n",
    "\n",
    "ax = wa.plot()\n",
    "ax.set_title(\"WA Counties\");'''"
   ]
  },
  {
   "cell_type": "code",
   "execution_count": 17,
   "metadata": {
    "scrolled": true
   },
   "outputs": [
    {
     "name": "stdout",
     "output_type": "stream",
     "text": [
      "Downloading shapefile...\n",
      "Done\n",
      "['cb_2015_53_county_within_ua_500k.dbf', 'cb_2015_53_county_within_ua_500k.prj', 'cb_2015_53_county_within_ua_500k.shp', 'cb_2015_53_county_within_ua_500k.shx']\n"
     ]
    }
   ],
   "source": [
    "import geopandas as gpd\n",
    "import requests\n",
    "import zipfile\n",
    "import io\n",
    "import matplotlib.pyplot as plt\n",
    "%matplotlib inline\n",
    "\n",
    "#url = 'http://www2.census.gov/geo/tiger/GENZ2015/shp/cb_2015_us_county_500k.zip'\n",
    "url = 'http://www2.census.gov/geo/tiger/GENZ2015/shp/cb_2015_53_county_within_ua_500k.zip'\n",
    "print('Downloading shapefile...')\n",
    "r = requests.get(url)\n",
    "z = zipfile.ZipFile(io.BytesIO(r.content))\n",
    "print(\"Done\")\n",
    "# extract to folder\n",
    "z.extractall(path='tmp/')\n",
    "\n",
    "filenames = [y for y in sorted(z.namelist()) for ending in ['dbf', 'prj', 'shp', 'shx'] if y.endswith(ending)] \n",
    "print(filenames)"
   ]
  }
 ],
 "metadata": {
  "kernelspec": {
   "display_name": "Python 3",
   "language": "python",
   "name": "python3"
  },
  "language_info": {
   "codemirror_mode": {
    "name": "ipython",
    "version": 3
   },
   "file_extension": ".py",
   "mimetype": "text/x-python",
   "name": "python",
   "nbconvert_exporter": "python",
   "pygments_lexer": "ipython3",
   "version": "3.6.8"
  }
 },
 "nbformat": 4,
 "nbformat_minor": 2
}
