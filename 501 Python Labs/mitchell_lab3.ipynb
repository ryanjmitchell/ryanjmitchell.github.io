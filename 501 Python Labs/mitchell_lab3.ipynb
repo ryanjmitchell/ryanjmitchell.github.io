{
 "cells": [
  {
   "cell_type": "code",
   "execution_count": 3,
   "metadata": {},
   "outputs": [
    {
     "name": "stdout",
     "output_type": "stream",
     "text": [
      "T GIS 501 students are extremely happy!\n"
     ]
    }
   ],
   "source": [
    "class Students(object):\n",
    "    def __init__(self, happiness):\n",
    "        self.happiness = happiness\n",
    "        self.name = 'T GIS 501'\n",
    "    def getHappy(self):\n",
    "        print(self.name + ' students are ' + self.happiness + ' happy!')\n",
    "        \n",
    "you = Students('extremely')\n",
    "you.getHappy()\n",
    "\n",
    "\n",
    "        "
   ]
  },
  {
   "cell_type": "markdown",
   "metadata": {},
   "source": [
    "# Lab 3\n",
    "## Classes, ArcGIS API for Python, and a touch of GeoPandas\n",
    "\n",
    "This lab is going to put you through some paces creating [functions](https://www.tutorialspoint.com/python/python_functions.htm) and [classes](https://docs.python.org/3/tutorial/classes.html) and then introduce you to the [ArcGIS API for Python](https://developers.arcgis.com/python/) and [GeoPandas](http://geopandas.org/). We're slowly building towards the relatively automted acquisition, manipulation, and visualization of spatial data from heterogeneous sources and that's something to be excited about!\n",
    "\n",
    "As always, this lab scales the difficulty up a bit. If you're still working on lab 2, that's ok. You have two weeks here, take advantage of them - use the suggested texts, check the emails I've sent each Monday, come to office hours (or email me to set up a time). You can do this.\n",
    "\n",
    "### Note: If you are wondering how to install GeoPandas and the ArcGIS API, take a look at lab 2. If you're having trouble creating environments and launching jupyter notebooks, look at lab 1."
   ]
  },
  {
   "cell_type": "markdown",
   "metadata": {},
   "source": [
    "### Problem 1: Constructing a person\n",
    "\n",
    "Create a script that creates the class Person with the following properties:\n",
    "\n",
    "1. The class should initialize with a name and a birthday, but the birthday should be set as None by default.\n",
    "2. The class should have three methods: .getName(), .setBirthday(), and .getAge()\n",
    "3. .getName() returns the name of the person, .setBirthday sets the birthday to a date, and .getAge() returns how many days old the Person is.\n",
    "4. .getAge() (and therefore .setBirthday()) will require you to work with the datetime module. You can learn more about it [here](http://effbot.org/librarybook/datetime.htm)\n",
    "\n"
   ]
  },
  {
   "cell_type": "code",
   "execution_count": 2,
   "metadata": {},
   "outputs": [
    {
     "name": "stdout",
     "output_type": "stream",
     "text": [
      "Cobra Commander\n",
      "38\n",
      "13990\n"
     ]
    }
   ],
   "source": [
    "import datetime\n",
    "from datetime import date\n",
    "\n",
    "class Person:\n",
    "    def __init__(self, name, lastName):\n",
    "        self.name = name\n",
    "        self.lastName = lastName\n",
    "        self.birthdate = None\n",
    "        \n",
    "    def age(self):\n",
    "        today = datetime.date.today()\n",
    "        age = today.year - self.birthdate.year\n",
    "        \n",
    "        if today < datetime.date(today.year, self.birthdate.month, self.birthdate.day):\n",
    "            age -= 1\n",
    "            return age\n",
    "    \n",
    "    def setbirthdate(self, year, month, day):\n",
    "        self.birthdate = datetime.date(year, month, day)\n",
    "\n",
    "person = Person(\n",
    "    \"Cobra\",\n",
    "    \"Commander\")\n",
    "                                                   #year, month, date\n",
    "ageDays = (datetime.datetime.now()-datetime.datetime(1980, 10, 16)).days\n",
    "                   #year, month, date\n",
    "person.setbirthdate(1980, 10, 16)\n",
    "\n",
    "print(person.name, person.lastName)\n",
    "print(person.age())\n",
    "print(ageDays)"
   ]
  },
  {
   "cell_type": "markdown",
   "metadata": {},
   "source": [
    "### Problem 2: Happy birthday!\n",
    "\n",
    "Now, you have to create a new class called song.\n",
    "\n",
    "\n",
    "1. The class should take a variable (a string - make sure to check for this) and store it as lyrics\n",
    "2. It should have a method, .sing(), which prints out the stored lyrics.\n",
    "\n",
    "Additionally:\n",
    "\n",
    "1. Every instance of the class person should now also include a methode .checkBirthday()\n",
    "2. .checkBirthday() should see if today is someone's birthday and if so it should print out \"Happy birthday to you. Happy birthday to you. Happy birthday dear Person_Name, happy birthday to you.\"\n",
    "3. It must do this by using an instance of the Song class. In other words, the .checkBirthday() method is going to call up a specific instance of the Song class - how will you do that?\n",
    "\n",
    "**Please note:** You do not need to take input in these scripts. Although, if you wish to set up something that does so, that is fine as well.\n",
    "\n",
    "**Additional note:** In a notebook, if you run cells sequentially, classes/functions/etc. created in a previous cell will be callable in subsequent ones; however, if you're running into trouble, copy/paste your Person class down into this cell as well (You're going to be modifying it anyways...)"
   ]
  },
  {
   "cell_type": "code",
   "execution_count": 18,
   "metadata": {},
   "outputs": [
    {
     "name": "stdout",
     "output_type": "stream",
     "text": [
      "Dr. Mindbender\n",
      "Happy birthday to you. Happy birthday to you. Happy birthday, Dr. Mindbender, happy birthday to you.\n",
      "2019-02-04\n"
     ]
    }
   ],
   "source": [
    "import datetime\n",
    "from datetime import date \n",
    "    \n",
    "#person\n",
    "class Person(object):\n",
    "    name = ''\n",
    "    bday = None\n",
    "    mmdd = None\n",
    "\n",
    "    def __init__(self, var):\n",
    "        self.name = var\n",
    "    #Name\n",
    "    def getName(self):\n",
    "        return self.name\n",
    "    #Birthday\n",
    "    def setBirthday(self, yr, mo, day):\n",
    "        try:\n",
    "            self.bday = datetime.date(yr, mo, day)\n",
    "            self.mmdd = self.bday.month, self.bday.day \n",
    "        except:\n",
    "            self.bday = datetime.date(1990, 11, 1)\n",
    "            print('REDO FORMAT TO DEFAULT (11/01/1990)')\n",
    "    #Age\n",
    "    def getAge(self):\n",
    "        if self.bday == None:\n",
    "            print('Error: Birthday not set.')\n",
    "            return ''\n",
    "        else:\n",
    "            now = datetime.date.today()\n",
    "            daysAge = now - self.bday\n",
    "            return daysAge\n",
    "\n",
    "    #Song    \n",
    "    def lookupBirthday(self):\n",
    "        d = datetime.date.today()    \n",
    "        mmdd = d.month, d.day          \n",
    "        if self.mmdd == mmdd:       \n",
    "            baby = self.name  \n",
    "            print(Song.sing(baby))\n",
    "            return self.bday\n",
    "        else:\n",
    "            return self.bday\n",
    "        \n",
    "#Lyrics\n",
    "class Song(Person):\n",
    "    def sing(Person):\n",
    "        lyrics = 'Happy birthday to you. Happy birthday to you. Happy birthday', Person, 'happy birthday to you.'\n",
    "        #printed out lots of (,'\n",
    "        return str(lyrics).replace(\"'\", \"\").replace(\"(\",\"\").replace(\")\",\"\") \n",
    "\n",
    "Birth = Person('Dr. Mindbender')\n",
    "i = datetime.date.today()\n",
    "Birth.setBirthday(i.year, i.month, i.day)\n",
    "print(Birth.getName())\n",
    "print(Birth.lookupBirthday())"
   ]
  },
  {
   "cell_type": "markdown",
   "metadata": {},
   "source": [
    "### Problem 3: FizzBuzz\n",
    "\n",
    "There's an age-old programming 'challenge' called FizzBuzz. You'll often see it pop up as a very rudimentary screening against those who claim they can write code. You're going to solve a variant of it.\n",
    "\n",
    "Create a **function** (call it fizzbuzz) which takes a single number as its parameter. The function then prints out every number from 1 to the input, **except** for numbers divisible by 3 it prints out \"fizz\", for numbers divisible by 5 it prints out \"buzz\", and for numbers divisible by 3 **and** 5 it prints out \"fizzbuzz.\"\n",
    "\n",
    "For example, the output for an input of 15 would look like: 1, 2, fizz, 4, buzz, fizz, 7, 8, fizz, buzz, 11, fizz, 13, 14, fizzbuzz **Output format doesn't matter (single line, multiple lines, etc.)**\n",
    "\n",
    "A few notes:\n",
    "\n",
    "1. You must take your input from **outside** of your function.\n",
    "2. You must use a function\n",
    "3. +1 bonus point if your script doesn't fail if I put in something other than a number (in other words, if you ask me for a number and I enter 'dog' your script asks me again... *aha! error catching!*)\n"
   ]
  },
  {
   "cell_type": "code",
   "execution_count": 38,
   "metadata": {},
   "outputs": [
    {
     "name": "stdout",
     "output_type": "stream",
     "text": [
      "Start Value:1\n",
      "End Value:21\n",
      "1\n",
      "2\n",
      "fizz\n",
      "4\n",
      "buzz\n",
      "fizz\n",
      "7\n",
      "8\n",
      "fizz\n",
      "buzz\n",
      "11\n",
      "fizz\n",
      "13\n",
      "14\n",
      "fizzbuzz\n",
      "16\n",
      "17\n",
      "fizz\n",
      "19\n",
      "buzz\n",
      "fizz\n"
     ]
    }
   ],
   "source": [
    "fizzbuzz = []\n",
    "\n",
    "while True:\n",
    "    try:\n",
    "        start = int(input('Start Value:'))\n",
    "        end = int(input('End Value:'))\n",
    "    # Extra\n",
    "    except (ValueError):\n",
    "        print('Numbers You Fool!')\n",
    "    else:break\n",
    "        \n",
    "for i in range(start,end+1):\n",
    "    entry = ''\n",
    "    if i%3 == 0:\n",
    "        entry += 'fizz'\n",
    "    if i%5 == 0:\n",
    "        entry += 'buzz'\n",
    "    if i%3 != 0 and i%5 != 0:\n",
    "        entry = i\n",
    "    fizzbuzz.append(entry)\n",
    "\n",
    "    \n",
    "for i in fizzbuzz:\n",
    "    print(i)"
   ]
  },
  {
   "cell_type": "markdown",
   "metadata": {},
   "source": [
    "## ArcGIS API for Python\n",
    "\n",
    "From this point onwards in the lab, you need to be in an environment with the arcgis library installed.\n",
    "\n",
    "You can (and *should*) read more about the API [here](https://developers.arcgis.com/python/). \n",
    "\n",
    "Let's begin, run the following cell:"
   ]
  },
  {
   "cell_type": "code",
   "execution_count": 6,
   "metadata": {},
   "outputs": [
    {
     "data": {
      "application/vnd.jupyter.widget-view+json": {
       "model_id": "c3427941f92d4c0296acdf48ec593f8a",
       "version_major": 2,
       "version_minor": 0
      },
      "text/plain": [
       "MapView(layout=Layout(height='400px', width='100%'))"
      ]
     },
     "metadata": {},
     "output_type": "display_data"
    },
    {
     "data": {
      "text/html": [
       "<div class=\"map-static-img-preview-c24d84fa-1cb6-4fec-9ada-a52d7c2b502d\"><img src=\"\"></img></div>"
      ],
      "text/plain": [
       "<IPython.core.display.HTML object>"
      ]
     },
     "metadata": {},
     "output_type": "display_data"
    }
   ],
   "source": [
    "import arcgis\n",
    "\n",
    "myGIS = arcgis.GIS()\n",
    "myGIS.map()"
   ]
  },
  {
   "cell_type": "markdown",
   "metadata": {},
   "source": [
    "You should get an interactive world map. Scroll around it a bit if you want. Bear in mind, this is **not** a map that you can easily embed into a web document, it has to be called using the python API, but... still, pretty cool.\n",
    "\n",
    "Now, these next steps might throw up an error, because ESRI. Just run them again if they do."
   ]
  },
  {
   "cell_type": "code",
   "execution_count": 6,
   "metadata": {},
   "outputs": [
    {
     "name": "stdout",
     "output_type": "stream",
     "text": [
      "[{'address': 'Tacoma, Washington', 'location': {'x': -122.44163999999995, 'y': 47.255130000000065}, 'score': 100, 'attributes': {'Loc_name': 'World', 'Status': 'T', 'Score': 100, 'Match_addr': 'Tacoma, Washington', 'LongLabel': 'Tacoma, WA, USA', 'ShortLabel': 'Tacoma', 'Addr_type': 'Locality', 'Type': 'City', 'PlaceName': 'Tacoma', 'Place_addr': 'Tacoma, Washington', 'Phone': '', 'URL': '', 'Rank': 5.5, 'AddBldg': '', 'AddNum': '', 'AddNumFrom': '', 'AddNumTo': '', 'AddRange': '', 'Side': '', 'StPreDir': '', 'StPreType': '', 'StName': '', 'StType': '', 'StDir': '', 'BldgType': '', 'BldgName': '', 'LevelType': '', 'LevelName': '', 'UnitType': '', 'UnitName': '', 'SubAddr': '', 'StAddr': '', 'Block': '', 'Sector': '', 'Nbrhd': '', 'District': '', 'City': 'Tacoma', 'MetroArea': 'Seattle Metro Area', 'Subregion': 'Pierce County', 'Region': 'Washington', 'RegionAbbr': 'WA', 'Territory': '', 'Zone': '', 'Postal': '', 'PostalExt': '', 'Country': 'USA', 'LangCode': 'ENG', 'Distance': 0, 'X': -122.44163999999995, 'Y': 47.255130000000065, 'DisplayX': -122.44163999999995, 'DisplayY': 47.255130000000065, 'Xmin': -122.53363999999995, 'Xmax': -122.34963999999995, 'Ymin': 47.163130000000066, 'Ymax': 47.347130000000064, 'ExInfo': ''}, 'extent': {'xmin': -122.53363999999995, 'ymin': 47.163130000000066, 'xmax': -122.34963999999995, 'ymax': 47.347130000000064}}, {'address': 'Tacoma', 'location': {'x': -67.44999999999999, 'y': -16.299999999999955}, 'score': 100, 'attributes': {'Loc_name': 'World', 'Status': 'T', 'Score': 100, 'Match_addr': 'Tacoma', 'LongLabel': 'Tacoma, BOL', 'ShortLabel': 'Tacoma', 'Addr_type': 'Locality', 'Type': 'City', 'PlaceName': 'Tacoma', 'Place_addr': '', 'Phone': '', 'URL': '', 'Rank': 12.5, 'AddBldg': '', 'AddNum': '', 'AddNumFrom': '', 'AddNumTo': '', 'AddRange': '', 'Side': '', 'StPreDir': '', 'StPreType': '', 'StName': '', 'StType': '', 'StDir': '', 'BldgType': '', 'BldgName': '', 'LevelType': '', 'LevelName': '', 'UnitType': '', 'UnitName': '', 'SubAddr': '', 'StAddr': '', 'Block': '', 'Sector': '', 'Nbrhd': '', 'District': '', 'City': 'Tacoma', 'MetroArea': '', 'Subregion': '', 'Region': 'La Paz', 'RegionAbbr': 'La Paz', 'Territory': '', 'Zone': '', 'Postal': '', 'PostalExt': '', 'Country': 'BOL', 'LangCode': 'SPA', 'Distance': 0, 'X': -67.44999999999999, 'Y': -16.299999999999955, 'DisplayX': -67.44999999999999, 'DisplayY': -16.299999999999955, 'Xmin': -67.46, 'Xmax': -67.43999999999998, 'Ymin': -16.309999999999956, 'Ymax': -16.289999999999953, 'ExInfo': ''}, 'extent': {'xmin': -67.46, 'ymin': -16.309999999999956, 'xmax': -67.43999999999998, 'ymax': -16.289999999999953}}, {'address': 'Tacoma', 'location': {'x': -68.01666999999998, 'y': -17.016669999999976}, 'score': 100, 'attributes': {'Loc_name': 'World', 'Status': 'T', 'Score': 100, 'Match_addr': 'Tacoma', 'LongLabel': 'Tacoma, BOL', 'ShortLabel': 'Tacoma', 'Addr_type': 'Locality', 'Type': 'City', 'PlaceName': 'Tacoma', 'Place_addr': '', 'Phone': '', 'URL': '', 'Rank': 12.5, 'AddBldg': '', 'AddNum': '', 'AddNumFrom': '', 'AddNumTo': '', 'AddRange': '', 'Side': '', 'StPreDir': '', 'StPreType': '', 'StName': '', 'StType': '', 'StDir': '', 'BldgType': '', 'BldgName': '', 'LevelType': '', 'LevelName': '', 'UnitType': '', 'UnitName': '', 'SubAddr': '', 'StAddr': '', 'Block': '', 'Sector': '', 'Nbrhd': '', 'District': '', 'City': 'Tacoma', 'MetroArea': '', 'Subregion': '', 'Region': 'La Paz', 'RegionAbbr': 'La Paz', 'Territory': '', 'Zone': '', 'Postal': '', 'PostalExt': '', 'Country': 'BOL', 'LangCode': 'SPA', 'Distance': 0, 'X': -68.01666999999998, 'Y': -17.016669999999976, 'DisplayX': -68.01666999999998, 'DisplayY': -17.016669999999976, 'Xmin': -68.02666999999998, 'Xmax': -68.00666999999997, 'Ymin': -17.026669999999978, 'Ymax': -17.006669999999975, 'ExInfo': ''}, 'extent': {'xmin': -68.02666999999998, 'ymin': -17.026669999999978, 'xmax': -68.00666999999997, 'ymax': -17.006669999999975}}, {'address': 'Tacoma, New South Wales', 'location': {'x': 151.45810000000006, 'y': -33.283139999999946}, 'score': 100, 'attributes': {'Loc_name': 'World', 'Status': 'T', 'Score': 100, 'Match_addr': 'Tacoma, New South Wales', 'LongLabel': 'Tacoma, New South Wales, AUS', 'ShortLabel': 'Tacoma', 'Addr_type': 'Locality', 'Type': 'City', 'PlaceName': 'Tacoma', 'Place_addr': 'New South Wales', 'Phone': '', 'URL': '', 'Rank': 14.280000000000001, 'AddBldg': '', 'AddNum': '', 'AddNumFrom': '', 'AddNumTo': '', 'AddRange': '', 'Side': '', 'StPreDir': '', 'StPreType': '', 'StName': '', 'StType': '', 'StDir': '', 'BldgType': '', 'BldgName': '', 'LevelType': '', 'LevelName': '', 'UnitType': '', 'UnitName': '', 'SubAddr': '', 'StAddr': '', 'Block': '', 'Sector': '', 'Nbrhd': 'Tacoma', 'District': '', 'City': 'Central Coast', 'MetroArea': '', 'Subregion': 'Central Coast', 'Region': 'New South Wales', 'RegionAbbr': 'NSW', 'Territory': '', 'Zone': '', 'Postal': '', 'PostalExt': '', 'Country': 'AUS', 'LangCode': 'ENG', 'Distance': 0, 'X': 151.45810000000006, 'Y': -33.283139999999946, 'DisplayX': 151.45810000000006, 'DisplayY': -33.283139999999946, 'Xmin': 151.44810000000007, 'Xmax': 151.46810000000005, 'Ymin': -33.293139999999944, 'Ymax': -33.27313999999995, 'ExInfo': ''}, 'extent': {'xmin': 151.44810000000007, 'ymin': -33.293139999999944, 'xmax': 151.46810000000005, 'ymax': -33.27313999999995}}, {'address': 'Tacoma, Ohio', 'location': {'x': -81.14624999999995, 'y': 39.99684000000008}, 'score': 100, 'attributes': {'Loc_name': 'World', 'Status': 'T', 'Score': 100, 'Match_addr': 'Tacoma, Ohio', 'LongLabel': 'Tacoma, OH, USA', 'ShortLabel': 'Tacoma', 'Addr_type': 'Locality', 'Type': 'Village', 'PlaceName': 'Tacoma', 'Place_addr': 'Tacoma, Ohio', 'Phone': '', 'URL': '', 'Rank': 15, 'AddBldg': '', 'AddNum': '', 'AddNumFrom': '', 'AddNumTo': '', 'AddRange': '', 'Side': '', 'StPreDir': '', 'StPreType': '', 'StName': '', 'StType': '', 'StDir': '', 'BldgType': '', 'BldgName': '', 'LevelType': '', 'LevelName': '', 'UnitType': '', 'UnitName': '', 'SubAddr': '', 'StAddr': '', 'Block': '', 'Sector': '', 'Nbrhd': '', 'District': '', 'City': 'Tacoma', 'MetroArea': '', 'Subregion': 'Belmont County', 'Region': 'Ohio', 'RegionAbbr': 'OH', 'Territory': '', 'Zone': '', 'Postal': '', 'PostalExt': '', 'Country': 'USA', 'LangCode': 'ENG', 'Distance': 0, 'X': -81.14624999999995, 'Y': 39.99684000000008, 'DisplayX': -81.14624999999995, 'DisplayY': 39.99684000000008, 'Xmin': -81.15624999999996, 'Xmax': -81.13624999999995, 'Ymin': 39.98684000000008, 'Ymax': 40.006840000000075, 'ExInfo': ''}, 'extent': {'xmin': -81.15624999999996, 'ymin': 39.98684000000008, 'xmax': -81.13624999999995, 'ymax': 40.006840000000075}}, {'address': 'Tacoma, Florida', 'location': {'x': -82.31669999999997, 'y': 29.525720000000035}, 'score': 100, 'attributes': {'Loc_name': 'World', 'Status': 'T', 'Score': 100, 'Match_addr': 'Tacoma, Florida', 'LongLabel': 'Tacoma, FL, USA', 'ShortLabel': 'Tacoma', 'Addr_type': 'Locality', 'Type': 'Village', 'PlaceName': 'Tacoma', 'Place_addr': 'Tacoma, Florida', 'Phone': '', 'URL': '', 'Rank': 15, 'AddBldg': '', 'AddNum': '', 'AddNumFrom': '', 'AddNumTo': '', 'AddRange': '', 'Side': '', 'StPreDir': '', 'StPreType': '', 'StName': '', 'StType': '', 'StDir': '', 'BldgType': '', 'BldgName': '', 'LevelType': '', 'LevelName': '', 'UnitType': '', 'UnitName': '', 'SubAddr': '', 'StAddr': '', 'Block': '', 'Sector': '', 'Nbrhd': '', 'District': '', 'City': 'Tacoma', 'MetroArea': '', 'Subregion': 'Alachua County', 'Region': 'Florida', 'RegionAbbr': 'FL', 'Territory': '', 'Zone': '', 'Postal': '', 'PostalExt': '', 'Country': 'USA', 'LangCode': 'ENG', 'Distance': 0, 'X': -82.31669999999997, 'Y': 29.525720000000035, 'DisplayX': -82.31669999999997, 'DisplayY': 29.525720000000035, 'Xmin': -82.32669999999997, 'Xmax': -82.30669999999996, 'Ymin': 29.515720000000034, 'Ymax': 29.535720000000037, 'ExInfo': ''}, 'extent': {'xmin': -82.32669999999997, 'ymin': 29.515720000000034, 'xmax': -82.30669999999996, 'ymax': 29.535720000000037}}, {'address': 'Tacoma, Colorado', 'location': {'x': -107.80472999999995, 'y': 37.519570000000044}, 'score': 100, 'attributes': {'Loc_name': 'World', 'Status': 'T', 'Score': 100, 'Match_addr': 'Tacoma, Colorado', 'LongLabel': 'Tacoma, CO, USA', 'ShortLabel': 'Tacoma', 'Addr_type': 'Locality', 'Type': 'Village', 'PlaceName': 'Tacoma', 'Place_addr': 'Tacoma, Colorado', 'Phone': '', 'URL': '', 'Rank': 15, 'AddBldg': '', 'AddNum': '', 'AddNumFrom': '', 'AddNumTo': '', 'AddRange': '', 'Side': '', 'StPreDir': '', 'StPreType': '', 'StName': '', 'StType': '', 'StDir': '', 'BldgType': '', 'BldgName': '', 'LevelType': '', 'LevelName': '', 'UnitType': '', 'UnitName': '', 'SubAddr': '', 'StAddr': '', 'Block': '', 'Sector': '', 'Nbrhd': '', 'District': '', 'City': 'Tacoma', 'MetroArea': '', 'Subregion': 'La Plata County', 'Region': 'Colorado', 'RegionAbbr': 'CO', 'Territory': '', 'Zone': '', 'Postal': '', 'PostalExt': '', 'Country': 'USA', 'LangCode': 'ENG', 'Distance': 0, 'X': -107.80472999999995, 'Y': 37.519570000000044, 'DisplayX': -107.80472999999995, 'DisplayY': 37.519570000000044, 'Xmin': -107.81472999999995, 'Xmax': -107.79472999999994, 'Ymin': 37.509570000000046, 'Ymax': 37.52957000000004, 'ExInfo': ''}, 'extent': {'xmin': -107.81472999999995, 'ymin': 37.509570000000046, 'xmax': -107.79472999999994, 'ymax': 37.52957000000004}}, {'address': 'Tacoma, Town of Masonville, New York', 'location': {'x': -75.27731999999997, 'y': 42.23585000000003}, 'score': 100, 'attributes': {'Loc_name': 'World', 'Status': 'T', 'Score': 100, 'Match_addr': 'Tacoma, Town of Masonville, New York', 'LongLabel': 'Tacoma, Town of Masonville, NY, USA', 'ShortLabel': 'Tacoma', 'Addr_type': 'Locality', 'Type': 'Village', 'PlaceName': 'Tacoma', 'Place_addr': 'Town of Masonville, New York', 'Phone': '', 'URL': '', 'Rank': 15, 'AddBldg': '', 'AddNum': '', 'AddNumFrom': '', 'AddNumTo': '', 'AddRange': '', 'Side': '', 'StPreDir': '', 'StPreType': '', 'StName': '', 'StType': '', 'StDir': '', 'BldgType': '', 'BldgName': '', 'LevelType': '', 'LevelName': '', 'UnitType': '', 'UnitName': '', 'SubAddr': '', 'StAddr': '', 'Block': '', 'Sector': '', 'Nbrhd': 'Tacoma', 'District': '', 'City': 'Town of Masonville', 'MetroArea': '', 'Subregion': 'Delaware County', 'Region': 'New York', 'RegionAbbr': 'NY', 'Territory': '', 'Zone': '', 'Postal': '', 'PostalExt': '', 'Country': 'USA', 'LangCode': 'ENG', 'Distance': 0, 'X': -75.27731999999997, 'Y': 42.23585000000003, 'DisplayX': -75.27731999999997, 'DisplayY': 42.23585000000003, 'Xmin': -75.28731999999998, 'Xmax': -75.26731999999997, 'Ymin': 42.22585000000003, 'Ymax': 42.245850000000026, 'ExInfo': ''}, 'extent': {'xmin': -75.28731999999998, 'ymin': 42.22585000000003, 'xmax': -75.26731999999997, 'ymax': 42.245850000000026}}, {'address': 'Tacoma, Town of Monmouth, Maine', 'location': {'x': -69.97141999999997, 'y': 44.19346000000007}, 'score': 100, 'attributes': {'Loc_name': 'World', 'Status': 'T', 'Score': 100, 'Match_addr': 'Tacoma, Town of Monmouth, Maine', 'LongLabel': 'Tacoma, Town of Monmouth, ME, USA', 'ShortLabel': 'Tacoma', 'Addr_type': 'Locality', 'Type': 'Village', 'PlaceName': 'Tacoma', 'Place_addr': 'Town of Monmouth, Maine', 'Phone': '', 'URL': '', 'Rank': 15, 'AddBldg': '', 'AddNum': '', 'AddNumFrom': '', 'AddNumTo': '', 'AddRange': '', 'Side': '', 'StPreDir': '', 'StPreType': '', 'StName': '', 'StType': '', 'StDir': '', 'BldgType': '', 'BldgName': '', 'LevelType': '', 'LevelName': '', 'UnitType': '', 'UnitName': '', 'SubAddr': '', 'StAddr': '', 'Block': '', 'Sector': '', 'Nbrhd': 'Tacoma', 'District': '', 'City': 'Town of Monmouth', 'MetroArea': '', 'Subregion': 'Kennebec County', 'Region': 'Maine', 'RegionAbbr': 'ME', 'Territory': '', 'Zone': '', 'Postal': '', 'PostalExt': '', 'Country': 'USA', 'LangCode': 'ENG', 'Distance': 0, 'X': -69.97141999999997, 'Y': 44.19346000000007, 'DisplayX': -69.97141999999997, 'DisplayY': 44.19346000000007, 'Xmin': -69.98141999999997, 'Xmax': -69.96141999999996, 'Ymin': 44.183460000000075, 'Ymax': 44.20346000000007, 'ExInfo': ''}, 'extent': {'xmin': -69.98141999999997, 'ymin': 44.183460000000075, 'xmax': -69.96141999999996, 'ymax': 44.20346000000007}}, {'address': 'Tacoma, Virginia', 'location': {'x': -82.53691999999995, 'y': 36.93534000000005}, 'score': 100, 'attributes': {'Loc_name': 'World', 'Status': 'T', 'Score': 100, 'Match_addr': 'Tacoma, Virginia', 'LongLabel': 'Tacoma, VA, USA', 'ShortLabel': 'Tacoma', 'Addr_type': 'Locality', 'Type': 'Village', 'PlaceName': 'Tacoma', 'Place_addr': 'Tacoma, Virginia', 'Phone': '', 'URL': '', 'Rank': 15, 'AddBldg': '', 'AddNum': '', 'AddNumFrom': '', 'AddNumTo': '', 'AddRange': '', 'Side': '', 'StPreDir': '', 'StPreType': '', 'StName': '', 'StType': '', 'StDir': '', 'BldgType': '', 'BldgName': '', 'LevelType': '', 'LevelName': '', 'UnitType': '', 'UnitName': '', 'SubAddr': '', 'StAddr': '', 'Block': '', 'Sector': '', 'Nbrhd': '', 'District': '', 'City': 'Tacoma', 'MetroArea': '', 'Subregion': 'Wise County', 'Region': 'Virginia', 'RegionAbbr': 'VA', 'Territory': '', 'Zone': '', 'Postal': '', 'PostalExt': '', 'Country': 'USA', 'LangCode': 'ENG', 'Distance': 0, 'X': -82.53691999999995, 'Y': 36.93534000000005, 'DisplayX': -82.53691999999995, 'DisplayY': 36.93534000000005, 'Xmin': -82.54691999999996, 'Xmax': -82.52691999999995, 'Ymin': 36.925340000000055, 'Ymax': 36.94534000000005, 'ExInfo': ''}, 'extent': {'xmin': -82.54691999999996, 'ymin': 36.925340000000055, 'xmax': -82.52691999999995, 'ymax': 36.94534000000005}}, {'address': 'Tacoma', 'location': {'x': -145.24999999999997, 'y': 61.41667000000007}, 'score': 100, 'attributes': {'Loc_name': 'World', 'Status': 'T', 'Score': 100, 'Match_addr': 'Tacoma', 'LongLabel': 'Tacoma, AK, USA', 'ShortLabel': 'Tacoma', 'Addr_type': 'POI', 'Type': 'Ruin', 'PlaceName': 'Tacoma', 'Place_addr': 'Alaska', 'Phone': '', 'URL': '', 'Rank': 19, 'AddBldg': '', 'AddNum': '', 'AddNumFrom': '', 'AddNumTo': '', 'AddRange': '', 'Side': '', 'StPreDir': '', 'StPreType': '', 'StName': '', 'StType': '', 'StDir': '', 'BldgType': '', 'BldgName': '', 'LevelType': '', 'LevelName': '', 'UnitType': '', 'UnitName': '', 'SubAddr': '', 'StAddr': '', 'Block': '', 'Sector': '', 'Nbrhd': '', 'District': '', 'City': '', 'MetroArea': '', 'Subregion': 'Valdez-Cordova', 'Region': 'Alaska', 'RegionAbbr': 'AK', 'Territory': '', 'Zone': '', 'Postal': '', 'PostalExt': '', 'Country': 'USA', 'LangCode': 'ENG', 'Distance': 0, 'X': -145.24999999999997, 'Y': 61.41667000000007, 'DisplayX': -145.24999999999997, 'DisplayY': 61.41667000000007, 'Xmin': -145.25999999999996, 'Xmax': -145.23999999999998, 'Ymin': 61.40667000000007, 'Ymax': 61.426670000000065, 'ExInfo': ''}, 'extent': {'xmin': -145.25999999999996, 'ymin': 61.40667000000007, 'xmax': -145.23999999999998, 'ymax': 61.426670000000065}}, {'address': 'Tacoma', 'location': {'x': 6.210309937821101, 'y': 50.73189003664377}, 'score': 100, 'attributes': {'Loc_name': 'World', 'Status': 'T', 'Score': 100, 'Match_addr': 'Tacoma', 'LongLabel': 'Tacoma, Stefanstraße 1, 52223, Stolberg (Rheinland), Breinig, Nordrhein-Westfalen, DEU', 'ShortLabel': 'Tacoma', 'Addr_type': 'POI', 'Type': 'American Food', 'PlaceName': 'Tacoma', 'Place_addr': 'Stefanstraße 1, 52223, Stolberg (Rheinland), Breinig, Nordrhein-Westfalen', 'Phone': '+49 2402-30545', 'URL': '', 'Rank': 19, 'AddBldg': '', 'AddNum': '1', 'AddNumFrom': '', 'AddNumTo': '', 'AddRange': '', 'Side': 'L', 'StPreDir': '', 'StPreType': '', 'StName': 'Stefan', 'StType': 'straße', 'StDir': '', 'BldgType': '', 'BldgName': '', 'LevelType': '', 'LevelName': '', 'UnitType': '', 'UnitName': '', 'SubAddr': '', 'StAddr': 'Stefanstraße 1', 'Block': '', 'Sector': '', 'Nbrhd': '', 'District': 'Breinig', 'City': 'Stolberg (Rheinland)', 'MetroArea': '', 'Subregion': 'Aachen', 'Region': 'Nordrhein-Westfalen', 'RegionAbbr': 'Nordrhein-Westfalen', 'Territory': '', 'Zone': '', 'Postal': '52223', 'PostalExt': '', 'Country': 'DEU', 'LangCode': 'GER', 'Distance': 0, 'X': 6.210309937821101, 'Y': 50.73189003664377, 'DisplayX': 6.210220000000049, 'DisplayY': 50.73197000000005, 'Xmin': 6.2052200000000495, 'Xmax': 6.215220000000049, 'Ymin': 50.726970000000044, 'Ymax': 50.73697000000005, 'ExInfo': ''}, 'extent': {'xmin': 6.2052200000000495, 'ymin': 50.726970000000044, 'xmax': 6.215220000000049, 'ymax': 50.73697000000005}}, {'address': 'Tacoma, New South Wales', 'location': {'x': 151.4582334380001, 'y': -33.28575177199997}, 'score': 100, 'attributes': {'Loc_name': 'World', 'Status': 'T', 'Score': 100, 'Match_addr': 'Tacoma, New South Wales', 'LongLabel': 'Tacoma, New South Wales, AUS', 'ShortLabel': 'Tacoma', 'Addr_type': 'Locality', 'Type': 'Neighborhood', 'PlaceName': 'Tacoma', 'Place_addr': 'New South Wales', 'Phone': '', 'URL': '', 'Rank': 20, 'AddBldg': '', 'AddNum': '', 'AddNumFrom': '', 'AddNumTo': '', 'AddRange': '', 'Side': '', 'StPreDir': '', 'StPreType': '', 'StName': '', 'StType': '', 'StDir': '', 'BldgType': '', 'BldgName': '', 'LevelType': '', 'LevelName': '', 'UnitType': '', 'UnitName': '', 'SubAddr': '', 'StAddr': '', 'Block': '', 'Sector': '', 'Nbrhd': 'Tacoma', 'District': '', 'City': 'Central Coast', 'MetroArea': '', 'Subregion': '', 'Region': 'New South Wales', 'RegionAbbr': 'NSW', 'Territory': '', 'Zone': '', 'Postal': '', 'PostalExt': '', 'Country': 'AUS', 'LangCode': 'ENG', 'Distance': 0, 'X': 151.4582334380001, 'Y': -33.28575177199997, 'DisplayX': 151.4582334380001, 'DisplayY': -33.28575177199997, 'Xmin': 151.4482334380001, 'Xmax': 151.46823343800008, 'Ymin': -33.29575177199997, 'Ymax': -33.27575177199997, 'ExInfo': ''}, 'extent': {'xmin': 151.4482334380001, 'ymin': -33.29575177199997, 'xmax': 151.46823343800008, 'ymax': -33.27575177199997}}, {'address': 'Takoma', 'location': {'x': 107.61415000000005, 'y': 51.827150000000074}, 'score': 100, 'attributes': {'Loc_name': 'World', 'Status': 'T', 'Score': 100, 'Match_addr': 'Takoma', 'LongLabel': 'Takoma, Ulan-Ude, Respublika Buryatiya, RUS', 'ShortLabel': 'Takoma', 'Addr_type': 'POI', 'Type': 'Auto Maintenance', 'PlaceName': 'Takoma', 'Place_addr': 'Ulan-Ude, Respublika Buryatiya', 'Phone': '+7 (301) 262-29-95', 'URL': '', 'Rank': 21, 'AddBldg': '', 'AddNum': '', 'AddNumFrom': '', 'AddNumTo': '', 'AddRange': '', 'Side': '', 'StPreDir': '', 'StPreType': '', 'StName': '', 'StType': '', 'StDir': '', 'BldgType': '', 'BldgName': '', 'LevelType': '', 'LevelName': '', 'UnitType': '', 'UnitName': '', 'SubAddr': '', 'StAddr': '', 'Block': '', 'Sector': '', 'Nbrhd': '', 'District': 'Zheleznodorozhniy rayon', 'City': 'Ulan-Ude', 'MetroArea': '', 'Subregion': 'Ulan-Ude', 'Region': 'Respublika Buryatiya', 'RegionAbbr': 'Respublika Buryatiya', 'Territory': \"Sibirskiy federal'niy okrug\", 'Zone': '', 'Postal': '', 'PostalExt': '', 'Country': 'RUS', 'LangCode': 'RUX', 'Distance': 0, 'X': 107.61415000000005, 'Y': 51.827150000000074, 'DisplayX': 107.61415000000005, 'DisplayY': 51.827150000000074, 'Xmin': 107.60915000000006, 'Xmax': 107.61915000000005, 'Ymin': 51.82215000000007, 'Ymax': 51.83215000000008, 'ExInfo': ''}, 'extent': {'xmin': 107.60915000000006, 'ymin': 51.82215000000007, 'xmax': 107.61915000000005, 'ymax': 51.83215000000008}}, {'address': 'Taco del Ma', 'location': {'x': -122.02146006679425, 'y': 47.36334999610491}, 'score': 95.62, 'attributes': {'Loc_name': 'World', 'Status': 'M', 'Score': 95.62, 'Match_addr': 'Taco del Ma', 'LongLabel': 'Taco del Ma, 26565 Maple Valley Black Diamond Rd SE, Maple Valley, WA, 98038, USA', 'ShortLabel': 'Taco del Ma', 'Addr_type': 'POI', 'Type': 'Fast Food', 'PlaceName': 'Taco del Ma', 'Place_addr': '26565 Maple Valley Black Diamond Rd SE, Maple Valley, Washington, 98038', 'Phone': '(425) 584-7189', 'URL': '', 'Rank': 19, 'AddBldg': '', 'AddNum': '26565', 'AddNumFrom': '', 'AddNumTo': '', 'AddRange': '', 'Side': 'L', 'StPreDir': '', 'StPreType': '', 'StName': 'Maple Valley Black Diamond', 'StType': 'Rd', 'StDir': 'SE', 'BldgType': '', 'BldgName': '', 'LevelType': '', 'LevelName': '', 'UnitType': '', 'UnitName': '', 'SubAddr': '', 'StAddr': '26565 Maple Valley Black Diamond Rd SE', 'Block': '', 'Sector': '', 'Nbrhd': '', 'District': '', 'City': 'Maple Valley', 'MetroArea': 'Seattle Metro Area', 'Subregion': 'King County', 'Region': 'Washington', 'RegionAbbr': 'WA', 'Territory': '', 'Zone': '', 'Postal': '98038', 'PostalExt': '', 'Country': 'USA', 'LangCode': 'ENG', 'Distance': 0, 'X': -122.02146006679425, 'Y': 47.36334999610491, 'DisplayX': -122.02338999999995, 'DisplayY': 47.36325000000005, 'Xmin': -122.02838999999994, 'Xmax': -122.01838999999995, 'Ymin': 47.35825000000005, 'Ymax': 47.36825000000005, 'ExInfo': ''}, 'extent': {'xmin': -122.02838999999994, 'ymin': 47.35825000000005, 'xmax': -122.01838999999995, 'ymax': 47.36825000000005}}]\n"
     ]
    }
   ],
   "source": [
    "#Technically, I don't need to keep importing the library, \n",
    "#but this is in case the cells end up being run out of order.\n",
    "import arcgis\n",
    "\n",
    "ttown = arcgis.geocode('Tacoma')\n",
    "print(ttown)"
   ]
  },
  {
   "cell_type": "markdown",
   "metadata": {},
   "source": [
    "**Whoah, that's a lot of information**. \n",
    "\n",
    "Notice the data formats there. The top level is a list, then there are sub-items that are dictionaries, lists, etc. A list is ordered, so that means I can call the part I want like this:"
   ]
  },
  {
   "cell_type": "code",
   "execution_count": 7,
   "metadata": {},
   "outputs": [
    {
     "name": "stdout",
     "output_type": "stream",
     "text": [
      "{'address': 'Tacoma, Washington', 'location': {'x': -122.44163999999995, 'y': 47.255130000000065}, 'score': 100, 'attributes': {'Loc_name': 'World', 'Status': 'T', 'Score': 100, 'Match_addr': 'Tacoma, Washington', 'LongLabel': 'Tacoma, WA, USA', 'ShortLabel': 'Tacoma', 'Addr_type': 'Locality', 'Type': 'City', 'PlaceName': 'Tacoma', 'Place_addr': 'Tacoma, Washington', 'Phone': '', 'URL': '', 'Rank': 5.5, 'AddBldg': '', 'AddNum': '', 'AddNumFrom': '', 'AddNumTo': '', 'AddRange': '', 'Side': '', 'StPreDir': '', 'StPreType': '', 'StName': '', 'StType': '', 'StDir': '', 'BldgType': '', 'BldgName': '', 'LevelType': '', 'LevelName': '', 'UnitType': '', 'UnitName': '', 'SubAddr': '', 'StAddr': '', 'Block': '', 'Sector': '', 'Nbrhd': '', 'District': '', 'City': 'Tacoma', 'MetroArea': 'Seattle Metro Area', 'Subregion': 'Pierce County', 'Region': 'Washington', 'RegionAbbr': 'WA', 'Territory': '', 'Zone': '', 'Postal': '', 'PostalExt': '', 'Country': 'USA', 'LangCode': 'ENG', 'Distance': 0, 'X': -122.44163999999995, 'Y': 47.255130000000065, 'DisplayX': -122.44163999999995, 'DisplayY': 47.255130000000065, 'Xmin': -122.53363999999995, 'Xmax': -122.34963999999995, 'Ymin': 47.163130000000066, 'Ymax': 47.347130000000064, 'ExInfo': ''}, 'extent': {'xmin': -122.53363999999995, 'ymin': 47.163130000000066, 'xmax': -122.34963999999995, 'ymax': 47.347130000000064}}\n"
     ]
    }
   ],
   "source": [
    "import arcgis\n",
    "\n",
    "ttown = arcgis.geocode('Tacoma')[0]\n",
    "\n",
    "print(ttown)"
   ]
  },
  {
   "cell_type": "markdown",
   "metadata": {},
   "source": [
    "See that last entry? 'extent' - we're going to use that to set the extent of the map we create to our favorite dusty old jewel (again, sometimes you'll get a 'nonetype' error here, try running it again and if that *still* doesn't work, we'll troubleshoot)."
   ]
  },
  {
   "cell_type": "code",
   "execution_count": 2,
   "metadata": {},
   "outputs": [
    {
     "ename": "AttributeError",
     "evalue": "'NoneType' object has no attribute '_tools'",
     "output_type": "error",
     "traceback": [
      "\u001b[1;31m---------------------------------------------------------------------------\u001b[0m",
      "\u001b[1;31mAttributeError\u001b[0m                            Traceback (most recent call last)",
      "\u001b[1;32m<ipython-input-2-101c478930a1>\u001b[0m in \u001b[0;36m<module>\u001b[1;34m\u001b[0m\n\u001b[0;32m      1\u001b[0m \u001b[1;32mimport\u001b[0m \u001b[0marcgis\u001b[0m\u001b[1;33m\u001b[0m\u001b[1;33m\u001b[0m\u001b[0m\n\u001b[0;32m      2\u001b[0m \u001b[1;33m\u001b[0m\u001b[0m\n\u001b[1;32m----> 3\u001b[1;33m \u001b[0mttown\u001b[0m \u001b[1;33m=\u001b[0m \u001b[0marcgis\u001b[0m\u001b[1;33m.\u001b[0m\u001b[0mgeocode\u001b[0m\u001b[1;33m(\u001b[0m\u001b[1;34m'Tacoma'\u001b[0m\u001b[1;33m)\u001b[0m\u001b[1;33m[\u001b[0m\u001b[1;36m0\u001b[0m\u001b[1;33m]\u001b[0m\u001b[1;33m\u001b[0m\u001b[1;33m\u001b[0m\u001b[0m\n\u001b[0m\u001b[0;32m      4\u001b[0m \u001b[1;33m\u001b[0m\u001b[0m\n\u001b[0;32m      5\u001b[0m \u001b[0mtgis\u001b[0m \u001b[1;33m=\u001b[0m \u001b[0marcgis\u001b[0m\u001b[1;33m.\u001b[0m\u001b[0mGIS\u001b[0m\u001b[1;33m(\u001b[0m\u001b[1;33m)\u001b[0m\u001b[1;33m\u001b[0m\u001b[1;33m\u001b[0m\u001b[0m\n",
      "\u001b[1;32m~\\AppData\\Local\\conda\\conda\\envs\\lab3\\lib\\site-packages\\arcgis\\geocoding\\_functions.py\u001b[0m in \u001b[0;36mgeocode\u001b[1;34m(address, search_extent, location, distance, out_sr, category, out_fields, max_locations, magic_key, for_storage, geocoder, as_featureset)\u001b[0m\n\u001b[0;32m    988\u001b[0m     \u001b[1;31m# as_featureset = False\u001b[0m\u001b[1;33m\u001b[0m\u001b[1;33m\u001b[0m\u001b[1;33m\u001b[0m\u001b[0m\n\u001b[0;32m    989\u001b[0m     \u001b[1;32mif\u001b[0m \u001b[0mgeocoder\u001b[0m \u001b[1;32mis\u001b[0m \u001b[1;32mNone\u001b[0m\u001b[1;33m:\u001b[0m\u001b[1;33m\u001b[0m\u001b[1;33m\u001b[0m\u001b[0m\n\u001b[1;32m--> 990\u001b[1;33m         \u001b[0mgeocoder\u001b[0m \u001b[1;33m=\u001b[0m \u001b[0marcgis\u001b[0m\u001b[1;33m.\u001b[0m\u001b[0menv\u001b[0m\u001b[1;33m.\u001b[0m\u001b[0mactive_gis\u001b[0m\u001b[1;33m.\u001b[0m\u001b[0m_tools\u001b[0m\u001b[1;33m.\u001b[0m\u001b[0mgeocoders\u001b[0m\u001b[1;33m[\u001b[0m\u001b[1;36m0\u001b[0m\u001b[1;33m]\u001b[0m\u001b[1;33m\u001b[0m\u001b[1;33m\u001b[0m\u001b[0m\n\u001b[0m\u001b[0;32m    991\u001b[0m     return geocoder._geocode(\n\u001b[0;32m    992\u001b[0m         \u001b[0maddress\u001b[0m\u001b[1;33m,\u001b[0m\u001b[1;33m\u001b[0m\u001b[1;33m\u001b[0m\u001b[0m\n",
      "\u001b[1;31mAttributeError\u001b[0m: 'NoneType' object has no attribute '_tools'"
     ]
    }
   ],
   "source": [
    "import arcgis\n",
    "\n",
    "ttown = arcgis.geocode('Tacoma')[0]\n",
    "\n",
    "tgis = arcgis.GIS()\n",
    "\n",
    "tmap = tgis.map()\n",
    "tmap.extent = ttown['extent']\n",
    "\n",
    "tmap"
   ]
  },
  {
   "cell_type": "markdown",
   "metadata": {},
   "source": [
    "### Nice!\n",
    "\n",
    "There's a lot more that you can do with the ArcGIS API, but right now I want to show you how to interface with our own ArcGIS Online Environment right here in your notebook."
   ]
  },
  {
   "cell_type": "code",
   "execution_count": 3,
   "metadata": {},
   "outputs": [
    {
     "name": "stdout",
     "output_type": "stream",
     "text": [
      "Test Time!\n"
     ]
    },
    {
     "name": "stderr",
     "output_type": "stream",
     "text": [
      "Unable to generate token.\n",
      "Invalid username or password.\n",
      "Invalid username or password.\n"
     ]
    },
    {
     "ename": "RuntimeError",
     "evalue": "Unable to generate token.\nInvalid username or password.\nInvalid username or password.\n(Error Code: 400)",
     "output_type": "error",
     "traceback": [
      "\u001b[1;31m---------------------------------------------------------------------------\u001b[0m",
      "\u001b[1;31mRuntimeError\u001b[0m                              Traceback (most recent call last)",
      "\u001b[1;32m<ipython-input-3-d3a357e4c4b3>\u001b[0m in \u001b[0;36m<module>\u001b[1;34m\u001b[0m\n\u001b[0;32m      4\u001b[0m \u001b[1;33m\u001b[0m\u001b[0m\n\u001b[0;32m      5\u001b[0m \u001b[1;31m#You need to enter your username and password as strings in the command below.\u001b[0m\u001b[1;33m\u001b[0m\u001b[1;33m\u001b[0m\u001b[1;33m\u001b[0m\u001b[0m\n\u001b[1;32m----> 6\u001b[1;33m \u001b[0mgis\u001b[0m \u001b[1;33m=\u001b[0m \u001b[0marcgis\u001b[0m\u001b[1;33m.\u001b[0m\u001b[0mGIS\u001b[0m\u001b[1;33m(\u001b[0m\u001b[1;34m'https://uwt-gis-geotech.maps.arcgis.com'\u001b[0m\u001b[1;33m,\u001b[0m \u001b[1;34m'YOUR_USERNAME'\u001b[0m\u001b[1;33m,\u001b[0m \u001b[1;34m'YOUR_PASSWORD'\u001b[0m\u001b[1;33m)\u001b[0m\u001b[1;33m\u001b[0m\u001b[1;33m\u001b[0m\u001b[0m\n\u001b[0m\u001b[0;32m      7\u001b[0m \u001b[1;33m\u001b[0m\u001b[0m\n\u001b[0;32m      8\u001b[0m \u001b[0mprint\u001b[0m\u001b[1;33m(\u001b[0m\u001b[1;34m'Logged in as '\u001b[0m \u001b[1;33m+\u001b[0m \u001b[0mstr\u001b[0m\u001b[1;33m(\u001b[0m\u001b[0mgis\u001b[0m\u001b[1;33m.\u001b[0m\u001b[0mproperties\u001b[0m\u001b[1;33m.\u001b[0m\u001b[0muser\u001b[0m\u001b[1;33m.\u001b[0m\u001b[0musername\u001b[0m\u001b[1;33m)\u001b[0m\u001b[1;33m)\u001b[0m\u001b[1;33m\u001b[0m\u001b[1;33m\u001b[0m\u001b[0m\n",
      "\u001b[1;32m~\\AppData\\Local\\conda\\conda\\envs\\lab3\\lib\\site-packages\\arcgis\\gis\\__init__.py\u001b[0m in \u001b[0;36m__init__\u001b[1;34m(self, url, username, password, key_file, cert_file, verify_cert, set_active, client_id, profile, **kwargs)\u001b[0m\n\u001b[0;32m    332\u001b[0m                                    \"argument when connecting to the GIS.\")\n\u001b[0;32m    333\u001b[0m             \u001b[1;32melse\u001b[0m\u001b[1;33m:\u001b[0m\u001b[1;33m\u001b[0m\u001b[1;33m\u001b[0m\u001b[0m\n\u001b[1;32m--> 334\u001b[1;33m                 \u001b[1;32mraise\u001b[0m \u001b[0me\u001b[0m\u001b[1;33m\u001b[0m\u001b[1;33m\u001b[0m\u001b[0m\n\u001b[0m\u001b[0;32m    335\u001b[0m         \u001b[1;32mtry\u001b[0m\u001b[1;33m:\u001b[0m\u001b[1;33m\u001b[0m\u001b[1;33m\u001b[0m\u001b[0m\n\u001b[0;32m    336\u001b[0m             \u001b[1;32mif\u001b[0m \u001b[0murl\u001b[0m\u001b[1;33m.\u001b[0m\u001b[0mlower\u001b[0m\u001b[1;33m(\u001b[0m\u001b[1;33m)\u001b[0m\u001b[1;33m.\u001b[0m\u001b[0mfind\u001b[0m\u001b[1;33m(\u001b[0m\u001b[1;34m\"arcgis.com\"\u001b[0m\u001b[1;33m)\u001b[0m \u001b[1;33m>\u001b[0m \u001b[1;33m-\u001b[0m\u001b[1;36m1\u001b[0m \u001b[1;32mand\u001b[0m\u001b[0;31m \u001b[0m\u001b[0;31m\\\u001b[0m\u001b[1;33m\u001b[0m\u001b[1;33m\u001b[0m\u001b[0m\n",
      "\u001b[1;32m~\\AppData\\Local\\conda\\conda\\envs\\lab3\\lib\\site-packages\\arcgis\\gis\\__init__.py\u001b[0m in \u001b[0;36m__init__\u001b[1;34m(self, url, username, password, key_file, cert_file, verify_cert, set_active, client_id, profile, **kwargs)\u001b[0m\n\u001b[0;32m    320\u001b[0m                                            \u001b[0mverify_cert\u001b[0m\u001b[1;33m=\u001b[0m\u001b[0mself\u001b[0m\u001b[1;33m.\u001b[0m\u001b[0m_verify_cert\u001b[0m\u001b[1;33m,\u001b[0m\u001b[1;33m\u001b[0m\u001b[1;33m\u001b[0m\u001b[0m\n\u001b[0;32m    321\u001b[0m                                            \u001b[0mclient_id\u001b[0m\u001b[1;33m=\u001b[0m\u001b[0mself\u001b[0m\u001b[1;33m.\u001b[0m\u001b[0m_client_id\u001b[0m\u001b[1;33m,\u001b[0m\u001b[1;33m\u001b[0m\u001b[1;33m\u001b[0m\u001b[0m\n\u001b[1;32m--> 322\u001b[1;33m                                            referer=self._referer)\n\u001b[0m\u001b[0;32m    323\u001b[0m \u001b[1;33m\u001b[0m\u001b[0m\n\u001b[0;32m    324\u001b[0m             \u001b[1;32mif\u001b[0m \u001b[1;32mnot\u001b[0m \u001b[1;33m(\u001b[0m\u001b[0mself\u001b[0m\u001b[1;33m.\u001b[0m\u001b[0m_utoken\u001b[0m \u001b[1;32mis\u001b[0m \u001b[1;32mNone\u001b[0m\u001b[1;33m)\u001b[0m\u001b[1;33m:\u001b[0m\u001b[1;33m\u001b[0m\u001b[1;33m\u001b[0m\u001b[0m\n",
      "\u001b[1;32m~\\AppData\\Local\\conda\\conda\\envs\\lab3\\lib\\site-packages\\arcgis\\_impl\\portalpy.py\u001b[0m in \u001b[0;36m__init__\u001b[1;34m(self, url, username, password, key_file, cert_file, expiration, referer, proxy_host, proxy_port, connection, workdir, tokenurl, verify_cert, client_id)\u001b[0m\n\u001b[0;32m    161\u001b[0m                                              \u001b[0mproxy_port\u001b[0m\u001b[1;33m=\u001b[0m\u001b[0mproxy_port\u001b[0m\u001b[1;33m,\u001b[0m\u001b[1;33m\u001b[0m\u001b[1;33m\u001b[0m\u001b[0m\n\u001b[0;32m    162\u001b[0m                                              \u001b[0mverify_cert\u001b[0m\u001b[1;33m=\u001b[0m\u001b[0mverify_cert\u001b[0m\u001b[1;33m,\u001b[0m\u001b[1;33m\u001b[0m\u001b[1;33m\u001b[0m\u001b[0m\n\u001b[1;32m--> 163\u001b[1;33m                                              client_id=client_id)\n\u001b[0m\u001b[0;32m    164\u001b[0m         \u001b[1;31m#self.get_version(True)\u001b[0m\u001b[1;33m\u001b[0m\u001b[1;33m\u001b[0m\u001b[1;33m\u001b[0m\u001b[0m\n\u001b[0;32m    165\u001b[0m         \u001b[0mself\u001b[0m\u001b[1;33m.\u001b[0m\u001b[0mget_properties\u001b[0m\u001b[1;33m(\u001b[0m\u001b[1;32mTrue\u001b[0m\u001b[1;33m)\u001b[0m\u001b[1;33m\u001b[0m\u001b[1;33m\u001b[0m\u001b[0m\n",
      "\u001b[1;32m~\\AppData\\Local\\conda\\conda\\envs\\lab3\\lib\\site-packages\\arcgis\\_impl\\connection.py\u001b[0m in \u001b[0;36m__init__\u001b[1;34m(self, baseurl, tokenurl, username, password, key_file, cert_file, expiration, all_ssl, referer, proxy_host, proxy_port, connection, verify_cert, client_id)\u001b[0m\n\u001b[0;32m    288\u001b[0m \u001b[1;33m\u001b[0m\u001b[0m\n\u001b[0;32m    289\u001b[0m         \u001b[1;32mif\u001b[0m \u001b[0mcert_file\u001b[0m \u001b[1;32mis\u001b[0m \u001b[1;32mNone\u001b[0m \u001b[1;32mand\u001b[0m \u001b[0mkey_file\u001b[0m \u001b[1;32mis\u001b[0m \u001b[1;32mNone\u001b[0m\u001b[1;33m:\u001b[0m\u001b[1;33m\u001b[0m\u001b[1;33m\u001b[0m\u001b[0m\n\u001b[1;32m--> 290\u001b[1;33m             \u001b[0mself\u001b[0m\u001b[1;33m.\u001b[0m\u001b[0mlogin\u001b[0m\u001b[1;33m(\u001b[0m\u001b[0musername\u001b[0m\u001b[1;33m,\u001b[0m \u001b[0mpassword\u001b[0m\u001b[1;33m,\u001b[0m \u001b[0mexpiration\u001b[0m\u001b[1;33m,\u001b[0m \u001b[0mclient_id\u001b[0m\u001b[1;33m)\u001b[0m\u001b[1;33m\u001b[0m\u001b[1;33m\u001b[0m\u001b[0m\n\u001b[0m\u001b[0;32m    291\u001b[0m \u001b[1;33m\u001b[0m\u001b[0m\n\u001b[0;32m    292\u001b[0m     \u001b[1;31m#----------------------------------------------------------------------\u001b[0m\u001b[1;33m\u001b[0m\u001b[1;33m\u001b[0m\u001b[1;33m\u001b[0m\u001b[0m\n",
      "\u001b[1;32m~\\AppData\\Local\\conda\\conda\\envs\\lab3\\lib\\site-packages\\arcgis\\_impl\\connection.py\u001b[0m in \u001b[0;36mlogin\u001b[1;34m(self, username, password, expiration, client_id)\u001b[0m\n\u001b[0;32m    539\u001b[0m \u001b[1;33m\u001b[0m\u001b[0m\n\u001b[0;32m    540\u001b[0m             \u001b[1;32mif\u001b[0m \u001b[0musername\u001b[0m \u001b[1;32mis\u001b[0m \u001b[1;32mnot\u001b[0m \u001b[1;32mNone\u001b[0m \u001b[1;32mand\u001b[0m \u001b[0mpassword\u001b[0m \u001b[1;32mis\u001b[0m \u001b[1;32mnot\u001b[0m \u001b[1;32mNone\u001b[0m\u001b[1;33m:\u001b[0m\u001b[1;33m\u001b[0m\u001b[1;33m\u001b[0m\u001b[0m\n\u001b[1;32m--> 541\u001b[1;33m                 \u001b[0mnewtoken\u001b[0m \u001b[1;33m=\u001b[0m \u001b[0mself\u001b[0m\u001b[1;33m.\u001b[0m\u001b[0mgenerate_token\u001b[0m\u001b[1;33m(\u001b[0m\u001b[0musername\u001b[0m\u001b[1;33m,\u001b[0m \u001b[0mpassword\u001b[0m\u001b[1;33m,\u001b[0m \u001b[0mexpiration\u001b[0m\u001b[1;33m,\u001b[0m \u001b[0mclient_id\u001b[0m\u001b[1;33m)\u001b[0m\u001b[1;33m\u001b[0m\u001b[1;33m\u001b[0m\u001b[0m\n\u001b[0m\u001b[0;32m    542\u001b[0m \u001b[1;33m\u001b[0m\u001b[0m\n\u001b[0;32m    543\u001b[0m                 \u001b[1;32mif\u001b[0m \u001b[0mnewtoken\u001b[0m\u001b[1;33m:\u001b[0m\u001b[1;33m\u001b[0m\u001b[1;33m\u001b[0m\u001b[0m\n",
      "\u001b[1;32m~\\AppData\\Local\\conda\\conda\\envs\\lab3\\lib\\site-packages\\arcgis\\_impl\\connection.py\u001b[0m in \u001b[0;36mgenerate_token\u001b[1;34m(self, username, password, expiration, client_id)\u001b[0m\n\u001b[0;32m    404\u001b[0m                 \u001b[1;32mif\u001b[0m \u001b[0mself\u001b[0m\u001b[1;33m.\u001b[0m\u001b[0mbaseurl\u001b[0m\u001b[1;33m.\u001b[0m\u001b[0mendswith\u001b[0m\u001b[1;33m(\u001b[0m\u001b[1;34m'/'\u001b[0m\u001b[1;33m)\u001b[0m\u001b[1;33m:\u001b[0m\u001b[1;33m\u001b[0m\u001b[1;33m\u001b[0m\u001b[0m\n\u001b[0;32m    405\u001b[0m                     resp = self.post('generateToken', postdata,\n\u001b[1;32m--> 406\u001b[1;33m                                      ssl=True, add_token=False)\n\u001b[0m\u001b[0;32m    407\u001b[0m                 \u001b[1;32melse\u001b[0m\u001b[1;33m:\u001b[0m\u001b[1;33m\u001b[0m\u001b[1;33m\u001b[0m\u001b[0m\n\u001b[0;32m    408\u001b[0m                     resp = self.post('/generateToken', postdata,\n",
      "\u001b[1;32m~\\AppData\\Local\\conda\\conda\\envs\\lab3\\lib\\site-packages\\arcgis\\_impl\\connection.py\u001b[0m in \u001b[0;36mpost\u001b[1;34m(self, path, postdata, files, ssl, compress, is_retry, use_ordered_dict, add_token, verify_cert, token, try_json, out_folder, file_name, force_bytes, add_headers)\u001b[0m\n\u001b[0;32m   1157\u001b[0m                                          verify_cert=verify_cert, is_retry=True)\n\u001b[0;32m   1158\u001b[0m \u001b[1;33m\u001b[0m\u001b[0m\n\u001b[1;32m-> 1159\u001b[1;33m                 \u001b[0mself\u001b[0m\u001b[1;33m.\u001b[0m\u001b[0m_handle_json_error\u001b[0m\u001b[1;33m(\u001b[0m\u001b[0mresp_json\u001b[0m\u001b[1;33m[\u001b[0m\u001b[1;34m'error'\u001b[0m\u001b[1;33m]\u001b[0m\u001b[1;33m,\u001b[0m \u001b[0merrorcode\u001b[0m\u001b[1;33m)\u001b[0m\u001b[1;33m\u001b[0m\u001b[1;33m\u001b[0m\u001b[0m\n\u001b[0m\u001b[0;32m   1160\u001b[0m                 \u001b[1;32mreturn\u001b[0m \u001b[1;32mNone\u001b[0m\u001b[1;33m\u001b[0m\u001b[1;33m\u001b[0m\u001b[0m\n\u001b[0;32m   1161\u001b[0m \u001b[1;33m\u001b[0m\u001b[0m\n",
      "\u001b[1;32m~\\AppData\\Local\\conda\\conda\\envs\\lab3\\lib\\site-packages\\arcgis\\_impl\\connection.py\u001b[0m in \u001b[0;36m_handle_json_error\u001b[1;34m(self, error, errorcode)\u001b[0m\n\u001b[0;32m   1178\u001b[0m \u001b[1;33m\u001b[0m\u001b[0m\n\u001b[0;32m   1179\u001b[0m         \u001b[0merrormessage\u001b[0m \u001b[1;33m=\u001b[0m \u001b[0merrormessage\u001b[0m \u001b[1;33m+\u001b[0m \u001b[1;34m\"\\n(Error Code: \"\u001b[0m \u001b[1;33m+\u001b[0m \u001b[0mstr\u001b[0m\u001b[1;33m(\u001b[0m\u001b[0merrorcode\u001b[0m\u001b[1;33m)\u001b[0m \u001b[1;33m+\u001b[0m\u001b[1;34m\")\"\u001b[0m\u001b[1;33m\u001b[0m\u001b[1;33m\u001b[0m\u001b[0m\n\u001b[1;32m-> 1180\u001b[1;33m         \u001b[1;32mraise\u001b[0m \u001b[0mRuntimeError\u001b[0m\u001b[1;33m(\u001b[0m\u001b[0merrormessage\u001b[0m\u001b[1;33m)\u001b[0m\u001b[1;33m\u001b[0m\u001b[1;33m\u001b[0m\u001b[0m\n\u001b[0m\u001b[0;32m   1181\u001b[0m \u001b[1;33m\u001b[0m\u001b[0m\n\u001b[0;32m   1182\u001b[0m \u001b[1;32mclass\u001b[0m \u001b[0m_StrictURLopener\u001b[0m\u001b[1;33m(\u001b[0m\u001b[0mrequest\u001b[0m\u001b[1;33m.\u001b[0m\u001b[0mFancyURLopener\u001b[0m\u001b[1;33m)\u001b[0m\u001b[1;33m:\u001b[0m\u001b[1;33m\u001b[0m\u001b[1;33m\u001b[0m\u001b[0m\n",
      "\u001b[1;31mRuntimeError\u001b[0m: Unable to generate token.\nInvalid username or password.\nInvalid username or password.\n(Error Code: 400)"
     ]
    }
   ],
   "source": [
    "import arcgis\n",
    "\n",
    "print('Test Time!')\n",
    "\n",
    "#You need to enter your username and password as strings in the command below.\n",
    "gis = arcgis.GIS('https://uwt-gis-geotech.maps.arcgis.com', 'YOUR_USERNAME', 'YOUR_PASSWORD')\n",
    "\n",
    "print('Logged in as ' + str(gis.properties.user.username))\n",
    "\n",
    "#Now, let's see what you have uploaded onto our AGOL!\n",
    "mysearch = gis.content.search(query='owner: YOUR_USERNAME', item_type='Feature Layer')\n",
    "#Again, you need to substitute your username in the above. For this example, I'm using Greg's.\n",
    "#DO NOT TURN IN A NOTEBOOK WITH YOUR USERNAME AND PASSWORD\n",
    "#YOU WILL LOSE POINTS\n",
    "\n",
    "\n",
    "#The following loops through every layer that belongs to the username \n",
    "#and displays a summary of it.\n",
    "for item in mysearch:\n",
    "    display(item)\n",
    "    \n"
   ]
  },
  {
   "cell_type": "markdown",
   "metadata": {},
   "source": [
    "Depending on what you've uploaded to our AGOL, you'll see different features listed above. You can add them to your map. In the cell below, I'm going to add a very simple layer that a student in the MS created at the beginning of his capstone project.\n",
    "\n",
    "For you to add your layers, you would change the name and login information accordingly.\n"
   ]
  },
  {
   "cell_type": "code",
   "execution_count": 10,
   "metadata": {},
   "outputs": [
    {
     "data": {
      "text/html": [
       "<div class=\"item_container\" style=\"height: auto; overflow: hidden; border: 1px solid #cfcfcf; border-radius: 2px; background: #f6fafa; line-height: 1.21429em; padding: 10px;\">\n",
       "                    <div class=\"item_left\" style=\"width: 210px; float: left;\">\n",
       "                       <a href='https://UWT-GIS-GeoTech.maps.arcgis.com/home/item.html?id=9caca034b0da428fb8a2be8b086c9aea' target='_blank'>\n",
       "                        <img src='data:image/png;base64,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' width='200' height='133' class=\"itemThumbnail\">\n",
       "                       </a>\n",
       "                    </div>\n",
       "\n",
       "                    <div class=\"item_right\"     style=\"float: none; width: auto; overflow: hidden;\">\n",
       "                        <a href='https://UWT-GIS-GeoTech.maps.arcgis.com/home/item.html?id=9caca034b0da428fb8a2be8b086c9aea' target='_blank'><b>Tacoma Final Report 2365 Prediction</b>\n",
       "                        </a>\n",
       "                        <br/>Feature layer generated from Interpolate Points<img src='https://UWT-GIS-GeoTech.maps.arcgis.com/home/js/jsapi/esri/css/images/item_type_icons/featureshosted16.png' style=\"vertical-align:middle;\">Feature Layer Collection by gjbcuw\n",
       "                        <br/>Last Modified: July 15, 2017\n",
       "                        <br/>0 comments, 1 views\n",
       "                    </div>\n",
       "                </div>\n",
       "                "
      ],
      "text/plain": [
       "<Item title:\"Tacoma Final Report 2365 Prediction\" type:Feature Layer Collection owner:gjbcuw>"
      ]
     },
     "metadata": {},
     "output_type": "display_data"
    },
    {
     "data": {
      "text/html": [
       "<div class=\"item_container\" style=\"height: auto; overflow: hidden; border: 1px solid #cfcfcf; border-radius: 2px; background: #f6fafa; line-height: 1.21429em; padding: 10px;\">\n",
       "                    <div class=\"item_left\" style=\"width: 210px; float: left;\">\n",
       "                       <a href='https://UWT-GIS-GeoTech.maps.arcgis.com/home/item.html?id=21e4c1e17e284fdc8e420ce9caf6b6d0' target='_blank'>\n",
       "                        <img src='data:image/png;base64,iVBORw0KGgoAAAANSUhEUgAAAMgAAACFCAIAAACR/CB7AAAACXBIWXMAAAAnAAAAJwEqCZFPAAADpElEQVR4nO3dP2sTYQDH8af+eRWXc9VJdLtoxVLBpRWXhoOKg1CxTsJzCEVxk24NdLGCXUppob06iIRCwE4huTcg6GryQAdxc45DsJTSpEnTX693+X6mNLnLPYQvz10uSW+s3W4b4KxdSnsAyCfCggRhQYKwIEFYkCAsSBAWJAgLEoQFCcKCBGFBgrAgQViQICxIEBYkCAsShAUJwoIEYUGCsCBBWJAgLEgQFiQICxKEBQnCggRhQYKwIEFYkCAsSBAWJAgLEoQFCcI6qhbHq77vnEt7INlGWJAY43+QQoEZy4RhePva+MvwddoDyZVRD2sjir5vJ17z3h/zK+2x5MqohzVh7fWit2dWfte7vhRJkhx7Gz10fTXDMLzl3839myPP8z7X69ZaW352cGclrlbiaqehJEmuFosbUXTkNk7Q7uJm4c6UWbDWdlsgx6YLL4pmdsosNBqNdru9YW2r1eo8dPg2euj6rtA512g0ZmZmhm83SZIgCIZ/nnPjnGu1Wt+2kzdLr9IeS1bJTzd0dh8/rH2ytCTdEC6UAQ7enXNv/dW9uHbwZ48jMOfcqu/X4jgIgp/WTlg77EiRKVf6WejYgFaCXWPM++bciavP/p+rKnHVGDNVejjAAJFNfe0KV33fGDPXbB6+szN1TZbG+9/YI3/eGPO1+XGwMSKD+gqrFsfGmPFSaciNdWY+z/OGfB5cfCeEtR6GxpinW1une3bn3Idg90H5xkATG3Jg1M+8Q0R7uiFzZ7BwVoQzFh+AjDLtjLUZRfet5Wh9BPFFP0hw8A4JwoIEYUGCsCBBWJAgLEgQFiQICxLphOWcW4yWU9k0zkc6Ya2Vd+rlfX6jl2OpfaTDFx/yjc8KIcHBOyQICxKEBQnCggRhQYKwIEFYkCAsSBAWJAgLEoQFCcKCBGFBgrAgQViQICxIEBYkshHWYrSc+4uv5EwGwkqSpF7eXyvvpD0QDCAb33nnlxeZk42wkDkZ2BUiiwgLEoQFCcKCBGFBgrBGnXPuuf+4GlcGXXE9DDuXWjoWYeE0KnF1c/tvjwX6uhAmcszzvE/NL6dY8XKhMFl+1+1RTpBCgl0hJAgLA3DOTfvznWt790ZYkOAYCxLMWJAgLEgQFiQICxKEBQnCggRhQYKwIEFYkCAsSBAWJAgLEoQFCcKCBGFBgrAgQViQICxIEBYkCAsShAUJwoIEYUGCsCBBWJAgLEgQFiQICxKEBQnCggRhQYKwIEFYkPgHv3wxi6BrZ3wAAAAASUVORK5CYII=' width='200' height='133' class=\"itemThumbnail\">\n",
       "                       </a>\n",
       "                    </div>\n",
       "\n",
       "                    <div class=\"item_right\"     style=\"float: none; width: auto; overflow: hidden;\">\n",
       "                        <a href='https://UWT-GIS-GeoTech.maps.arcgis.com/home/item.html?id=21e4c1e17e284fdc8e420ce9caf6b6d0' target='_blank'><b>Foreclosure_Pierce</b>\n",
       "                        </a>\n",
       "                        <br/>Foreclosure <img src='https://UWT-GIS-GeoTech.maps.arcgis.com/home/js/jsapi/esri/css/images/item_type_icons/featureshosted16.png' style=\"vertical-align:middle;\">Feature Layer Collection by gjbcuw\n",
       "                        <br/>Last Modified: May 27, 2017\n",
       "                        <br/>0 comments, 1 views\n",
       "                    </div>\n",
       "                </div>\n",
       "                "
      ],
      "text/plain": [
       "<Item title:\"Foreclosure_Pierce\" type:Feature Layer Collection owner:gjbcuw>"
      ]
     },
     "metadata": {},
     "output_type": "display_data"
    },
    {
     "data": {
      "text/html": [
       "<div class=\"item_container\" style=\"height: auto; overflow: hidden; border: 1px solid #cfcfcf; border-radius: 2px; background: #f6fafa; line-height: 1.21429em; padding: 10px;\">\n",
       "                    <div class=\"item_left\" style=\"width: 210px; float: left;\">\n",
       "                       <a href='https://UWT-GIS-GeoTech.maps.arcgis.com/home/item.html?id=52956f81567143e2affb157658ea9183' target='_blank'>\n",
       "                        <img src='http://static.arcgis.com/images/desktopapp.png' class=\"itemThumbnail\">\n",
       "                       </a>\n",
       "                    </div>\n",
       "\n",
       "                    <div class=\"item_right\"     style=\"float: none; width: auto; overflow: hidden;\">\n",
       "                        <a href='https://UWT-GIS-GeoTech.maps.arcgis.com/home/item.html?id=52956f81567143e2affb157658ea9183' target='_blank'><b>GSI in Tacoma_fieldworker</b>\n",
       "                        </a>\n",
       "                        <br/><img src='https://UWT-GIS-GeoTech.maps.arcgis.com/home/js/jsapi/esri/css/images/item_type_icons/featureshosted16.png' style=\"vertical-align:middle;\">Feature Layer Collection by kangds_MSGT\n",
       "                        <br/>Last Modified: January 30, 2018\n",
       "                        <br/>0 comments, 0 views\n",
       "                    </div>\n",
       "                </div>\n",
       "                "
      ],
      "text/plain": [
       "<Item title:\"GSI in Tacoma_fieldworker\" type:Feature Layer Collection owner:kangds_MSGT>"
      ]
     },
     "metadata": {},
     "output_type": "display_data"
    },
    {
     "data": {
      "text/html": [
       "<div class=\"item_container\" style=\"height: auto; overflow: hidden; border: 1px solid #cfcfcf; border-radius: 2px; background: #f6fafa; line-height: 1.21429em; padding: 10px;\">\n",
       "                    <div class=\"item_left\" style=\"width: 210px; float: left;\">\n",
       "                       <a href='https://UWT-GIS-GeoTech.maps.arcgis.com/home/item.html?id=bb392db63f904d269d1a2b0fb90248c9' target='_blank'>\n",
       "                        <img src='data:image/png;base64,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' width='200' height='133' class=\"itemThumbnail\">\n",
       "                       </a>\n",
       "                    </div>\n",
       "\n",
       "                    <div class=\"item_right\"     style=\"float: none; width: auto; overflow: hidden;\">\n",
       "                        <a href='https://UWT-GIS-GeoTech.maps.arcgis.com/home/item.html?id=bb392db63f904d269d1a2b0fb90248c9' target='_blank'><b>Lead Sample Locations within 7.5-Mile Buffer of Smelter</b>\n",
       "                        </a>\n",
       "                        <br/><img src='https://UWT-GIS-GeoTech.maps.arcgis.com/home/js/jsapi/esri/css/images/item_type_icons/featureshosted16.png' style=\"vertical-align:middle;\">Feature Layer Collection by apsmcd6\n",
       "                        <br/>Last Modified: May 31, 2018\n",
       "                        <br/>0 comments, 71 views\n",
       "                    </div>\n",
       "                </div>\n",
       "                "
      ],
      "text/plain": [
       "<Item title:\"Lead Sample Locations within 7.5-Mile Buffer of Smelter\" type:Feature Layer Collection owner:apsmcd6>"
      ]
     },
     "metadata": {},
     "output_type": "display_data"
    },
    {
     "data": {
      "text/html": [
       "<div class=\"item_container\" style=\"height: auto; overflow: hidden; border: 1px solid #cfcfcf; border-radius: 2px; background: #f6fafa; line-height: 1.21429em; padding: 10px;\">\n",
       "                    <div class=\"item_left\" style=\"width: 210px; float: left;\">\n",
       "                       <a href='https://UWT-GIS-GeoTech.maps.arcgis.com/home/item.html?id=430832410990493c9fee748f19b0e081' target='_blank'>\n",
       "                        <img src='http://static.arcgis.com/images/desktopapp.png' class=\"itemThumbnail\">\n",
       "                       </a>\n",
       "                    </div>\n",
       "\n",
       "                    <div class=\"item_right\"     style=\"float: none; width: auto; overflow: hidden;\">\n",
       "                        <a href='https://UWT-GIS-GeoTech.maps.arcgis.com/home/item.html?id=430832410990493c9fee748f19b0e081' target='_blank'><b>Tacoma</b>\n",
       "                        </a>\n",
       "                        <br/><img src='https://UWT-GIS-GeoTech.maps.arcgis.com/home/js/jsapi/esri/css/images/item_type_icons/featureshosted16.png' style=\"vertical-align:middle;\">Feature Layer Collection by ninak83_UWT_GIS_Cert\n",
       "                        <br/>Last Modified: May 18, 2017\n",
       "                        <br/>0 comments, 21 views\n",
       "                    </div>\n",
       "                </div>\n",
       "                "
      ],
      "text/plain": [
       "<Item title:\"Tacoma\" type:Feature Layer Collection owner:ninak83_UWT_GIS_Cert>"
      ]
     },
     "metadata": {},
     "output_type": "display_data"
    },
    {
     "data": {
      "text/html": [
       "<div class=\"item_container\" style=\"height: auto; overflow: hidden; border: 1px solid #cfcfcf; border-radius: 2px; background: #f6fafa; line-height: 1.21429em; padding: 10px;\">\n",
       "                    <div class=\"item_left\" style=\"width: 210px; float: left;\">\n",
       "                       <a href='https://UWT-GIS-GeoTech.maps.arcgis.com/home/item.html?id=4dd39426047a4d52adaec77f80baf00e' target='_blank'>\n",
       "                        <img src='data:image/png;base64,iVBORw0KGgoAAAANSUhEUgAAAMgAAACFCAIAAACR/CB7AAAACXBIWXMAAAAnAAAAJwEqCZFPAAABbElEQVR4nO3SwQ3AIBDAsNL9dz6WIEJC9gR5ZM3MB6f9twN4k7FIGIuEsUgYi4SxSBiLhLFIGIuEsUgYi4SxSBiLhLFIGIuEsUgYi4SxSBiLhLFIGIuEsUgYi4SxSBiLhLFIGIuEsUgYi4SxSBiLhLFIGIuEsUgYi4SxSBiLhLFIGIuEsUgYi4SxSBiLhLFIGIuEsUgYi4SxSBiLhLFIGIuEsUgYi4SxSBiLhLFIGIuEsUgYi4SxSBiLhLFIGIuEsUgYi4SxSBiLhLFIGIuEsUgYi4SxSBiLhLFIGIuEsUgYi4SxSBiLhLFIGIuEsUgYi4SxSBiLhLFIGIuEsUgYi4SxSBiLhLFIGIuEsUgYi4SxSBiLhLFIGIuEsUgYi4SxSBiLhLFIGIuEsUgYi4SxSBiLhLFIGIuEsUgYi4SxSBiLhLFIGIuEsUgYi4SxSBiLhLFIGIuEsUgYi4SxSBiLhLFIGIuEsUgYi4SxSGy4dQQHgizXSQAAAABJRU5ErkJggg==' width='200' height='133' class=\"itemThumbnail\">\n",
       "                       </a>\n",
       "                    </div>\n",
       "\n",
       "                    <div class=\"item_right\"     style=\"float: none; width: auto; overflow: hidden;\">\n",
       "                        <a href='https://UWT-GIS-GeoTech.maps.arcgis.com/home/item.html?id=4dd39426047a4d52adaec77f80baf00e' target='_blank'><b>TREES</b>\n",
       "                        </a>\n",
       "                        <br/>Basic tree inventory for neighborhood business districts in the City of Tacoma<img src='https://UWT-GIS-GeoTech.maps.arcgis.com/home/js/jsapi/esri/css/images/item_type_icons/featureshosted16.png' style=\"vertical-align:middle;\">Feature Layer Collection by MSGT_16_leafe\n",
       "                        <br/>Last Modified: May 16, 2016\n",
       "                        <br/>0 comments, 24 views\n",
       "                    </div>\n",
       "                </div>\n",
       "                "
      ],
      "text/plain": [
       "<Item title:\"TREES\" type:Feature Layer Collection owner:MSGT_16_leafe>"
      ]
     },
     "metadata": {},
     "output_type": "display_data"
    },
    {
     "data": {
      "text/html": [
       "<div class=\"item_container\" style=\"height: auto; overflow: hidden; border: 1px solid #cfcfcf; border-radius: 2px; background: #f6fafa; line-height: 1.21429em; padding: 10px;\">\n",
       "                    <div class=\"item_left\" style=\"width: 210px; float: left;\">\n",
       "                       <a href='https://UWT-GIS-GeoTech.maps.arcgis.com/home/item.html?id=5a96477cd8074d09a7c28d098f84cd36' target='_blank'>\n",
       "                        <img src='data:image/png;base64,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' width='200' height='133' class=\"itemThumbnail\">\n",
       "                       </a>\n",
       "                    </div>\n",
       "\n",
       "                    <div class=\"item_right\"     style=\"float: none; width: auto; overflow: hidden;\">\n",
       "                        <a href='https://UWT-GIS-GeoTech.maps.arcgis.com/home/item.html?id=5a96477cd8074d09a7c28d098f84cd36' target='_blank'><b>GSI_ELIGIBILITY</b>\n",
       "                        </a>\n",
       "                        <br/>Layer containing properties elgible for Green Stormwater installations & eligible areas <img src='https://UWT-GIS-GeoTech.maps.arcgis.com/home/js/jsapi/esri/css/images/item_type_icons/featureshosted16.png' style=\"vertical-align:middle;\">Feature Layer Collection by kangds_MSGT\n",
       "                        <br/>Last Modified: February 06, 2018\n",
       "                        <br/>0 comments, 40 views\n",
       "                    </div>\n",
       "                </div>\n",
       "                "
      ],
      "text/plain": [
       "<Item title:\"GSI_ELIGIBILITY\" type:Feature Layer Collection owner:kangds_MSGT>"
      ]
     },
     "metadata": {},
     "output_type": "display_data"
    },
    {
     "data": {
      "text/html": [
       "<div class=\"item_container\" style=\"height: auto; overflow: hidden; border: 1px solid #cfcfcf; border-radius: 2px; background: #f6fafa; line-height: 1.21429em; padding: 10px;\">\n",
       "                    <div class=\"item_left\" style=\"width: 210px; float: left;\">\n",
       "                       <a href='https://UWT-GIS-GeoTech.maps.arcgis.com/home/item.html?id=b1a3165303c747dfb7d873a6a7a27c8d' target='_blank'>\n",
       "                        <img src='data:image/png;base64,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' width='200' height='133' class=\"itemThumbnail\">\n",
       "                       </a>\n",
       "                    </div>\n",
       "\n",
       "                    <div class=\"item_right\"     style=\"float: none; width: auto; overflow: hidden;\">\n",
       "                        <a href='https://UWT-GIS-GeoTech.maps.arcgis.com/home/item.html?id=b1a3165303c747dfb7d873a6a7a27c8d' target='_blank'><b>UWT_Trees_AOI</b>\n",
       "                        </a>\n",
       "                        <br/>UWT Trees AOI<img src='https://UWT-GIS-GeoTech.maps.arcgis.com/home/js/jsapi/esri/css/images/item_type_icons/featureshosted16.png' style=\"vertical-align:middle;\">Feature Layer Collection by MSGT_16_reuben\n",
       "                        <br/>Last Modified: January 26, 2016\n",
       "                        <br/>0 comments, 1 views\n",
       "                    </div>\n",
       "                </div>\n",
       "                "
      ],
      "text/plain": [
       "<Item title:\"UWT_Trees_AOI\" type:Feature Layer Collection owner:MSGT_16_reuben>"
      ]
     },
     "metadata": {},
     "output_type": "display_data"
    },
    {
     "data": {
      "text/html": [
       "<div class=\"item_container\" style=\"height: auto; overflow: hidden; border: 1px solid #cfcfcf; border-radius: 2px; background: #f6fafa; line-height: 1.21429em; padding: 10px;\">\n",
       "                    <div class=\"item_left\" style=\"width: 210px; float: left;\">\n",
       "                       <a href='https://UWT-GIS-GeoTech.maps.arcgis.com/home/item.html?id=cce3f6ab2e214175939b8e5cee238a3e' target='_blank'>\n",
       "                        <img src='data:image/png;base64,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' width='200' height='133' class=\"itemThumbnail\">\n",
       "                       </a>\n",
       "                    </div>\n",
       "\n",
       "                    <div class=\"item_right\"     style=\"float: none; width: auto; overflow: hidden;\">\n",
       "                        <a href='https://UWT-GIS-GeoTech.maps.arcgis.com/home/item.html?id=cce3f6ab2e214175939b8e5cee238a3e' target='_blank'><b>Parcels in Tacoma floodplains and 500ft buffers</b>\n",
       "                        </a>\n",
       "                        <br/><img src='https://UWT-GIS-GeoTech.maps.arcgis.com/home/js/jsapi/esri/css/images/item_type_icons/featureshosted16.png' style=\"vertical-align:middle;\">Feature Layer Collection by zzli@uw.edu\n",
       "                        <br/>Last Modified: June 05, 2016\n",
       "                        <br/>0 comments, 53 views\n",
       "                    </div>\n",
       "                </div>\n",
       "                "
      ],
      "text/plain": [
       "<Item title:\"Parcels in Tacoma floodplains and 500ft buffers\" type:Feature Layer Collection owner:zzli@uw.edu>"
      ]
     },
     "metadata": {},
     "output_type": "display_data"
    },
    {
     "data": {
      "text/html": [
       "<div class=\"item_container\" style=\"height: auto; overflow: hidden; border: 1px solid #cfcfcf; border-radius: 2px; background: #f6fafa; line-height: 1.21429em; padding: 10px;\">\n",
       "                    <div class=\"item_left\" style=\"width: 210px; float: left;\">\n",
       "                       <a href='https://UWT-GIS-GeoTech.maps.arcgis.com/home/item.html?id=5eb92a8681bc4b2c9764e43c529e543e' target='_blank'>\n",
       "                        <img src='data:image/png;base64,iVBORw0KGgoAAAANSUhEUgAAAMgAAACFCAIAAACR/CB7AAAACXBIWXMAAAAnAAAAJwEqCZFPAAABbElEQVR4nO3SwQ3AIBDAsNL9dz6WIEJC9gR5ZM3MB6f9twN4k7FIGIuEsUgYi4SxSBiLhLFIGIuEsUgYi4SxSBiLhLFIGIuEsUgYi4SxSBiLhLFIGIuEsUgYi4SxSBiLhLFIGIuEsUgYi4SxSBiLhLFIGIuEsUgYi4SxSBiLhLFIGIuEsUgYi4SxSBiLhLFIGIuEsUgYi4SxSBiLhLFIGIuEsUgYi4SxSBiLhLFIGIuEsUgYi4SxSBiLhLFIGIuEsUgYi4SxSBiLhLFIGIuEsUgYi4SxSBiLhLFIGIuEsUgYi4SxSBiLhLFIGIuEsUgYi4SxSBiLhLFIGIuEsUgYi4SxSBiLhLFIGIuEsUgYi4SxSBiLhLFIGIuEsUgYi4SxSBiLhLFIGIuEsUgYi4SxSBiLhLFIGIuEsUgYi4SxSBiLhLFIGIuEsUgYi4SxSBiLhLFIGIuEsUgYi4SxSBiLhLFIGIuEsUgYi4SxSGy4dQQHgizXSQAAAABJRU5ErkJggg==' width='200' height='133' class=\"itemThumbnail\">\n",
       "                       </a>\n",
       "                    </div>\n",
       "\n",
       "                    <div class=\"item_right\"     style=\"float: none; width: auto; overflow: hidden;\">\n",
       "                        <a href='https://UWT-GIS-GeoTech.maps.arcgis.com/home/item.html?id=5eb92a8681bc4b2c9764e43c529e543e' target='_blank'><b>Hazards</b>\n",
       "                        </a>\n",
       "                        <br/>Report potholes and other road hazards in Tacoma<img src='https://UWT-GIS-GeoTech.maps.arcgis.com/home/js/jsapi/esri/css/images/item_type_icons/featureshosted16.png' style=\"vertical-align:middle;\">Feature Layer Collection by kbogue137\n",
       "                        <br/>Last Modified: February 05, 2018\n",
       "                        <br/>0 comments, 103 views\n",
       "                    </div>\n",
       "                </div>\n",
       "                "
      ],
      "text/plain": [
       "<Item title:\"Hazards\" type:Feature Layer Collection owner:kbogue137>"
      ]
     },
     "metadata": {},
     "output_type": "display_data"
    }
   ],
   "source": [
    "import arcgis\n",
    "\n",
    "def mapextent(location):\n",
    "    '''A very simple function that returns the map extent coordinates \n",
    "    for a string fed into it'''\n",
    "    \n",
    "    x = arcgis.geocode(location)[0]\n",
    "    return x['extent']\n",
    "\n",
    "#We're going to set our GIS as our online account\n",
    "#This means we WILL be using credits, so be careful!\n",
    "\n",
    "gis = arcgis.GIS('https://uwt-gis-geotech.maps.arcgis.com', 'YOUR_USERNAME', 'YOUR_PASSWORD')\n",
    "tmap = gis.map()\n",
    "tmap.extent = mapextent('Tacoma') #I call the function and pass it the string 'Tacoma'\n",
    "\n",
    "#Now I'm going to search for the layer I want and then add it to the map.\n",
    "\n",
    "tacomalayers = gis.content.search('Tacoma', 'feature_service', max_items=10)\n",
    "for item in tacomalayers:\n",
    "    display(item)"
   ]
  },
  {
   "cell_type": "markdown",
   "metadata": {},
   "source": [
    "**Note:** You will get different results than I did, I'm an admin, you aren't.\n",
    "\n",
    "Also, note, the results come as an ordered list. So, I can call them in various ways. Here, I'm going to call the fourth entry of that list and add it to my map. It's a lead sample maps."
   ]
  },
  {
   "cell_type": "code",
   "execution_count": 26,
   "metadata": {},
   "outputs": [
    {
     "ename": "NameError",
     "evalue": "name 'tacomalayers' is not defined",
     "output_type": "error",
     "traceback": [
      "\u001b[1;31m---------------------------------------------------------------------------\u001b[0m",
      "\u001b[1;31mNameError\u001b[0m                                 Traceback (most recent call last)",
      "\u001b[1;32m<ipython-input-26-6fdc408ad7f5>\u001b[0m in \u001b[0;36m<module>\u001b[1;34m\u001b[0m\n\u001b[1;32m----> 1\u001b[1;33m \u001b[0mtmap\u001b[0m\u001b[1;33m.\u001b[0m\u001b[0madd_layer\u001b[0m\u001b[1;33m(\u001b[0m\u001b[0mtacomalayers\u001b[0m\u001b[1;33m[\u001b[0m\u001b[1;36m3\u001b[0m\u001b[1;33m]\u001b[0m\u001b[1;33m)\u001b[0m\u001b[1;33m\u001b[0m\u001b[1;33m\u001b[0m\u001b[0m\n\u001b[0m\u001b[0;32m      2\u001b[0m \u001b[1;33m\u001b[0m\u001b[0m\n\u001b[0;32m      3\u001b[0m \u001b[1;31m#and now let's look at it\u001b[0m\u001b[1;33m\u001b[0m\u001b[1;33m\u001b[0m\u001b[1;33m\u001b[0m\u001b[0m\n\u001b[0;32m      4\u001b[0m \u001b[0mtmap\u001b[0m\u001b[1;33m\u001b[0m\u001b[1;33m\u001b[0m\u001b[0m\n",
      "\u001b[1;31mNameError\u001b[0m: name 'tacomalayers' is not defined"
     ]
    }
   ],
   "source": [
    "tmap.add_layer(tacomalayers[3])\n",
    "\n",
    "#and now let's look at it\n",
    "tmap"
   ]
  },
  {
   "cell_type": "markdown",
   "metadata": {},
   "source": [
    "Try clicking around.\n",
    "\n",
    "Notice how you could, for example, add a whole host of layers using iteration. Now, we're going to learn a bit about processing. \n",
    "\n",
    "Now, it's time to jump into some data manipulation. We'll be taking a csv (comma separated value - a common form of flat-file data), manipulating it into something that can be displayed spatially, and then adding it to a map. We'll then also do some basic geoprocessing on it.\n",
    "\n",
    "That sounds like a lot, but you have all the tools to do this. Use pseudocode, break problems apart. Work together! Be creative - break things!\n",
    "\n",
    "In the files repository (where you found this notebook and not where you will upload it once completed), you'll find two .csv files that I grabbed from the [Results253](https://data.cityoftacoma.org/) website: Museums_in_Tacoma.csv and Tacoma_Parks.csv.\n",
    "\n",
    "We're going to use a library called [pandas](https://pandas.pydata.org/) to process this data and then add it to our map. I'll be doing the early steps, but you'll be asked to write the final scripts yourself.\n",
    "\n",
    "**Please note, I assume you have downloaded the csvs to the local directory where you also have this lab. You can review previous labs on how to handle file locations**\n",
    "\n",
    "Also note, if you installed the arcgis library and geopandas (as you need to have), pandas is already installed. If you get a `ModuleNotFoundError`, just go manually install it like any other library.\n"
   ]
  },
  {
   "cell_type": "code",
   "execution_count": 1,
   "metadata": {},
   "outputs": [
    {
     "data": {
      "text/html": [
       "<div>\n",
       "<style scoped>\n",
       "    .dataframe tbody tr th:only-of-type {\n",
       "        vertical-align: middle;\n",
       "    }\n",
       "\n",
       "    .dataframe tbody tr th {\n",
       "        vertical-align: top;\n",
       "    }\n",
       "\n",
       "    .dataframe thead th {\n",
       "        text-align: right;\n",
       "    }\n",
       "</style>\n",
       "<table border=\"1\" class=\"dataframe\">\n",
       "  <thead>\n",
       "    <tr style=\"text-align: right;\">\n",
       "      <th></th>\n",
       "      <th>Park Name</th>\n",
       "      <th>Park Description</th>\n",
       "      <th>Park Location</th>\n",
       "    </tr>\n",
       "  </thead>\n",
       "  <tbody>\n",
       "    <tr>\n",
       "      <th>0</th>\n",
       "      <td>Manitou Park</td>\n",
       "      <td>Established in 1915, what was once a tourist c...</td>\n",
       "      <td>4408 S. Manitou Park\\r\\nTacoma, WA</td>\n",
       "    </tr>\n",
       "    <tr>\n",
       "      <th>1</th>\n",
       "      <td>McKinley Park</td>\n",
       "      <td>Pathways among the trees and new playground eq...</td>\n",
       "      <td>907 Upper Park St.\\r\\nTacoma, WA</td>\n",
       "    </tr>\n",
       "    <tr>\n",
       "      <th>2</th>\n",
       "      <td>Oak Tree Park</td>\n",
       "      <td>Oak Tree Park is a 25 acre parcel that compris...</td>\n",
       "      <td>S 74th and Cedar St.\\r\\nTacoma, WA</td>\n",
       "    </tr>\n",
       "    <tr>\n",
       "      <th>3</th>\n",
       "      <td>Puget Creek Natural Area</td>\n",
       "      <td>At 66-acres, this natural area has one of only...</td>\n",
       "      <td>N. Alder Way &amp;amp; N. Lawrence St.\\r\\nTacoma, WA</td>\n",
       "    </tr>\n",
       "    <tr>\n",
       "      <th>4</th>\n",
       "      <td>Ruston Way</td>\n",
       "      <td>This two-mile long scenic waterfront with pano...</td>\n",
       "      <td>Ruston Way\\r\\nTacoma, WA</td>\n",
       "    </tr>\n",
       "  </tbody>\n",
       "</table>\n",
       "</div>"
      ],
      "text/plain": [
       "                  Park Name  \\\n",
       "0              Manitou Park   \n",
       "1             McKinley Park   \n",
       "2             Oak Tree Park   \n",
       "3  Puget Creek Natural Area   \n",
       "4                Ruston Way   \n",
       "\n",
       "                                    Park Description  \\\n",
       "0  Established in 1915, what was once a tourist c...   \n",
       "1  Pathways among the trees and new playground eq...   \n",
       "2  Oak Tree Park is a 25 acre parcel that compris...   \n",
       "3  At 66-acres, this natural area has one of only...   \n",
       "4  This two-mile long scenic waterfront with pano...   \n",
       "\n",
       "                                      Park Location  \n",
       "0                4408 S. Manitou Park\\r\\nTacoma, WA  \n",
       "1                  907 Upper Park St.\\r\\nTacoma, WA  \n",
       "2                S 74th and Cedar St.\\r\\nTacoma, WA  \n",
       "3  N. Alder Way &amp; N. Lawrence St.\\r\\nTacoma, WA  \n",
       "4                          Ruston Way\\r\\nTacoma, WA  "
      ]
     },
     "execution_count": 1,
     "metadata": {},
     "output_type": "execute_result"
    }
   ],
   "source": [
    "import pandas\n",
    "\n",
    "parks = pandas.read_csv('Tacoma_Parks.csv')\n",
    "parks.head()"
   ]
  },
  {
   "cell_type": "code",
   "execution_count": 2,
   "metadata": {},
   "outputs": [
    {
     "data": {
      "text/html": [
       "<div>\n",
       "<style scoped>\n",
       "    .dataframe tbody tr th:only-of-type {\n",
       "        vertical-align: middle;\n",
       "    }\n",
       "\n",
       "    .dataframe tbody tr th {\n",
       "        vertical-align: top;\n",
       "    }\n",
       "\n",
       "    .dataframe thead th {\n",
       "        text-align: right;\n",
       "    }\n",
       "</style>\n",
       "<table border=\"1\" class=\"dataframe\">\n",
       "  <thead>\n",
       "    <tr style=\"text-align: right;\">\n",
       "      <th></th>\n",
       "      <th>Name</th>\n",
       "      <th>Address</th>\n",
       "      <th>City, State and ZIP Code</th>\n",
       "      <th>Location</th>\n",
       "      <th>Website</th>\n",
       "    </tr>\n",
       "  </thead>\n",
       "  <tbody>\n",
       "    <tr>\n",
       "      <th>0</th>\n",
       "      <td>Children's Museum of Tacoma</td>\n",
       "      <td>1501 Pacific Ave</td>\n",
       "      <td>Tacoma, WA 98402</td>\n",
       "      <td>1501 Pacific Ave\\r\\nTacoma, WA 98402\\r\\n(47.24...</td>\n",
       "      <td>Website (http://www.playtacoma.org/)</td>\n",
       "    </tr>\n",
       "    <tr>\n",
       "      <th>1</th>\n",
       "      <td>Museum of Glass</td>\n",
       "      <td>1801 Dock St</td>\n",
       "      <td>Tacoma, WA 98402</td>\n",
       "      <td>1801 Dock St\\r\\nTacoma, WA 98402\\r\\n(47.245401...</td>\n",
       "      <td>Website (http://museumofglass.org/visit)</td>\n",
       "    </tr>\n",
       "    <tr>\n",
       "      <th>2</th>\n",
       "      <td>Washington State History Museum</td>\n",
       "      <td>1911 Pacific Ave</td>\n",
       "      <td>Tacoma, WA 98402</td>\n",
       "      <td>1911 Pacific Ave\\r\\nTacoma, WA 98402\\r\\n(47.24...</td>\n",
       "      <td>Website (http://www.washingtonhistory.org/visi...</td>\n",
       "    </tr>\n",
       "    <tr>\n",
       "      <th>3</th>\n",
       "      <td>Foss Waterway Seaport</td>\n",
       "      <td>705 Dock St</td>\n",
       "      <td>Tacoma, WA 98402</td>\n",
       "      <td>705 Dock St\\r\\nTacoma, WA 98402\\r\\n(47.257877,...</td>\n",
       "      <td>Website (http://www.fosswaterwayseaport.org/)</td>\n",
       "    </tr>\n",
       "    <tr>\n",
       "      <th>4</th>\n",
       "      <td>Tacoma Art Museum</td>\n",
       "      <td>1701 Pacific Ave</td>\n",
       "      <td>Tacoma, WA 98402</td>\n",
       "      <td>1701 Pacific Ave\\r\\nTacoma, WA 98402\\r\\n(47.24...</td>\n",
       "      <td>Website (http://www.tacomaartmuseum.org/)</td>\n",
       "    </tr>\n",
       "  </tbody>\n",
       "</table>\n",
       "</div>"
      ],
      "text/plain": [
       "                              Name           Address City, State and ZIP Code  \\\n",
       "0      Children's Museum of Tacoma  1501 Pacific Ave         Tacoma, WA 98402   \n",
       "1                  Museum of Glass      1801 Dock St         Tacoma, WA 98402   \n",
       "2  Washington State History Museum  1911 Pacific Ave         Tacoma, WA 98402   \n",
       "3            Foss Waterway Seaport       705 Dock St         Tacoma, WA 98402   \n",
       "4                Tacoma Art Museum  1701 Pacific Ave         Tacoma, WA 98402   \n",
       "\n",
       "                                            Location  \\\n",
       "0  1501 Pacific Ave\\r\\nTacoma, WA 98402\\r\\n(47.24...   \n",
       "1  1801 Dock St\\r\\nTacoma, WA 98402\\r\\n(47.245401...   \n",
       "2  1911 Pacific Ave\\r\\nTacoma, WA 98402\\r\\n(47.24...   \n",
       "3  705 Dock St\\r\\nTacoma, WA 98402\\r\\n(47.257877,...   \n",
       "4  1701 Pacific Ave\\r\\nTacoma, WA 98402\\r\\n(47.24...   \n",
       "\n",
       "                                             Website  \n",
       "0               Website (http://www.playtacoma.org/)  \n",
       "1           Website (http://museumofglass.org/visit)  \n",
       "2  Website (http://www.washingtonhistory.org/visi...  \n",
       "3      Website (http://www.fosswaterwayseaport.org/)  \n",
       "4          Website (http://www.tacomaartmuseum.org/)  "
      ]
     },
     "execution_count": 2,
     "metadata": {},
     "output_type": "execute_result"
    }
   ],
   "source": [
    "museums = pandas.read_csv('Museums_in_Tacoma.csv')\n",
    "museums.head()"
   ]
  },
  {
   "cell_type": "markdown",
   "metadata": {},
   "source": [
    "What you should see is a nicely formatted table of the first five entries (the 'head') of each data set. Pandas is extremely powerful and has done some of the formatting for us.\n",
    "\n",
    "Take a look at that the columns, does one seem to have location information in it? Wouldn't it be useful to be able to geocode said information and add it to a map?\n",
    "\n",
    "I'm going to show you how to do this for the museums dataset and then leave you to figure out how to do so for the parks one (there's a trick to the parks file... what do you think happens when there's a space in a column name?)\n"
   ]
  },
  {
   "cell_type": "code",
   "execution_count": 5,
   "metadata": {},
   "outputs": [
    {
     "data": {
      "application/vnd.jupyter.widget-view+json": {
       "model_id": "d4ce7803b32e405c899db7a4b0878719",
       "version_major": 2,
       "version_minor": 0
      },
      "text/plain": [
       "MapView(layout=Layout(height='400px', width='100%'))"
      ]
     },
     "metadata": {},
     "output_type": "display_data"
    },
    {
     "data": {
      "text/html": [
       "<div class=\"map-static-img-preview-9956f15d-1738-49b1-9c81-e67108221cf8\"><img src=\"\"></img></div>"
      ],
      "text/plain": [
       "<IPython.core.display.HTML object>"
      ]
     },
     "metadata": {},
     "output_type": "display_data"
    }
   ],
   "source": [
    "import pandas, arcgis\n",
    "\n",
    "def mapextent(location):\n",
    "    '''A very simple function that returns the map extent coordinates for a string fed into it'''\n",
    "    x = arcgis.geocode(location)[0]\n",
    "    return x['extent']\n",
    "\n",
    "#Setting up our base map.\n",
    "gis = arcgis.GIS('https://uwt-gis-geotech.maps.arcgis.com', 'USER_NAME', 'PASSWORD')\n",
    "tmap = gis.map()\n",
    "tmap.extent = mapextent('Tacoma') #I call the function and pass it the string 'Tacoma'\n",
    "\n",
    "\n",
    "#We can import pandas data fields into the ArcGIS library so long as we set an 'address' field.\n",
    "museumsgis = gis.content.import_data(museums, {'Address' : 'Location'})\n",
    "tmap.add_layer(museumsgis)\n",
    "\n",
    "tmap"
   ]
  },
  {
   "cell_type": "markdown",
   "metadata": {},
   "source": [
    "### Problem 4: Display both layers on a single map.\n",
    "\n",
    "+1 bonus points if you display them in different colors."
   ]
  },
  {
   "cell_type": "code",
   "execution_count": 6,
   "metadata": {},
   "outputs": [
    {
     "data": {
      "application/vnd.jupyter.widget-view+json": {
       "model_id": "22a645f2adb543c2b7039b2e9b602ee1",
       "version_major": 2,
       "version_minor": 0
      },
      "text/plain": [
       "MapView(layout=Layout(height='400px', width='100%'))"
      ]
     },
     "metadata": {},
     "output_type": "display_data"
    },
    {
     "data": {
      "text/html": [
       "<div class=\"map-static-img-preview-40e74175-dc3e-464e-a11d-555c0d89fe20\"><img src=\"\"></img></div>"
      ],
      "text/plain": [
       "<IPython.core.display.HTML object>"
      ]
     },
     "metadata": {},
     "output_type": "display_data"
    }
   ],
   "source": [
    "import arcgis, pandas\n",
    "\n",
    "\n",
    "\n",
    "def mapextent(location):\n",
    "    '''A very simple function that returns the map extent coordinates for a string fed into it'''\n",
    "    x = arcgis.geocode(location)[0]\n",
    "    return x['extent']\n",
    "\n",
    "#Setting up our base map.\n",
    "gis = arcgis.GIS('https://uwt-gis-geotech.maps.arcgis.com', 'USER_NAME', 'PASSWORD')\n",
    "tmap = gis.map()\n",
    "tmap.extent = mapextent('Tacoma') #I call the function and pass it the string 'Tacoma'\n",
    "\n",
    "\n",
    "#We can import pandas data fields into the ArcGIS library so long as we set an 'address' field.\n",
    "museumsgis = gis.content.import_data(museums, {'Address' : 'Location'})\n",
    "tmap.add_layer(museumsgis)\n",
    "\n",
    "parksgis = gis.content.import_data(parks, {'Address' : 'Park_Location'})\n",
    "tmap.add_layer(parksgis)\n",
    "\n",
    "tmap"
   ]
  },
  {
   "cell_type": "markdown",
   "metadata": {},
   "source": [
    "**Good work!**\n",
    "\n",
    "Ok, now let's do some spatial analysis. You'll want to read up on the arcgis.features module, you can find that information [here](https://esri.github.io/arcgis-python-api/apidoc/html/arcgis.features.toc.html).\n",
    "\n",
    "There are a lot of ways to do this and the way we're going to do it is just one. We'll be using the arcgis.features.analysis.find_nearest() tool."
   ]
  },
  {
   "cell_type": "code",
   "execution_count": 4,
   "metadata": {},
   "outputs": [
    {
     "name": "stdout",
     "output_type": "stream",
     "text": [
      "{'nearest_layer': <FeatureCollection>, 'connecting_lines_layer': <FeatureCollection>}\n"
     ]
    }
   ],
   "source": [
    "import arcgis, pandas\n",
    "\n",
    "#First, as above, we'll set up our map and add in our feature.\n",
    "def mapextent(location):\n",
    "    '''A very simple function that returns the map extent coordinates for a string fed into it'''\n",
    "    x = arcgis.geocode(location)[0]\n",
    "    return x['extent']\n",
    "\n",
    "#Setting up our base map.\n",
    "gis = arcgis.GIS('https://uwt-gis-geotech.maps.arcgis.com', 'USER_NAME', 'PASSWORD')\n",
    "tmap = gis.map()\n",
    "tmap.extent = mapextent('Tacoma') #I call the function and pass it the string 'Tacoma'\n",
    "\n",
    "#We can import pandas data fields into the ArcGIS library so long as we set an 'address' field.\n",
    "museumsgis = gis.content.import_data(museums, {'Address' : 'Location'})\n",
    "\n",
    "#LIKE BEFORE, YOU NEED TO ADD IN THE PARKS LAYER HERE!\n",
    "parksgis = gis.content.import_data(parks, {'Address' : 'Park_Location'})\n",
    "\n",
    "#Now, we're going to use the find_nearest sub-module of the arcgis.features.analysis module!\n",
    "nearestpark = arcgis.features.analysis.find_nearest(museumsgis, parksgis, max_count=1)\n",
    "\n",
    "print(nearestpark)"
   ]
  },
  {
   "cell_type": "markdown",
   "metadata": {},
   "source": [
    "Hmmm, what's going on there? It looks like the find_nearest() command returns a dictionary of two feature classes.\n",
    "\n",
    "(Note: I used max_count=1 to set it so that for each result, only the absolutely shortest pair was returned).\n",
    "\n",
    "Let's add our museums, our parks, and the lines that connect the shortest pairs together.\n",
    "\n",
    "### Problem 5: Museum and park pairs.\n",
    "\n",
    "Display a map that has each museum connected to the park to which it is closest.\n",
    "\n",
    "+1 bonus point if you use driving distance (this is a parameter you can pass to the find_nearest() function)."
   ]
  },
  {
   "cell_type": "code",
   "execution_count": 7,
   "metadata": {},
   "outputs": [
    {
     "data": {
      "application/vnd.jupyter.widget-view+json": {
       "model_id": "afe78b4563a04f16a13fa7f207a66176",
       "version_major": 2,
       "version_minor": 0
      },
      "text/plain": [
       "MapView(layout=Layout(height='400px', width='100%'))"
      ]
     },
     "metadata": {},
     "output_type": "display_data"
    },
    {
     "data": {
      "text/html": [
       "<div class=\"map-static-img-preview-e972d5f4-1b4e-403d-9cc4-27f8605c9499\"><img src=\"\"></img></div>"
      ],
      "text/plain": [
       "<IPython.core.display.HTML object>"
      ]
     },
     "metadata": {},
     "output_type": "display_data"
    }
   ],
   "source": [
    "import arcgis, pandas\n",
    "\n",
    "def mapextent(location):\n",
    "    '''A very simple function that returns the map extent coordinates for a string fed into it'''\n",
    "    x = arcgis.geocode(location)[0]\n",
    "    return x['extent']\n",
    "\n",
    "#Setting up our base map.\n",
    "gis = arcgis.GIS('https://uwt-gis-geotech.maps.arcgis.com', 'USER_NAME', 'PASSWORD')\n",
    "tmap = gis.map()\n",
    "tmap.extent = mapextent('Tacoma') #I call the function and pass it the string 'Tacoma'\n",
    "\n",
    "\n",
    "#We can import pandas data fields into the ArcGIS library so long as we set an 'address' field.\n",
    "museumsgis = gis.content.import_data(museums, {'Address' : 'Location'})\n",
    "tmap.add_layer(museumsgis)\n",
    "\n",
    "parksgis = gis.content.import_data(parks, {'Address' : 'Park_Location'})\n",
    "tmap.add_layer(parksgis)\n",
    "\n",
    "\n",
    "nearestpark = arcgis.features.analysis.find_nearest(museumsgis, parksgis, max_count=1,)\n",
    "tmap.add_layer(nearestpark['connecting_lines_layer'])\n",
    "               \n",
    "tmap"
   ]
  },
  {
   "cell_type": "markdown",
   "metadata": {},
   "source": [
    "## That's it, you're done! \n",
    "### Next week, we'll work on GeoPandas *and* Folium\n",
    "\n",
    "But, let's try a bonus question. \n",
    "**Full disclosure:** While I know this can be done, I haven't actually done it. The find_nearest() function doesn't allow for queries on it, so you might have to do this with an entirely different function. **That's why it's a bonus question**. \n",
    "#### Don't try this until you've finished the rest of the lab.\n",
    "\n",
    "### Bonus Problem: Create a map that has on it **only** the shortest combined driving distance between the set of a school, a park, and a museum \n",
    "\n",
    "Put colloquially, you are going to drive from a school, to a park, and then to a museum and you need the **set** that has the lowest combined driving time between the three places (in that order school -> park -> museum).\n",
    "\n",
    "**+4 points, partial credit possible**"
   ]
  },
  {
   "cell_type": "code",
   "execution_count": 10,
   "metadata": {},
   "outputs": [
    {
     "data": {
      "text/html": [
       "<div>\n",
       "<style scoped>\n",
       "    .dataframe tbody tr th:only-of-type {\n",
       "        vertical-align: middle;\n",
       "    }\n",
       "\n",
       "    .dataframe tbody tr th {\n",
       "        vertical-align: top;\n",
       "    }\n",
       "\n",
       "    .dataframe thead th {\n",
       "        text-align: right;\n",
       "    }\n",
       "</style>\n",
       "<table border=\"1\" class=\"dataframe\">\n",
       "  <thead>\n",
       "    <tr style=\"text-align: right;\">\n",
       "      <th></th>\n",
       "      <th>School Name</th>\n",
       "      <th>Grades</th>\n",
       "      <th>Phone</th>\n",
       "      <th>School Location</th>\n",
       "    </tr>\n",
       "  </thead>\n",
       "  <tbody>\n",
       "    <tr>\n",
       "      <th>0</th>\n",
       "      <td>Downing</td>\n",
       "      <td>Elementary</td>\n",
       "      <td>253-571-7100</td>\n",
       "      <td>2502 North Orchard\\r\\nTacoma, WA</td>\n",
       "    </tr>\n",
       "    <tr>\n",
       "      <th>1</th>\n",
       "      <td>Lowell</td>\n",
       "      <td>Elementary</td>\n",
       "      <td>253-571-7200</td>\n",
       "      <td>810 Mr. Dahl Drive\\r\\nTacoma, WA</td>\n",
       "    </tr>\n",
       "    <tr>\n",
       "      <th>2</th>\n",
       "      <td>Truman</td>\n",
       "      <td>Middle Schools</td>\n",
       "      <td>253-571-5600</td>\n",
       "      <td>253-571-5600\\r\\nTacoma, WA</td>\n",
       "    </tr>\n",
       "    <tr>\n",
       "      <th>3</th>\n",
       "      <td>Skyline</td>\n",
       "      <td>Elementary</td>\n",
       "      <td>253-571-7800</td>\n",
       "      <td>2301 North Mildred Street\\r\\nTacoma, WA\\r\\n(47...</td>\n",
       "    </tr>\n",
       "    <tr>\n",
       "      <th>4</th>\n",
       "      <td>Manitou Park</td>\n",
       "      <td>Elementary</td>\n",
       "      <td>253-571-5300</td>\n",
       "      <td>4330 South 66th Street\\r\\nTacoma, WA\\r\\n(47.19...</td>\n",
       "    </tr>\n",
       "  </tbody>\n",
       "</table>\n",
       "</div>"
      ],
      "text/plain": [
       "    School Name          Grades         Phone  \\\n",
       "0       Downing      Elementary  253-571-7100   \n",
       "1        Lowell      Elementary  253-571-7200   \n",
       "2        Truman  Middle Schools  253-571-5600   \n",
       "3       Skyline      Elementary  253-571-7800   \n",
       "4  Manitou Park      Elementary  253-571-5300   \n",
       "\n",
       "                                     School Location  \n",
       "0                   2502 North Orchard\\r\\nTacoma, WA  \n",
       "1                   810 Mr. Dahl Drive\\r\\nTacoma, WA  \n",
       "2                         253-571-5600\\r\\nTacoma, WA  \n",
       "3  2301 North Mildred Street\\r\\nTacoma, WA\\r\\n(47...  \n",
       "4  4330 South 66th Street\\r\\nTacoma, WA\\r\\n(47.19...  "
      ]
     },
     "execution_count": 10,
     "metadata": {},
     "output_type": "execute_result"
    }
   ],
   "source": [
    "import pandas\n",
    "\n",
    "schools = pandas.read_csv('Tacoma_Schools.csv')\n",
    "schools.head()"
   ]
  },
  {
   "cell_type": "code",
   "execution_count": 11,
   "metadata": {},
   "outputs": [
    {
     "data": {
      "application/vnd.jupyter.widget-view+json": {
       "model_id": "c00bf83497d74508ace662034ae92bb2",
       "version_major": 2,
       "version_minor": 0
      },
      "text/plain": [
       "MapView(layout=Layout(height='400px', width='100%'))"
      ]
     },
     "metadata": {},
     "output_type": "display_data"
    },
    {
     "data": {
      "text/html": [
       "<div class=\"map-static-img-preview-d26aaf68-1ff1-4873-a520-cb3025f23cb8\"><img src=\"\"></img></div>"
      ],
      "text/plain": [
       "<IPython.core.display.HTML object>"
      ]
     },
     "metadata": {},
     "output_type": "display_data"
    }
   ],
   "source": [
    "import arcgis, pandas\n",
    "\n",
    "def mapextent(location):\n",
    "    '''A very simple function that returns the map extent coordinates for a string fed into it'''\n",
    "    x = arcgis.geocode(location)[0]\n",
    "    return x['extent']\n",
    "\n",
    "#Setting up our base map.\n",
    "gis = arcgis.GIS('https://uwt-gis-geotech.maps.arcgis.com', 'USER_NAME', 'PASSWORD')\n",
    "tmap = gis.map()\n",
    "tmap.extent = mapextent('Tacoma') #I call the function and pass it the string 'Tacoma'\n",
    "\n",
    "\n",
    "#We can import pandas data fields into the ArcGIS library so long as we set an 'address' field.\n",
    "museumsgis = gis.content.import_data(museums, {'Address' : 'Location'})\n",
    "tmap.add_layer(museumsgis)\n",
    "\n",
    "parksgis = gis.content.import_data(parks, {'Address' : 'Park_Location'})\n",
    "tmap.add_layer(parksgis)\n",
    "\n",
    "schoolsgis = gis.content.import_data(parks, {'Address' : '_Location'})\n",
    "tmap.add_layer(parksgis)\n",
    "\n",
    "nearestpark = arcgis.features.analysis.find_nearest(museumsgis, parksgis, schoolsgis, max_count=1,)\n",
    "tmap.add_layer(nearestpark['connecting_lines_layer'])\n",
    "               \n",
    "tmap"
   ]
  }
 ],
 "metadata": {
  "kernelspec": {
   "display_name": "Python 3",
   "language": "python",
   "name": "python3"
  },
  "language_info": {
   "codemirror_mode": {
    "name": "ipython",
    "version": 3
   },
   "file_extension": ".py",
   "mimetype": "text/x-python",
   "name": "python",
   "nbconvert_exporter": "python",
   "pygments_lexer": "ipython3",
   "version": "3.6.8"
  }
 },
 "nbformat": 4,
 "nbformat_minor": 2
}
